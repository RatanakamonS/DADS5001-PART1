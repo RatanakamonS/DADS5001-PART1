{
  "nbformat": 4,
  "nbformat_minor": 0,
  "metadata": {
    "colab": {
      "provenance": [],
      "toc_visible": true,
      "include_colab_link": true
    },
    "kernelspec": {
      "name": "python3",
      "display_name": "Python 3"
    },
    "language_info": {
      "name": "python"
    }
  },
  "cells": [
    {
      "cell_type": "markdown",
      "metadata": {
        "id": "view-in-github",
        "colab_type": "text"
      },
      "source": [
        "<a href=\"https://colab.research.google.com/github/RatanakamonS/DADS5001-PART1/blob/main/Pandas3_DADS5001_2024Sep1.ipynb\" target=\"_parent\"><img src=\"https://colab.research.google.com/assets/colab-badge.svg\" alt=\"Open In Colab\"/></a>"
      ]
    },
    {
      "cell_type": "code",
      "execution_count": 1,
      "metadata": {
        "id": "9NgKex2oX0pc",
        "colab": {
          "base_uri": "https://localhost:8080/"
        },
        "outputId": "2fbd139c-e923-416b-eaa8-3c7ea4b77c09"
      },
      "outputs": [
        {
          "output_type": "stream",
          "name": "stdout",
          "text": [
            "Python 3.10.12 (main, Jul 29 2024, 16:56:48) [GCC 11.4.0]\n",
            "Pandas 2.1.4\n",
            "NumPy 1.26.4\n",
            "IPython 7.34.0\n"
          ]
        }
      ],
      "source": [
        "import sys\n",
        "import pandas as pd\n",
        "import numpy as np\n",
        "import IPython\n",
        "from IPython.display import display\n",
        "\n",
        "print( f\"Python {sys.version}\" )\n",
        "print( f\"Pandas {pd.__version__}\" )\n",
        "print( f\"NumPy {np.__version__}\" )\n",
        "print( f\"IPython {IPython.__version__}\" )"
      ]
    },
    {
      "cell_type": "code",
      "source": [
        "# Load the pokemon dataset\n",
        "df_pokemon = pd.read_csv('https://raw.githubusercontent.com/ShaileshDhama/Exploratory-Data-Analysis-On-Pokemon-Dataset/master/Complete%20Pokemon.csv')\n",
        "df_pokemon.info()"
      ],
      "metadata": {
        "id": "E95XLazXqWjx",
        "colab": {
          "base_uri": "https://localhost:8080/"
        },
        "outputId": "44af957a-ff83-40c1-fe3b-74ffb8198611"
      },
      "execution_count": 2,
      "outputs": [
        {
          "output_type": "stream",
          "name": "stdout",
          "text": [
            "<class 'pandas.core.frame.DataFrame'>\n",
            "RangeIndex: 801 entries, 0 to 800\n",
            "Data columns (total 41 columns):\n",
            " #   Column             Non-Null Count  Dtype  \n",
            "---  ------             --------------  -----  \n",
            " 0   abilities          801 non-null    object \n",
            " 1   against_bug        801 non-null    float64\n",
            " 2   against_dark       801 non-null    float64\n",
            " 3   against_dragon     801 non-null    float64\n",
            " 4   against_electric   801 non-null    float64\n",
            " 5   against_fairy      801 non-null    float64\n",
            " 6   against_fight      801 non-null    float64\n",
            " 7   against_fire       801 non-null    float64\n",
            " 8   against_flying     801 non-null    float64\n",
            " 9   against_ghost      801 non-null    float64\n",
            " 10  against_grass      801 non-null    float64\n",
            " 11  against_ground     801 non-null    float64\n",
            " 12  against_ice        801 non-null    float64\n",
            " 13  against_normal     801 non-null    float64\n",
            " 14  against_poison     801 non-null    float64\n",
            " 15  against_psychic    801 non-null    float64\n",
            " 16  against_rock       801 non-null    float64\n",
            " 17  against_steel      801 non-null    float64\n",
            " 18  against_water      801 non-null    float64\n",
            " 19  attack             801 non-null    int64  \n",
            " 20  base_egg_steps     801 non-null    int64  \n",
            " 21  base_happiness     801 non-null    int64  \n",
            " 22  base_total         801 non-null    int64  \n",
            " 23  capture_rate       801 non-null    object \n",
            " 24  classfication      801 non-null    object \n",
            " 25  defense            801 non-null    int64  \n",
            " 26  experience_growth  801 non-null    int64  \n",
            " 27  height_m           781 non-null    float64\n",
            " 28  hp                 801 non-null    int64  \n",
            " 29  japanese_name      801 non-null    object \n",
            " 30  name               801 non-null    object \n",
            " 31  percentage_male    703 non-null    float64\n",
            " 32  pokedex_number     801 non-null    int64  \n",
            " 33  sp_attack          801 non-null    int64  \n",
            " 34  sp_defense         801 non-null    int64  \n",
            " 35  speed              801 non-null    int64  \n",
            " 36  type1              801 non-null    object \n",
            " 37  type2              417 non-null    object \n",
            " 38  weight_kg          781 non-null    float64\n",
            " 39  generation         801 non-null    int64  \n",
            " 40  is_legendary       801 non-null    int64  \n",
            "dtypes: float64(21), int64(13), object(7)\n",
            "memory usage: 256.7+ KB\n"
          ]
        }
      ]
    },
    {
      "cell_type": "markdown",
      "source": [
        "# 1. Pandas: Aggregation\n",
        "\n",
        "- Why aggregating?\n",
        "  - Efficient data summarization\n",
        "  - Allow us to squeeze data (This is very useful when the data is so big and cannot fit in one DataFrame)\n",
        "\n",
        "- For multi-dimensional data, be careful of which axis that we want to apply the aggregation along.\n",
        "- คือ การ dup เพราะโยนเข้าไปหลายๆค่า ตู้มออกมาให้ค่าเดียว"
      ],
      "metadata": {
        "id": "lDY8Jsy0IsLy"
      }
    },
    {
      "cell_type": "markdown",
      "source": [
        "## 1.1 Numeric aggregation\n",
        "\n",
        "`mean()`, `sum()`, `min()`, `max()`, `median()`, `mode()`, `std()`, `corr()` => These functions can only be applied to numeric data."
      ],
      "metadata": {
        "id": "CwXHBvGQ9pj_"
      }
    },
    {
      "cell_type": "code",
      "source": [
        "# Prepare the data to play around\n",
        "df = df_pokemon"
      ],
      "metadata": {
        "id": "vnPzyowQjx_O"
      },
      "execution_count": 3,
      "outputs": []
    },
    {
      "cell_type": "markdown",
      "source": [
        "Aggregation on pandas.Series:"
      ],
      "metadata": {
        "id": "SIABvJXV9Rv4"
      }
    },
    {
      "cell_type": "code",
      "source": [
        "# Count the number of NA values in a specific column\n",
        "df['type2'].isna().sum()     # When summing bool values, True equals 1 and False equals 0"
      ],
      "metadata": {
        "id": "e_0DHOQSpyXn",
        "colab": {
          "base_uri": "https://localhost:8080/"
        },
        "outputId": "0c85fd54-113c-4bc1-dcdf-7525909495ff"
      },
      "execution_count": 4,
      "outputs": [
        {
          "output_type": "execute_result",
          "data": {
            "text/plain": [
              "384"
            ]
          },
          "metadata": {},
          "execution_count": 4
        }
      ]
    },
    {
      "cell_type": "code",
      "source": [
        "# For all pokemons, find the average values of 'hp', 'attack', and 'defense'\n",
        "print( f\"Average hp: {df.loc[ :, 'hp' ].mean()}\" )\n",
        "print( f\"Average attack: {df.loc[ :, 'attack' ].mean()}\" )\n",
        "print( f\"Average defense: {df.loc[ :, 'defense' ].mean()}\" )"
      ],
      "metadata": {
        "id": "dWifRU3jIwJ6",
        "colab": {
          "base_uri": "https://localhost:8080/"
        },
        "outputId": "3fa4632a-4b7b-4e10-8695-0aa26e11ebdc"
      },
      "execution_count": 5,
      "outputs": [
        {
          "output_type": "stream",
          "name": "stdout",
          "text": [
            "Average hp: 68.95880149812734\n",
            "Average attack: 77.85767790262172\n",
            "Average defense: 73.00873907615481\n"
          ]
        }
      ]
    },
    {
      "cell_type": "markdown",
      "source": [
        "Aggregation on pandas.DataFrame:"
      ],
      "metadata": {
        "id": "x3doSdel9WJA"
      }
    },
    {
      "cell_type": "code",
      "source": [
        "# Reminder: df.isna() results in pandas.DataFrame of bool\n",
        "df.isna()"
      ],
      "metadata": {
        "id": "8Uic5NfzyDKf",
        "colab": {
          "base_uri": "https://localhost:8080/",
          "height": 444
        },
        "outputId": "a23c3e1c-16bb-4ed6-e1fa-cbf37b2f7f45"
      },
      "execution_count": 6,
      "outputs": [
        {
          "output_type": "execute_result",
          "data": {
            "text/plain": [
              "     abilities  against_bug  against_dark  against_dragon  against_electric  \\\n",
              "0        False        False         False           False             False   \n",
              "1        False        False         False           False             False   \n",
              "2        False        False         False           False             False   \n",
              "3        False        False         False           False             False   \n",
              "4        False        False         False           False             False   \n",
              "..         ...          ...           ...             ...               ...   \n",
              "796      False        False         False           False             False   \n",
              "797      False        False         False           False             False   \n",
              "798      False        False         False           False             False   \n",
              "799      False        False         False           False             False   \n",
              "800      False        False         False           False             False   \n",
              "\n",
              "     against_fairy  against_fight  against_fire  against_flying  \\\n",
              "0            False          False         False           False   \n",
              "1            False          False         False           False   \n",
              "2            False          False         False           False   \n",
              "3            False          False         False           False   \n",
              "4            False          False         False           False   \n",
              "..             ...            ...           ...             ...   \n",
              "796          False          False         False           False   \n",
              "797          False          False         False           False   \n",
              "798          False          False         False           False   \n",
              "799          False          False         False           False   \n",
              "800          False          False         False           False   \n",
              "\n",
              "     against_ghost  ...  percentage_male  pokedex_number  sp_attack  \\\n",
              "0            False  ...            False           False      False   \n",
              "1            False  ...            False           False      False   \n",
              "2            False  ...            False           False      False   \n",
              "3            False  ...            False           False      False   \n",
              "4            False  ...            False           False      False   \n",
              "..             ...  ...              ...             ...        ...   \n",
              "796          False  ...             True           False      False   \n",
              "797          False  ...             True           False      False   \n",
              "798          False  ...             True           False      False   \n",
              "799          False  ...             True           False      False   \n",
              "800          False  ...             True           False      False   \n",
              "\n",
              "     sp_defense  speed  type1  type2  weight_kg  generation  is_legendary  \n",
              "0         False  False  False  False      False       False         False  \n",
              "1         False  False  False  False      False       False         False  \n",
              "2         False  False  False  False      False       False         False  \n",
              "3         False  False  False   True      False       False         False  \n",
              "4         False  False  False   True      False       False         False  \n",
              "..          ...    ...    ...    ...        ...         ...           ...  \n",
              "796       False  False  False  False      False       False         False  \n",
              "797       False  False  False  False      False       False         False  \n",
              "798       False  False  False  False      False       False         False  \n",
              "799       False  False  False   True      False       False         False  \n",
              "800       False  False  False  False      False       False         False  \n",
              "\n",
              "[801 rows x 41 columns]"
            ],
            "text/html": [
              "\n",
              "  <div id=\"df-0f7e3918-fbc2-4b94-95cb-a4dda042bc1b\" class=\"colab-df-container\">\n",
              "    <div>\n",
              "<style scoped>\n",
              "    .dataframe tbody tr th:only-of-type {\n",
              "        vertical-align: middle;\n",
              "    }\n",
              "\n",
              "    .dataframe tbody tr th {\n",
              "        vertical-align: top;\n",
              "    }\n",
              "\n",
              "    .dataframe thead th {\n",
              "        text-align: right;\n",
              "    }\n",
              "</style>\n",
              "<table border=\"1\" class=\"dataframe\">\n",
              "  <thead>\n",
              "    <tr style=\"text-align: right;\">\n",
              "      <th></th>\n",
              "      <th>abilities</th>\n",
              "      <th>against_bug</th>\n",
              "      <th>against_dark</th>\n",
              "      <th>against_dragon</th>\n",
              "      <th>against_electric</th>\n",
              "      <th>against_fairy</th>\n",
              "      <th>against_fight</th>\n",
              "      <th>against_fire</th>\n",
              "      <th>against_flying</th>\n",
              "      <th>against_ghost</th>\n",
              "      <th>...</th>\n",
              "      <th>percentage_male</th>\n",
              "      <th>pokedex_number</th>\n",
              "      <th>sp_attack</th>\n",
              "      <th>sp_defense</th>\n",
              "      <th>speed</th>\n",
              "      <th>type1</th>\n",
              "      <th>type2</th>\n",
              "      <th>weight_kg</th>\n",
              "      <th>generation</th>\n",
              "      <th>is_legendary</th>\n",
              "    </tr>\n",
              "  </thead>\n",
              "  <tbody>\n",
              "    <tr>\n",
              "      <th>0</th>\n",
              "      <td>False</td>\n",
              "      <td>False</td>\n",
              "      <td>False</td>\n",
              "      <td>False</td>\n",
              "      <td>False</td>\n",
              "      <td>False</td>\n",
              "      <td>False</td>\n",
              "      <td>False</td>\n",
              "      <td>False</td>\n",
              "      <td>False</td>\n",
              "      <td>...</td>\n",
              "      <td>False</td>\n",
              "      <td>False</td>\n",
              "      <td>False</td>\n",
              "      <td>False</td>\n",
              "      <td>False</td>\n",
              "      <td>False</td>\n",
              "      <td>False</td>\n",
              "      <td>False</td>\n",
              "      <td>False</td>\n",
              "      <td>False</td>\n",
              "    </tr>\n",
              "    <tr>\n",
              "      <th>1</th>\n",
              "      <td>False</td>\n",
              "      <td>False</td>\n",
              "      <td>False</td>\n",
              "      <td>False</td>\n",
              "      <td>False</td>\n",
              "      <td>False</td>\n",
              "      <td>False</td>\n",
              "      <td>False</td>\n",
              "      <td>False</td>\n",
              "      <td>False</td>\n",
              "      <td>...</td>\n",
              "      <td>False</td>\n",
              "      <td>False</td>\n",
              "      <td>False</td>\n",
              "      <td>False</td>\n",
              "      <td>False</td>\n",
              "      <td>False</td>\n",
              "      <td>False</td>\n",
              "      <td>False</td>\n",
              "      <td>False</td>\n",
              "      <td>False</td>\n",
              "    </tr>\n",
              "    <tr>\n",
              "      <th>2</th>\n",
              "      <td>False</td>\n",
              "      <td>False</td>\n",
              "      <td>False</td>\n",
              "      <td>False</td>\n",
              "      <td>False</td>\n",
              "      <td>False</td>\n",
              "      <td>False</td>\n",
              "      <td>False</td>\n",
              "      <td>False</td>\n",
              "      <td>False</td>\n",
              "      <td>...</td>\n",
              "      <td>False</td>\n",
              "      <td>False</td>\n",
              "      <td>False</td>\n",
              "      <td>False</td>\n",
              "      <td>False</td>\n",
              "      <td>False</td>\n",
              "      <td>False</td>\n",
              "      <td>False</td>\n",
              "      <td>False</td>\n",
              "      <td>False</td>\n",
              "    </tr>\n",
              "    <tr>\n",
              "      <th>3</th>\n",
              "      <td>False</td>\n",
              "      <td>False</td>\n",
              "      <td>False</td>\n",
              "      <td>False</td>\n",
              "      <td>False</td>\n",
              "      <td>False</td>\n",
              "      <td>False</td>\n",
              "      <td>False</td>\n",
              "      <td>False</td>\n",
              "      <td>False</td>\n",
              "      <td>...</td>\n",
              "      <td>False</td>\n",
              "      <td>False</td>\n",
              "      <td>False</td>\n",
              "      <td>False</td>\n",
              "      <td>False</td>\n",
              "      <td>False</td>\n",
              "      <td>True</td>\n",
              "      <td>False</td>\n",
              "      <td>False</td>\n",
              "      <td>False</td>\n",
              "    </tr>\n",
              "    <tr>\n",
              "      <th>4</th>\n",
              "      <td>False</td>\n",
              "      <td>False</td>\n",
              "      <td>False</td>\n",
              "      <td>False</td>\n",
              "      <td>False</td>\n",
              "      <td>False</td>\n",
              "      <td>False</td>\n",
              "      <td>False</td>\n",
              "      <td>False</td>\n",
              "      <td>False</td>\n",
              "      <td>...</td>\n",
              "      <td>False</td>\n",
              "      <td>False</td>\n",
              "      <td>False</td>\n",
              "      <td>False</td>\n",
              "      <td>False</td>\n",
              "      <td>False</td>\n",
              "      <td>True</td>\n",
              "      <td>False</td>\n",
              "      <td>False</td>\n",
              "      <td>False</td>\n",
              "    </tr>\n",
              "    <tr>\n",
              "      <th>...</th>\n",
              "      <td>...</td>\n",
              "      <td>...</td>\n",
              "      <td>...</td>\n",
              "      <td>...</td>\n",
              "      <td>...</td>\n",
              "      <td>...</td>\n",
              "      <td>...</td>\n",
              "      <td>...</td>\n",
              "      <td>...</td>\n",
              "      <td>...</td>\n",
              "      <td>...</td>\n",
              "      <td>...</td>\n",
              "      <td>...</td>\n",
              "      <td>...</td>\n",
              "      <td>...</td>\n",
              "      <td>...</td>\n",
              "      <td>...</td>\n",
              "      <td>...</td>\n",
              "      <td>...</td>\n",
              "      <td>...</td>\n",
              "      <td>...</td>\n",
              "    </tr>\n",
              "    <tr>\n",
              "      <th>796</th>\n",
              "      <td>False</td>\n",
              "      <td>False</td>\n",
              "      <td>False</td>\n",
              "      <td>False</td>\n",
              "      <td>False</td>\n",
              "      <td>False</td>\n",
              "      <td>False</td>\n",
              "      <td>False</td>\n",
              "      <td>False</td>\n",
              "      <td>False</td>\n",
              "      <td>...</td>\n",
              "      <td>True</td>\n",
              "      <td>False</td>\n",
              "      <td>False</td>\n",
              "      <td>False</td>\n",
              "      <td>False</td>\n",
              "      <td>False</td>\n",
              "      <td>False</td>\n",
              "      <td>False</td>\n",
              "      <td>False</td>\n",
              "      <td>False</td>\n",
              "    </tr>\n",
              "    <tr>\n",
              "      <th>797</th>\n",
              "      <td>False</td>\n",
              "      <td>False</td>\n",
              "      <td>False</td>\n",
              "      <td>False</td>\n",
              "      <td>False</td>\n",
              "      <td>False</td>\n",
              "      <td>False</td>\n",
              "      <td>False</td>\n",
              "      <td>False</td>\n",
              "      <td>False</td>\n",
              "      <td>...</td>\n",
              "      <td>True</td>\n",
              "      <td>False</td>\n",
              "      <td>False</td>\n",
              "      <td>False</td>\n",
              "      <td>False</td>\n",
              "      <td>False</td>\n",
              "      <td>False</td>\n",
              "      <td>False</td>\n",
              "      <td>False</td>\n",
              "      <td>False</td>\n",
              "    </tr>\n",
              "    <tr>\n",
              "      <th>798</th>\n",
              "      <td>False</td>\n",
              "      <td>False</td>\n",
              "      <td>False</td>\n",
              "      <td>False</td>\n",
              "      <td>False</td>\n",
              "      <td>False</td>\n",
              "      <td>False</td>\n",
              "      <td>False</td>\n",
              "      <td>False</td>\n",
              "      <td>False</td>\n",
              "      <td>...</td>\n",
              "      <td>True</td>\n",
              "      <td>False</td>\n",
              "      <td>False</td>\n",
              "      <td>False</td>\n",
              "      <td>False</td>\n",
              "      <td>False</td>\n",
              "      <td>False</td>\n",
              "      <td>False</td>\n",
              "      <td>False</td>\n",
              "      <td>False</td>\n",
              "    </tr>\n",
              "    <tr>\n",
              "      <th>799</th>\n",
              "      <td>False</td>\n",
              "      <td>False</td>\n",
              "      <td>False</td>\n",
              "      <td>False</td>\n",
              "      <td>False</td>\n",
              "      <td>False</td>\n",
              "      <td>False</td>\n",
              "      <td>False</td>\n",
              "      <td>False</td>\n",
              "      <td>False</td>\n",
              "      <td>...</td>\n",
              "      <td>True</td>\n",
              "      <td>False</td>\n",
              "      <td>False</td>\n",
              "      <td>False</td>\n",
              "      <td>False</td>\n",
              "      <td>False</td>\n",
              "      <td>True</td>\n",
              "      <td>False</td>\n",
              "      <td>False</td>\n",
              "      <td>False</td>\n",
              "    </tr>\n",
              "    <tr>\n",
              "      <th>800</th>\n",
              "      <td>False</td>\n",
              "      <td>False</td>\n",
              "      <td>False</td>\n",
              "      <td>False</td>\n",
              "      <td>False</td>\n",
              "      <td>False</td>\n",
              "      <td>False</td>\n",
              "      <td>False</td>\n",
              "      <td>False</td>\n",
              "      <td>False</td>\n",
              "      <td>...</td>\n",
              "      <td>True</td>\n",
              "      <td>False</td>\n",
              "      <td>False</td>\n",
              "      <td>False</td>\n",
              "      <td>False</td>\n",
              "      <td>False</td>\n",
              "      <td>False</td>\n",
              "      <td>False</td>\n",
              "      <td>False</td>\n",
              "      <td>False</td>\n",
              "    </tr>\n",
              "  </tbody>\n",
              "</table>\n",
              "<p>801 rows × 41 columns</p>\n",
              "</div>\n",
              "    <div class=\"colab-df-buttons\">\n",
              "\n",
              "  <div class=\"colab-df-container\">\n",
              "    <button class=\"colab-df-convert\" onclick=\"convertToInteractive('df-0f7e3918-fbc2-4b94-95cb-a4dda042bc1b')\"\n",
              "            title=\"Convert this dataframe to an interactive table.\"\n",
              "            style=\"display:none;\">\n",
              "\n",
              "  <svg xmlns=\"http://www.w3.org/2000/svg\" height=\"24px\" viewBox=\"0 -960 960 960\">\n",
              "    <path d=\"M120-120v-720h720v720H120Zm60-500h600v-160H180v160Zm220 220h160v-160H400v160Zm0 220h160v-160H400v160ZM180-400h160v-160H180v160Zm440 0h160v-160H620v160ZM180-180h160v-160H180v160Zm440 0h160v-160H620v160Z\"/>\n",
              "  </svg>\n",
              "    </button>\n",
              "\n",
              "  <style>\n",
              "    .colab-df-container {\n",
              "      display:flex;\n",
              "      gap: 12px;\n",
              "    }\n",
              "\n",
              "    .colab-df-convert {\n",
              "      background-color: #E8F0FE;\n",
              "      border: none;\n",
              "      border-radius: 50%;\n",
              "      cursor: pointer;\n",
              "      display: none;\n",
              "      fill: #1967D2;\n",
              "      height: 32px;\n",
              "      padding: 0 0 0 0;\n",
              "      width: 32px;\n",
              "    }\n",
              "\n",
              "    .colab-df-convert:hover {\n",
              "      background-color: #E2EBFA;\n",
              "      box-shadow: 0px 1px 2px rgba(60, 64, 67, 0.3), 0px 1px 3px 1px rgba(60, 64, 67, 0.15);\n",
              "      fill: #174EA6;\n",
              "    }\n",
              "\n",
              "    .colab-df-buttons div {\n",
              "      margin-bottom: 4px;\n",
              "    }\n",
              "\n",
              "    [theme=dark] .colab-df-convert {\n",
              "      background-color: #3B4455;\n",
              "      fill: #D2E3FC;\n",
              "    }\n",
              "\n",
              "    [theme=dark] .colab-df-convert:hover {\n",
              "      background-color: #434B5C;\n",
              "      box-shadow: 0px 1px 3px 1px rgba(0, 0, 0, 0.15);\n",
              "      filter: drop-shadow(0px 1px 2px rgba(0, 0, 0, 0.3));\n",
              "      fill: #FFFFFF;\n",
              "    }\n",
              "  </style>\n",
              "\n",
              "    <script>\n",
              "      const buttonEl =\n",
              "        document.querySelector('#df-0f7e3918-fbc2-4b94-95cb-a4dda042bc1b button.colab-df-convert');\n",
              "      buttonEl.style.display =\n",
              "        google.colab.kernel.accessAllowed ? 'block' : 'none';\n",
              "\n",
              "      async function convertToInteractive(key) {\n",
              "        const element = document.querySelector('#df-0f7e3918-fbc2-4b94-95cb-a4dda042bc1b');\n",
              "        const dataTable =\n",
              "          await google.colab.kernel.invokeFunction('convertToInteractive',\n",
              "                                                    [key], {});\n",
              "        if (!dataTable) return;\n",
              "\n",
              "        const docLinkHtml = 'Like what you see? Visit the ' +\n",
              "          '<a target=\"_blank\" href=https://colab.research.google.com/notebooks/data_table.ipynb>data table notebook</a>'\n",
              "          + ' to learn more about interactive tables.';\n",
              "        element.innerHTML = '';\n",
              "        dataTable['output_type'] = 'display_data';\n",
              "        await google.colab.output.renderOutput(dataTable, element);\n",
              "        const docLink = document.createElement('div');\n",
              "        docLink.innerHTML = docLinkHtml;\n",
              "        element.appendChild(docLink);\n",
              "      }\n",
              "    </script>\n",
              "  </div>\n",
              "\n",
              "\n",
              "<div id=\"df-1b0fde71-c2e9-4fe1-ba26-f1e4dd3525a2\">\n",
              "  <button class=\"colab-df-quickchart\" onclick=\"quickchart('df-1b0fde71-c2e9-4fe1-ba26-f1e4dd3525a2')\"\n",
              "            title=\"Suggest charts\"\n",
              "            style=\"display:none;\">\n",
              "\n",
              "<svg xmlns=\"http://www.w3.org/2000/svg\" height=\"24px\"viewBox=\"0 0 24 24\"\n",
              "     width=\"24px\">\n",
              "    <g>\n",
              "        <path d=\"M19 3H5c-1.1 0-2 .9-2 2v14c0 1.1.9 2 2 2h14c1.1 0 2-.9 2-2V5c0-1.1-.9-2-2-2zM9 17H7v-7h2v7zm4 0h-2V7h2v10zm4 0h-2v-4h2v4z\"/>\n",
              "    </g>\n",
              "</svg>\n",
              "  </button>\n",
              "\n",
              "<style>\n",
              "  .colab-df-quickchart {\n",
              "      --bg-color: #E8F0FE;\n",
              "      --fill-color: #1967D2;\n",
              "      --hover-bg-color: #E2EBFA;\n",
              "      --hover-fill-color: #174EA6;\n",
              "      --disabled-fill-color: #AAA;\n",
              "      --disabled-bg-color: #DDD;\n",
              "  }\n",
              "\n",
              "  [theme=dark] .colab-df-quickchart {\n",
              "      --bg-color: #3B4455;\n",
              "      --fill-color: #D2E3FC;\n",
              "      --hover-bg-color: #434B5C;\n",
              "      --hover-fill-color: #FFFFFF;\n",
              "      --disabled-bg-color: #3B4455;\n",
              "      --disabled-fill-color: #666;\n",
              "  }\n",
              "\n",
              "  .colab-df-quickchart {\n",
              "    background-color: var(--bg-color);\n",
              "    border: none;\n",
              "    border-radius: 50%;\n",
              "    cursor: pointer;\n",
              "    display: none;\n",
              "    fill: var(--fill-color);\n",
              "    height: 32px;\n",
              "    padding: 0;\n",
              "    width: 32px;\n",
              "  }\n",
              "\n",
              "  .colab-df-quickchart:hover {\n",
              "    background-color: var(--hover-bg-color);\n",
              "    box-shadow: 0 1px 2px rgba(60, 64, 67, 0.3), 0 1px 3px 1px rgba(60, 64, 67, 0.15);\n",
              "    fill: var(--button-hover-fill-color);\n",
              "  }\n",
              "\n",
              "  .colab-df-quickchart-complete:disabled,\n",
              "  .colab-df-quickchart-complete:disabled:hover {\n",
              "    background-color: var(--disabled-bg-color);\n",
              "    fill: var(--disabled-fill-color);\n",
              "    box-shadow: none;\n",
              "  }\n",
              "\n",
              "  .colab-df-spinner {\n",
              "    border: 2px solid var(--fill-color);\n",
              "    border-color: transparent;\n",
              "    border-bottom-color: var(--fill-color);\n",
              "    animation:\n",
              "      spin 1s steps(1) infinite;\n",
              "  }\n",
              "\n",
              "  @keyframes spin {\n",
              "    0% {\n",
              "      border-color: transparent;\n",
              "      border-bottom-color: var(--fill-color);\n",
              "      border-left-color: var(--fill-color);\n",
              "    }\n",
              "    20% {\n",
              "      border-color: transparent;\n",
              "      border-left-color: var(--fill-color);\n",
              "      border-top-color: var(--fill-color);\n",
              "    }\n",
              "    30% {\n",
              "      border-color: transparent;\n",
              "      border-left-color: var(--fill-color);\n",
              "      border-top-color: var(--fill-color);\n",
              "      border-right-color: var(--fill-color);\n",
              "    }\n",
              "    40% {\n",
              "      border-color: transparent;\n",
              "      border-right-color: var(--fill-color);\n",
              "      border-top-color: var(--fill-color);\n",
              "    }\n",
              "    60% {\n",
              "      border-color: transparent;\n",
              "      border-right-color: var(--fill-color);\n",
              "    }\n",
              "    80% {\n",
              "      border-color: transparent;\n",
              "      border-right-color: var(--fill-color);\n",
              "      border-bottom-color: var(--fill-color);\n",
              "    }\n",
              "    90% {\n",
              "      border-color: transparent;\n",
              "      border-bottom-color: var(--fill-color);\n",
              "    }\n",
              "  }\n",
              "</style>\n",
              "\n",
              "  <script>\n",
              "    async function quickchart(key) {\n",
              "      const quickchartButtonEl =\n",
              "        document.querySelector('#' + key + ' button');\n",
              "      quickchartButtonEl.disabled = true;  // To prevent multiple clicks.\n",
              "      quickchartButtonEl.classList.add('colab-df-spinner');\n",
              "      try {\n",
              "        const charts = await google.colab.kernel.invokeFunction(\n",
              "            'suggestCharts', [key], {});\n",
              "      } catch (error) {\n",
              "        console.error('Error during call to suggestCharts:', error);\n",
              "      }\n",
              "      quickchartButtonEl.classList.remove('colab-df-spinner');\n",
              "      quickchartButtonEl.classList.add('colab-df-quickchart-complete');\n",
              "    }\n",
              "    (() => {\n",
              "      let quickchartButtonEl =\n",
              "        document.querySelector('#df-1b0fde71-c2e9-4fe1-ba26-f1e4dd3525a2 button');\n",
              "      quickchartButtonEl.style.display =\n",
              "        google.colab.kernel.accessAllowed ? 'block' : 'none';\n",
              "    })();\n",
              "  </script>\n",
              "</div>\n",
              "\n",
              "    </div>\n",
              "  </div>\n"
            ],
            "application/vnd.google.colaboratory.intrinsic+json": {
              "type": "dataframe"
            }
          },
          "metadata": {},
          "execution_count": 6
        }
      ]
    },
    {
      "cell_type": "code",
      "source": [
        "# Count the number of NA values for each column\n",
        "df.isna().sum()     # This equals df.isna().sum(axis=0) เล่นกับข้อมูลหลายมิติ ต้องไปเช็คว่าเล่น default กับมิติไหน"
      ],
      "metadata": {
        "id": "HrzYLx39qv7I",
        "colab": {
          "base_uri": "https://localhost:8080/",
          "height": 1000
        },
        "outputId": "f662acac-91a6-423b-841a-eeef1e812ad5"
      },
      "execution_count": 29,
      "outputs": [
        {
          "output_type": "execute_result",
          "data": {
            "text/plain": [
              "abilities              0\n",
              "against_bug            0\n",
              "against_dark           0\n",
              "against_dragon         0\n",
              "against_electric       0\n",
              "against_fairy          0\n",
              "against_fight          0\n",
              "against_fire           0\n",
              "against_flying         0\n",
              "against_ghost          0\n",
              "against_grass          0\n",
              "against_ground         0\n",
              "against_ice            0\n",
              "against_normal         0\n",
              "against_poison         0\n",
              "against_psychic        0\n",
              "against_rock           0\n",
              "against_steel          0\n",
              "against_water          0\n",
              "attack                 0\n",
              "base_egg_steps         0\n",
              "base_happiness         0\n",
              "base_total             0\n",
              "capture_rate           0\n",
              "classfication          0\n",
              "defense                0\n",
              "experience_growth      0\n",
              "height_m              20\n",
              "hp                     0\n",
              "japanese_name          0\n",
              "name                   0\n",
              "percentage_male       98\n",
              "pokedex_number         0\n",
              "sp_attack              0\n",
              "sp_defense             0\n",
              "speed                  0\n",
              "type1                  0\n",
              "type2                384\n",
              "weight_kg             20\n",
              "generation             0\n",
              "is_legendary           0\n",
              "dtype: int64"
            ],
            "text/html": [
              "<div>\n",
              "<style scoped>\n",
              "    .dataframe tbody tr th:only-of-type {\n",
              "        vertical-align: middle;\n",
              "    }\n",
              "\n",
              "    .dataframe tbody tr th {\n",
              "        vertical-align: top;\n",
              "    }\n",
              "\n",
              "    .dataframe thead th {\n",
              "        text-align: right;\n",
              "    }\n",
              "</style>\n",
              "<table border=\"1\" class=\"dataframe\">\n",
              "  <thead>\n",
              "    <tr style=\"text-align: right;\">\n",
              "      <th></th>\n",
              "      <th>0</th>\n",
              "    </tr>\n",
              "  </thead>\n",
              "  <tbody>\n",
              "    <tr>\n",
              "      <th>abilities</th>\n",
              "      <td>0</td>\n",
              "    </tr>\n",
              "    <tr>\n",
              "      <th>against_bug</th>\n",
              "      <td>0</td>\n",
              "    </tr>\n",
              "    <tr>\n",
              "      <th>against_dark</th>\n",
              "      <td>0</td>\n",
              "    </tr>\n",
              "    <tr>\n",
              "      <th>against_dragon</th>\n",
              "      <td>0</td>\n",
              "    </tr>\n",
              "    <tr>\n",
              "      <th>against_electric</th>\n",
              "      <td>0</td>\n",
              "    </tr>\n",
              "    <tr>\n",
              "      <th>against_fairy</th>\n",
              "      <td>0</td>\n",
              "    </tr>\n",
              "    <tr>\n",
              "      <th>against_fight</th>\n",
              "      <td>0</td>\n",
              "    </tr>\n",
              "    <tr>\n",
              "      <th>against_fire</th>\n",
              "      <td>0</td>\n",
              "    </tr>\n",
              "    <tr>\n",
              "      <th>against_flying</th>\n",
              "      <td>0</td>\n",
              "    </tr>\n",
              "    <tr>\n",
              "      <th>against_ghost</th>\n",
              "      <td>0</td>\n",
              "    </tr>\n",
              "    <tr>\n",
              "      <th>against_grass</th>\n",
              "      <td>0</td>\n",
              "    </tr>\n",
              "    <tr>\n",
              "      <th>against_ground</th>\n",
              "      <td>0</td>\n",
              "    </tr>\n",
              "    <tr>\n",
              "      <th>against_ice</th>\n",
              "      <td>0</td>\n",
              "    </tr>\n",
              "    <tr>\n",
              "      <th>against_normal</th>\n",
              "      <td>0</td>\n",
              "    </tr>\n",
              "    <tr>\n",
              "      <th>against_poison</th>\n",
              "      <td>0</td>\n",
              "    </tr>\n",
              "    <tr>\n",
              "      <th>against_psychic</th>\n",
              "      <td>0</td>\n",
              "    </tr>\n",
              "    <tr>\n",
              "      <th>against_rock</th>\n",
              "      <td>0</td>\n",
              "    </tr>\n",
              "    <tr>\n",
              "      <th>against_steel</th>\n",
              "      <td>0</td>\n",
              "    </tr>\n",
              "    <tr>\n",
              "      <th>against_water</th>\n",
              "      <td>0</td>\n",
              "    </tr>\n",
              "    <tr>\n",
              "      <th>attack</th>\n",
              "      <td>0</td>\n",
              "    </tr>\n",
              "    <tr>\n",
              "      <th>base_egg_steps</th>\n",
              "      <td>0</td>\n",
              "    </tr>\n",
              "    <tr>\n",
              "      <th>base_happiness</th>\n",
              "      <td>0</td>\n",
              "    </tr>\n",
              "    <tr>\n",
              "      <th>base_total</th>\n",
              "      <td>0</td>\n",
              "    </tr>\n",
              "    <tr>\n",
              "      <th>capture_rate</th>\n",
              "      <td>0</td>\n",
              "    </tr>\n",
              "    <tr>\n",
              "      <th>classfication</th>\n",
              "      <td>0</td>\n",
              "    </tr>\n",
              "    <tr>\n",
              "      <th>defense</th>\n",
              "      <td>0</td>\n",
              "    </tr>\n",
              "    <tr>\n",
              "      <th>experience_growth</th>\n",
              "      <td>0</td>\n",
              "    </tr>\n",
              "    <tr>\n",
              "      <th>height_m</th>\n",
              "      <td>20</td>\n",
              "    </tr>\n",
              "    <tr>\n",
              "      <th>hp</th>\n",
              "      <td>0</td>\n",
              "    </tr>\n",
              "    <tr>\n",
              "      <th>japanese_name</th>\n",
              "      <td>0</td>\n",
              "    </tr>\n",
              "    <tr>\n",
              "      <th>name</th>\n",
              "      <td>0</td>\n",
              "    </tr>\n",
              "    <tr>\n",
              "      <th>percentage_male</th>\n",
              "      <td>98</td>\n",
              "    </tr>\n",
              "    <tr>\n",
              "      <th>pokedex_number</th>\n",
              "      <td>0</td>\n",
              "    </tr>\n",
              "    <tr>\n",
              "      <th>sp_attack</th>\n",
              "      <td>0</td>\n",
              "    </tr>\n",
              "    <tr>\n",
              "      <th>sp_defense</th>\n",
              "      <td>0</td>\n",
              "    </tr>\n",
              "    <tr>\n",
              "      <th>speed</th>\n",
              "      <td>0</td>\n",
              "    </tr>\n",
              "    <tr>\n",
              "      <th>type1</th>\n",
              "      <td>0</td>\n",
              "    </tr>\n",
              "    <tr>\n",
              "      <th>type2</th>\n",
              "      <td>384</td>\n",
              "    </tr>\n",
              "    <tr>\n",
              "      <th>weight_kg</th>\n",
              "      <td>20</td>\n",
              "    </tr>\n",
              "    <tr>\n",
              "      <th>generation</th>\n",
              "      <td>0</td>\n",
              "    </tr>\n",
              "    <tr>\n",
              "      <th>is_legendary</th>\n",
              "      <td>0</td>\n",
              "    </tr>\n",
              "  </tbody>\n",
              "</table>\n",
              "</div><br><label><b>dtype:</b> int64</label>"
            ]
          },
          "metadata": {},
          "execution_count": 29
        }
      ]
    },
    {
      "cell_type": "code",
      "source": [
        "# Count the number of NA values for each row\n",
        "df.isna().sum(axis=1)"
      ],
      "metadata": {
        "id": "iJ0YgAsUrS-S",
        "colab": {
          "base_uri": "https://localhost:8080/",
          "height": 458
        },
        "outputId": "3a332c29-75d6-41ee-cda5-120253ed347d"
      },
      "execution_count": 8,
      "outputs": [
        {
          "output_type": "execute_result",
          "data": {
            "text/plain": [
              "0      0\n",
              "1      0\n",
              "2      0\n",
              "3      1\n",
              "4      1\n",
              "      ..\n",
              "796    1\n",
              "797    1\n",
              "798    1\n",
              "799    2\n",
              "800    1\n",
              "Length: 801, dtype: int64"
            ],
            "text/html": [
              "<div>\n",
              "<style scoped>\n",
              "    .dataframe tbody tr th:only-of-type {\n",
              "        vertical-align: middle;\n",
              "    }\n",
              "\n",
              "    .dataframe tbody tr th {\n",
              "        vertical-align: top;\n",
              "    }\n",
              "\n",
              "    .dataframe thead th {\n",
              "        text-align: right;\n",
              "    }\n",
              "</style>\n",
              "<table border=\"1\" class=\"dataframe\">\n",
              "  <thead>\n",
              "    <tr style=\"text-align: right;\">\n",
              "      <th></th>\n",
              "      <th>0</th>\n",
              "    </tr>\n",
              "  </thead>\n",
              "  <tbody>\n",
              "    <tr>\n",
              "      <th>0</th>\n",
              "      <td>0</td>\n",
              "    </tr>\n",
              "    <tr>\n",
              "      <th>1</th>\n",
              "      <td>0</td>\n",
              "    </tr>\n",
              "    <tr>\n",
              "      <th>2</th>\n",
              "      <td>0</td>\n",
              "    </tr>\n",
              "    <tr>\n",
              "      <th>3</th>\n",
              "      <td>1</td>\n",
              "    </tr>\n",
              "    <tr>\n",
              "      <th>4</th>\n",
              "      <td>1</td>\n",
              "    </tr>\n",
              "    <tr>\n",
              "      <th>...</th>\n",
              "      <td>...</td>\n",
              "    </tr>\n",
              "    <tr>\n",
              "      <th>796</th>\n",
              "      <td>1</td>\n",
              "    </tr>\n",
              "    <tr>\n",
              "      <th>797</th>\n",
              "      <td>1</td>\n",
              "    </tr>\n",
              "    <tr>\n",
              "      <th>798</th>\n",
              "      <td>1</td>\n",
              "    </tr>\n",
              "    <tr>\n",
              "      <th>799</th>\n",
              "      <td>2</td>\n",
              "    </tr>\n",
              "    <tr>\n",
              "      <th>800</th>\n",
              "      <td>1</td>\n",
              "    </tr>\n",
              "  </tbody>\n",
              "</table>\n",
              "<p>801 rows × 1 columns</p>\n",
              "</div><br><label><b>dtype:</b> int64</label>"
            ]
          },
          "metadata": {},
          "execution_count": 8
        }
      ]
    },
    {
      "cell_type": "code",
      "source": [
        "# Find a mean value for each column (by default NA values are skipped)\n",
        "df.loc[ : , ['hp','attack','defense'] ].mean()  # This equals df.loc[ : , ['hp','attack','defense'] ].mean(axis=0)"
      ],
      "metadata": {
        "id": "4F7CMVbBnyYC",
        "colab": {
          "base_uri": "https://localhost:8080/",
          "height": 178
        },
        "outputId": "03853a84-aab2-443d-b218-8bc2e39ddbf7"
      },
      "execution_count": 9,
      "outputs": [
        {
          "output_type": "execute_result",
          "data": {
            "text/plain": [
              "hp         68.958801\n",
              "attack     77.857678\n",
              "defense    73.008739\n",
              "dtype: float64"
            ],
            "text/html": [
              "<div>\n",
              "<style scoped>\n",
              "    .dataframe tbody tr th:only-of-type {\n",
              "        vertical-align: middle;\n",
              "    }\n",
              "\n",
              "    .dataframe tbody tr th {\n",
              "        vertical-align: top;\n",
              "    }\n",
              "\n",
              "    .dataframe thead th {\n",
              "        text-align: right;\n",
              "    }\n",
              "</style>\n",
              "<table border=\"1\" class=\"dataframe\">\n",
              "  <thead>\n",
              "    <tr style=\"text-align: right;\">\n",
              "      <th></th>\n",
              "      <th>0</th>\n",
              "    </tr>\n",
              "  </thead>\n",
              "  <tbody>\n",
              "    <tr>\n",
              "      <th>hp</th>\n",
              "      <td>68.958801</td>\n",
              "    </tr>\n",
              "    <tr>\n",
              "      <th>attack</th>\n",
              "      <td>77.857678</td>\n",
              "    </tr>\n",
              "    <tr>\n",
              "      <th>defense</th>\n",
              "      <td>73.008739</td>\n",
              "    </tr>\n",
              "  </tbody>\n",
              "</table>\n",
              "</div><br><label><b>dtype:</b> float64</label>"
            ]
          },
          "metadata": {},
          "execution_count": 9
        }
      ]
    },
    {
      "cell_type": "code",
      "source": [
        "# Find a mean value for each row\n",
        "# By default, pandas will try to use values in all columns first, then try to use only numeric data\n",
        "df.loc[ : , ['hp','attack','defense'] ].mean(axis=1)"
      ],
      "metadata": {
        "id": "rfrlgKlSoXI3",
        "colab": {
          "base_uri": "https://localhost:8080/",
          "height": 458
        },
        "outputId": "e517e526-9813-4b4f-8a40-134fa2b3a63d"
      },
      "execution_count": 10,
      "outputs": [
        {
          "output_type": "execute_result",
          "data": {
            "text/plain": [
              "0       47.666667\n",
              "1       61.666667\n",
              "2      101.000000\n",
              "3       44.666667\n",
              "4       60.000000\n",
              "          ...    \n",
              "796    100.333333\n",
              "797    123.666667\n",
              "798    125.666667\n",
              "799    101.666667\n",
              "800     96.666667\n",
              "Length: 801, dtype: float64"
            ],
            "text/html": [
              "<div>\n",
              "<style scoped>\n",
              "    .dataframe tbody tr th:only-of-type {\n",
              "        vertical-align: middle;\n",
              "    }\n",
              "\n",
              "    .dataframe tbody tr th {\n",
              "        vertical-align: top;\n",
              "    }\n",
              "\n",
              "    .dataframe thead th {\n",
              "        text-align: right;\n",
              "    }\n",
              "</style>\n",
              "<table border=\"1\" class=\"dataframe\">\n",
              "  <thead>\n",
              "    <tr style=\"text-align: right;\">\n",
              "      <th></th>\n",
              "      <th>0</th>\n",
              "    </tr>\n",
              "  </thead>\n",
              "  <tbody>\n",
              "    <tr>\n",
              "      <th>0</th>\n",
              "      <td>47.666667</td>\n",
              "    </tr>\n",
              "    <tr>\n",
              "      <th>1</th>\n",
              "      <td>61.666667</td>\n",
              "    </tr>\n",
              "    <tr>\n",
              "      <th>2</th>\n",
              "      <td>101.000000</td>\n",
              "    </tr>\n",
              "    <tr>\n",
              "      <th>3</th>\n",
              "      <td>44.666667</td>\n",
              "    </tr>\n",
              "    <tr>\n",
              "      <th>4</th>\n",
              "      <td>60.000000</td>\n",
              "    </tr>\n",
              "    <tr>\n",
              "      <th>...</th>\n",
              "      <td>...</td>\n",
              "    </tr>\n",
              "    <tr>\n",
              "      <th>796</th>\n",
              "      <td>100.333333</td>\n",
              "    </tr>\n",
              "    <tr>\n",
              "      <th>797</th>\n",
              "      <td>123.666667</td>\n",
              "    </tr>\n",
              "    <tr>\n",
              "      <th>798</th>\n",
              "      <td>125.666667</td>\n",
              "    </tr>\n",
              "    <tr>\n",
              "      <th>799</th>\n",
              "      <td>101.666667</td>\n",
              "    </tr>\n",
              "    <tr>\n",
              "      <th>800</th>\n",
              "      <td>96.666667</td>\n",
              "    </tr>\n",
              "  </tbody>\n",
              "</table>\n",
              "<p>801 rows × 1 columns</p>\n",
              "</div><br><label><b>dtype:</b> float64</label>"
            ]
          },
          "metadata": {},
          "execution_count": 10
        }
      ]
    },
    {
      "cell_type": "code",
      "source": [
        "# Show all pokemons whose 'hp' attribute is not below the average hp\n",
        "print( f\"Average hp: {df['hp'].mean()}\" )\n",
        "df.loc[ df['hp'] >= df['hp'].mean() , ['pokedex_number','name','hp'] ]"
      ],
      "metadata": {
        "id": "q48_3zLkpiYF",
        "colab": {
          "base_uri": "https://localhost:8080/",
          "height": 441
        },
        "outputId": "1dd3e5f3-da0c-449f-a361-ca9fa8cf4158"
      },
      "execution_count": 11,
      "outputs": [
        {
          "output_type": "stream",
          "name": "stdout",
          "text": [
            "Average hp: 68.95880149812734\n"
          ]
        },
        {
          "output_type": "execute_result",
          "data": {
            "text/plain": [
              "     pokedex_number        name   hp\n",
              "2                 3    Venusaur   80\n",
              "5                 6   Charizard   78\n",
              "8                 9   Blastoise   79\n",
              "17               18     Pidgeot   83\n",
              "19               20    Raticate   75\n",
              "..              ...         ...  ...\n",
              "795             796   Xurkitree   83\n",
              "796             797  Celesteela   97\n",
              "798             799    Guzzlord  223\n",
              "799             800    Necrozma   97\n",
              "800             801    Magearna   80\n",
              "\n",
              "[373 rows x 3 columns]"
            ],
            "text/html": [
              "\n",
              "  <div id=\"df-e5d50253-13e5-4811-b07a-52d5f1057a1c\" class=\"colab-df-container\">\n",
              "    <div>\n",
              "<style scoped>\n",
              "    .dataframe tbody tr th:only-of-type {\n",
              "        vertical-align: middle;\n",
              "    }\n",
              "\n",
              "    .dataframe tbody tr th {\n",
              "        vertical-align: top;\n",
              "    }\n",
              "\n",
              "    .dataframe thead th {\n",
              "        text-align: right;\n",
              "    }\n",
              "</style>\n",
              "<table border=\"1\" class=\"dataframe\">\n",
              "  <thead>\n",
              "    <tr style=\"text-align: right;\">\n",
              "      <th></th>\n",
              "      <th>pokedex_number</th>\n",
              "      <th>name</th>\n",
              "      <th>hp</th>\n",
              "    </tr>\n",
              "  </thead>\n",
              "  <tbody>\n",
              "    <tr>\n",
              "      <th>2</th>\n",
              "      <td>3</td>\n",
              "      <td>Venusaur</td>\n",
              "      <td>80</td>\n",
              "    </tr>\n",
              "    <tr>\n",
              "      <th>5</th>\n",
              "      <td>6</td>\n",
              "      <td>Charizard</td>\n",
              "      <td>78</td>\n",
              "    </tr>\n",
              "    <tr>\n",
              "      <th>8</th>\n",
              "      <td>9</td>\n",
              "      <td>Blastoise</td>\n",
              "      <td>79</td>\n",
              "    </tr>\n",
              "    <tr>\n",
              "      <th>17</th>\n",
              "      <td>18</td>\n",
              "      <td>Pidgeot</td>\n",
              "      <td>83</td>\n",
              "    </tr>\n",
              "    <tr>\n",
              "      <th>19</th>\n",
              "      <td>20</td>\n",
              "      <td>Raticate</td>\n",
              "      <td>75</td>\n",
              "    </tr>\n",
              "    <tr>\n",
              "      <th>...</th>\n",
              "      <td>...</td>\n",
              "      <td>...</td>\n",
              "      <td>...</td>\n",
              "    </tr>\n",
              "    <tr>\n",
              "      <th>795</th>\n",
              "      <td>796</td>\n",
              "      <td>Xurkitree</td>\n",
              "      <td>83</td>\n",
              "    </tr>\n",
              "    <tr>\n",
              "      <th>796</th>\n",
              "      <td>797</td>\n",
              "      <td>Celesteela</td>\n",
              "      <td>97</td>\n",
              "    </tr>\n",
              "    <tr>\n",
              "      <th>798</th>\n",
              "      <td>799</td>\n",
              "      <td>Guzzlord</td>\n",
              "      <td>223</td>\n",
              "    </tr>\n",
              "    <tr>\n",
              "      <th>799</th>\n",
              "      <td>800</td>\n",
              "      <td>Necrozma</td>\n",
              "      <td>97</td>\n",
              "    </tr>\n",
              "    <tr>\n",
              "      <th>800</th>\n",
              "      <td>801</td>\n",
              "      <td>Magearna</td>\n",
              "      <td>80</td>\n",
              "    </tr>\n",
              "  </tbody>\n",
              "</table>\n",
              "<p>373 rows × 3 columns</p>\n",
              "</div>\n",
              "    <div class=\"colab-df-buttons\">\n",
              "\n",
              "  <div class=\"colab-df-container\">\n",
              "    <button class=\"colab-df-convert\" onclick=\"convertToInteractive('df-e5d50253-13e5-4811-b07a-52d5f1057a1c')\"\n",
              "            title=\"Convert this dataframe to an interactive table.\"\n",
              "            style=\"display:none;\">\n",
              "\n",
              "  <svg xmlns=\"http://www.w3.org/2000/svg\" height=\"24px\" viewBox=\"0 -960 960 960\">\n",
              "    <path d=\"M120-120v-720h720v720H120Zm60-500h600v-160H180v160Zm220 220h160v-160H400v160Zm0 220h160v-160H400v160ZM180-400h160v-160H180v160Zm440 0h160v-160H620v160ZM180-180h160v-160H180v160Zm440 0h160v-160H620v160Z\"/>\n",
              "  </svg>\n",
              "    </button>\n",
              "\n",
              "  <style>\n",
              "    .colab-df-container {\n",
              "      display:flex;\n",
              "      gap: 12px;\n",
              "    }\n",
              "\n",
              "    .colab-df-convert {\n",
              "      background-color: #E8F0FE;\n",
              "      border: none;\n",
              "      border-radius: 50%;\n",
              "      cursor: pointer;\n",
              "      display: none;\n",
              "      fill: #1967D2;\n",
              "      height: 32px;\n",
              "      padding: 0 0 0 0;\n",
              "      width: 32px;\n",
              "    }\n",
              "\n",
              "    .colab-df-convert:hover {\n",
              "      background-color: #E2EBFA;\n",
              "      box-shadow: 0px 1px 2px rgba(60, 64, 67, 0.3), 0px 1px 3px 1px rgba(60, 64, 67, 0.15);\n",
              "      fill: #174EA6;\n",
              "    }\n",
              "\n",
              "    .colab-df-buttons div {\n",
              "      margin-bottom: 4px;\n",
              "    }\n",
              "\n",
              "    [theme=dark] .colab-df-convert {\n",
              "      background-color: #3B4455;\n",
              "      fill: #D2E3FC;\n",
              "    }\n",
              "\n",
              "    [theme=dark] .colab-df-convert:hover {\n",
              "      background-color: #434B5C;\n",
              "      box-shadow: 0px 1px 3px 1px rgba(0, 0, 0, 0.15);\n",
              "      filter: drop-shadow(0px 1px 2px rgba(0, 0, 0, 0.3));\n",
              "      fill: #FFFFFF;\n",
              "    }\n",
              "  </style>\n",
              "\n",
              "    <script>\n",
              "      const buttonEl =\n",
              "        document.querySelector('#df-e5d50253-13e5-4811-b07a-52d5f1057a1c button.colab-df-convert');\n",
              "      buttonEl.style.display =\n",
              "        google.colab.kernel.accessAllowed ? 'block' : 'none';\n",
              "\n",
              "      async function convertToInteractive(key) {\n",
              "        const element = document.querySelector('#df-e5d50253-13e5-4811-b07a-52d5f1057a1c');\n",
              "        const dataTable =\n",
              "          await google.colab.kernel.invokeFunction('convertToInteractive',\n",
              "                                                    [key], {});\n",
              "        if (!dataTable) return;\n",
              "\n",
              "        const docLinkHtml = 'Like what you see? Visit the ' +\n",
              "          '<a target=\"_blank\" href=https://colab.research.google.com/notebooks/data_table.ipynb>data table notebook</a>'\n",
              "          + ' to learn more about interactive tables.';\n",
              "        element.innerHTML = '';\n",
              "        dataTable['output_type'] = 'display_data';\n",
              "        await google.colab.output.renderOutput(dataTable, element);\n",
              "        const docLink = document.createElement('div');\n",
              "        docLink.innerHTML = docLinkHtml;\n",
              "        element.appendChild(docLink);\n",
              "      }\n",
              "    </script>\n",
              "  </div>\n",
              "\n",
              "\n",
              "<div id=\"df-dc1e632f-69c3-455f-939e-4a84bc6936a7\">\n",
              "  <button class=\"colab-df-quickchart\" onclick=\"quickchart('df-dc1e632f-69c3-455f-939e-4a84bc6936a7')\"\n",
              "            title=\"Suggest charts\"\n",
              "            style=\"display:none;\">\n",
              "\n",
              "<svg xmlns=\"http://www.w3.org/2000/svg\" height=\"24px\"viewBox=\"0 0 24 24\"\n",
              "     width=\"24px\">\n",
              "    <g>\n",
              "        <path d=\"M19 3H5c-1.1 0-2 .9-2 2v14c0 1.1.9 2 2 2h14c1.1 0 2-.9 2-2V5c0-1.1-.9-2-2-2zM9 17H7v-7h2v7zm4 0h-2V7h2v10zm4 0h-2v-4h2v4z\"/>\n",
              "    </g>\n",
              "</svg>\n",
              "  </button>\n",
              "\n",
              "<style>\n",
              "  .colab-df-quickchart {\n",
              "      --bg-color: #E8F0FE;\n",
              "      --fill-color: #1967D2;\n",
              "      --hover-bg-color: #E2EBFA;\n",
              "      --hover-fill-color: #174EA6;\n",
              "      --disabled-fill-color: #AAA;\n",
              "      --disabled-bg-color: #DDD;\n",
              "  }\n",
              "\n",
              "  [theme=dark] .colab-df-quickchart {\n",
              "      --bg-color: #3B4455;\n",
              "      --fill-color: #D2E3FC;\n",
              "      --hover-bg-color: #434B5C;\n",
              "      --hover-fill-color: #FFFFFF;\n",
              "      --disabled-bg-color: #3B4455;\n",
              "      --disabled-fill-color: #666;\n",
              "  }\n",
              "\n",
              "  .colab-df-quickchart {\n",
              "    background-color: var(--bg-color);\n",
              "    border: none;\n",
              "    border-radius: 50%;\n",
              "    cursor: pointer;\n",
              "    display: none;\n",
              "    fill: var(--fill-color);\n",
              "    height: 32px;\n",
              "    padding: 0;\n",
              "    width: 32px;\n",
              "  }\n",
              "\n",
              "  .colab-df-quickchart:hover {\n",
              "    background-color: var(--hover-bg-color);\n",
              "    box-shadow: 0 1px 2px rgba(60, 64, 67, 0.3), 0 1px 3px 1px rgba(60, 64, 67, 0.15);\n",
              "    fill: var(--button-hover-fill-color);\n",
              "  }\n",
              "\n",
              "  .colab-df-quickchart-complete:disabled,\n",
              "  .colab-df-quickchart-complete:disabled:hover {\n",
              "    background-color: var(--disabled-bg-color);\n",
              "    fill: var(--disabled-fill-color);\n",
              "    box-shadow: none;\n",
              "  }\n",
              "\n",
              "  .colab-df-spinner {\n",
              "    border: 2px solid var(--fill-color);\n",
              "    border-color: transparent;\n",
              "    border-bottom-color: var(--fill-color);\n",
              "    animation:\n",
              "      spin 1s steps(1) infinite;\n",
              "  }\n",
              "\n",
              "  @keyframes spin {\n",
              "    0% {\n",
              "      border-color: transparent;\n",
              "      border-bottom-color: var(--fill-color);\n",
              "      border-left-color: var(--fill-color);\n",
              "    }\n",
              "    20% {\n",
              "      border-color: transparent;\n",
              "      border-left-color: var(--fill-color);\n",
              "      border-top-color: var(--fill-color);\n",
              "    }\n",
              "    30% {\n",
              "      border-color: transparent;\n",
              "      border-left-color: var(--fill-color);\n",
              "      border-top-color: var(--fill-color);\n",
              "      border-right-color: var(--fill-color);\n",
              "    }\n",
              "    40% {\n",
              "      border-color: transparent;\n",
              "      border-right-color: var(--fill-color);\n",
              "      border-top-color: var(--fill-color);\n",
              "    }\n",
              "    60% {\n",
              "      border-color: transparent;\n",
              "      border-right-color: var(--fill-color);\n",
              "    }\n",
              "    80% {\n",
              "      border-color: transparent;\n",
              "      border-right-color: var(--fill-color);\n",
              "      border-bottom-color: var(--fill-color);\n",
              "    }\n",
              "    90% {\n",
              "      border-color: transparent;\n",
              "      border-bottom-color: var(--fill-color);\n",
              "    }\n",
              "  }\n",
              "</style>\n",
              "\n",
              "  <script>\n",
              "    async function quickchart(key) {\n",
              "      const quickchartButtonEl =\n",
              "        document.querySelector('#' + key + ' button');\n",
              "      quickchartButtonEl.disabled = true;  // To prevent multiple clicks.\n",
              "      quickchartButtonEl.classList.add('colab-df-spinner');\n",
              "      try {\n",
              "        const charts = await google.colab.kernel.invokeFunction(\n",
              "            'suggestCharts', [key], {});\n",
              "      } catch (error) {\n",
              "        console.error('Error during call to suggestCharts:', error);\n",
              "      }\n",
              "      quickchartButtonEl.classList.remove('colab-df-spinner');\n",
              "      quickchartButtonEl.classList.add('colab-df-quickchart-complete');\n",
              "    }\n",
              "    (() => {\n",
              "      let quickchartButtonEl =\n",
              "        document.querySelector('#df-dc1e632f-69c3-455f-939e-4a84bc6936a7 button');\n",
              "      quickchartButtonEl.style.display =\n",
              "        google.colab.kernel.accessAllowed ? 'block' : 'none';\n",
              "    })();\n",
              "  </script>\n",
              "</div>\n",
              "\n",
              "    </div>\n",
              "  </div>\n"
            ],
            "application/vnd.google.colaboratory.intrinsic+json": {
              "type": "dataframe",
              "summary": "{\n  \"name\": \"df\",\n  \"rows\": 373,\n  \"fields\": [\n    {\n      \"column\": \"pokedex_number\",\n      \"properties\": {\n        \"dtype\": \"number\",\n        \"std\": 223,\n        \"min\": 3,\n        \"max\": 801,\n        \"num_unique_values\": 373,\n        \"samples\": [\n          713,\n          108,\n          45\n        ],\n        \"semantic_type\": \"\",\n        \"description\": \"\"\n      }\n    },\n    {\n      \"column\": \"name\",\n      \"properties\": {\n        \"dtype\": \"string\",\n        \"num_unique_values\": 373,\n        \"samples\": [\n          \"Avalugg\",\n          \"Lickitung\",\n          \"Vileplume\"\n        ],\n        \"semantic_type\": \"\",\n        \"description\": \"\"\n      }\n    },\n    {\n      \"column\": \"hp\",\n      \"properties\": {\n        \"dtype\": \"number\",\n        \"std\": 24,\n        \"min\": 69,\n        \"max\": 255,\n        \"num_unique_values\": 58,\n        \"samples\": [\n          80,\n          70,\n          97\n        ],\n        \"semantic_type\": \"\",\n        \"description\": \"\"\n      }\n    }\n  ]\n}"
            }
          },
          "metadata": {},
          "execution_count": 11
        }
      ]
    },
    {
      "cell_type": "code",
      "source": [
        "# Show pokemons whose 'defense' attribute is the highest\n",
        "print( f\"Maximum defense: {df['defense'].max()}\" )\n",
        "df.loc[ df['defense'] == df['defense'].max() , ['pokedex_number','name','hp','defense'] ]"
      ],
      "metadata": {
        "id": "BrIPLfd2vQmD",
        "colab": {
          "base_uri": "https://localhost:8080/",
          "height": 161
        },
        "outputId": "a9788700-2513-49f3-ee03-9d8f8517a80f"
      },
      "execution_count": 12,
      "outputs": [
        {
          "output_type": "stream",
          "name": "stdout",
          "text": [
            "Maximum defense: 230\n"
          ]
        },
        {
          "output_type": "execute_result",
          "data": {
            "text/plain": [
              "     pokedex_number     name  hp  defense\n",
              "207             208  Steelix  75      230\n",
              "212             213  Shuckle  20      230\n",
              "305             306   Aggron  70      230"
            ],
            "text/html": [
              "\n",
              "  <div id=\"df-6b733eb4-5924-475e-81fe-bdcb1eb8bcde\" class=\"colab-df-container\">\n",
              "    <div>\n",
              "<style scoped>\n",
              "    .dataframe tbody tr th:only-of-type {\n",
              "        vertical-align: middle;\n",
              "    }\n",
              "\n",
              "    .dataframe tbody tr th {\n",
              "        vertical-align: top;\n",
              "    }\n",
              "\n",
              "    .dataframe thead th {\n",
              "        text-align: right;\n",
              "    }\n",
              "</style>\n",
              "<table border=\"1\" class=\"dataframe\">\n",
              "  <thead>\n",
              "    <tr style=\"text-align: right;\">\n",
              "      <th></th>\n",
              "      <th>pokedex_number</th>\n",
              "      <th>name</th>\n",
              "      <th>hp</th>\n",
              "      <th>defense</th>\n",
              "    </tr>\n",
              "  </thead>\n",
              "  <tbody>\n",
              "    <tr>\n",
              "      <th>207</th>\n",
              "      <td>208</td>\n",
              "      <td>Steelix</td>\n",
              "      <td>75</td>\n",
              "      <td>230</td>\n",
              "    </tr>\n",
              "    <tr>\n",
              "      <th>212</th>\n",
              "      <td>213</td>\n",
              "      <td>Shuckle</td>\n",
              "      <td>20</td>\n",
              "      <td>230</td>\n",
              "    </tr>\n",
              "    <tr>\n",
              "      <th>305</th>\n",
              "      <td>306</td>\n",
              "      <td>Aggron</td>\n",
              "      <td>70</td>\n",
              "      <td>230</td>\n",
              "    </tr>\n",
              "  </tbody>\n",
              "</table>\n",
              "</div>\n",
              "    <div class=\"colab-df-buttons\">\n",
              "\n",
              "  <div class=\"colab-df-container\">\n",
              "    <button class=\"colab-df-convert\" onclick=\"convertToInteractive('df-6b733eb4-5924-475e-81fe-bdcb1eb8bcde')\"\n",
              "            title=\"Convert this dataframe to an interactive table.\"\n",
              "            style=\"display:none;\">\n",
              "\n",
              "  <svg xmlns=\"http://www.w3.org/2000/svg\" height=\"24px\" viewBox=\"0 -960 960 960\">\n",
              "    <path d=\"M120-120v-720h720v720H120Zm60-500h600v-160H180v160Zm220 220h160v-160H400v160Zm0 220h160v-160H400v160ZM180-400h160v-160H180v160Zm440 0h160v-160H620v160ZM180-180h160v-160H180v160Zm440 0h160v-160H620v160Z\"/>\n",
              "  </svg>\n",
              "    </button>\n",
              "\n",
              "  <style>\n",
              "    .colab-df-container {\n",
              "      display:flex;\n",
              "      gap: 12px;\n",
              "    }\n",
              "\n",
              "    .colab-df-convert {\n",
              "      background-color: #E8F0FE;\n",
              "      border: none;\n",
              "      border-radius: 50%;\n",
              "      cursor: pointer;\n",
              "      display: none;\n",
              "      fill: #1967D2;\n",
              "      height: 32px;\n",
              "      padding: 0 0 0 0;\n",
              "      width: 32px;\n",
              "    }\n",
              "\n",
              "    .colab-df-convert:hover {\n",
              "      background-color: #E2EBFA;\n",
              "      box-shadow: 0px 1px 2px rgba(60, 64, 67, 0.3), 0px 1px 3px 1px rgba(60, 64, 67, 0.15);\n",
              "      fill: #174EA6;\n",
              "    }\n",
              "\n",
              "    .colab-df-buttons div {\n",
              "      margin-bottom: 4px;\n",
              "    }\n",
              "\n",
              "    [theme=dark] .colab-df-convert {\n",
              "      background-color: #3B4455;\n",
              "      fill: #D2E3FC;\n",
              "    }\n",
              "\n",
              "    [theme=dark] .colab-df-convert:hover {\n",
              "      background-color: #434B5C;\n",
              "      box-shadow: 0px 1px 3px 1px rgba(0, 0, 0, 0.15);\n",
              "      filter: drop-shadow(0px 1px 2px rgba(0, 0, 0, 0.3));\n",
              "      fill: #FFFFFF;\n",
              "    }\n",
              "  </style>\n",
              "\n",
              "    <script>\n",
              "      const buttonEl =\n",
              "        document.querySelector('#df-6b733eb4-5924-475e-81fe-bdcb1eb8bcde button.colab-df-convert');\n",
              "      buttonEl.style.display =\n",
              "        google.colab.kernel.accessAllowed ? 'block' : 'none';\n",
              "\n",
              "      async function convertToInteractive(key) {\n",
              "        const element = document.querySelector('#df-6b733eb4-5924-475e-81fe-bdcb1eb8bcde');\n",
              "        const dataTable =\n",
              "          await google.colab.kernel.invokeFunction('convertToInteractive',\n",
              "                                                    [key], {});\n",
              "        if (!dataTable) return;\n",
              "\n",
              "        const docLinkHtml = 'Like what you see? Visit the ' +\n",
              "          '<a target=\"_blank\" href=https://colab.research.google.com/notebooks/data_table.ipynb>data table notebook</a>'\n",
              "          + ' to learn more about interactive tables.';\n",
              "        element.innerHTML = '';\n",
              "        dataTable['output_type'] = 'display_data';\n",
              "        await google.colab.output.renderOutput(dataTable, element);\n",
              "        const docLink = document.createElement('div');\n",
              "        docLink.innerHTML = docLinkHtml;\n",
              "        element.appendChild(docLink);\n",
              "      }\n",
              "    </script>\n",
              "  </div>\n",
              "\n",
              "\n",
              "<div id=\"df-4290a916-8955-44ab-9da6-0b57ca660a80\">\n",
              "  <button class=\"colab-df-quickchart\" onclick=\"quickchart('df-4290a916-8955-44ab-9da6-0b57ca660a80')\"\n",
              "            title=\"Suggest charts\"\n",
              "            style=\"display:none;\">\n",
              "\n",
              "<svg xmlns=\"http://www.w3.org/2000/svg\" height=\"24px\"viewBox=\"0 0 24 24\"\n",
              "     width=\"24px\">\n",
              "    <g>\n",
              "        <path d=\"M19 3H5c-1.1 0-2 .9-2 2v14c0 1.1.9 2 2 2h14c1.1 0 2-.9 2-2V5c0-1.1-.9-2-2-2zM9 17H7v-7h2v7zm4 0h-2V7h2v10zm4 0h-2v-4h2v4z\"/>\n",
              "    </g>\n",
              "</svg>\n",
              "  </button>\n",
              "\n",
              "<style>\n",
              "  .colab-df-quickchart {\n",
              "      --bg-color: #E8F0FE;\n",
              "      --fill-color: #1967D2;\n",
              "      --hover-bg-color: #E2EBFA;\n",
              "      --hover-fill-color: #174EA6;\n",
              "      --disabled-fill-color: #AAA;\n",
              "      --disabled-bg-color: #DDD;\n",
              "  }\n",
              "\n",
              "  [theme=dark] .colab-df-quickchart {\n",
              "      --bg-color: #3B4455;\n",
              "      --fill-color: #D2E3FC;\n",
              "      --hover-bg-color: #434B5C;\n",
              "      --hover-fill-color: #FFFFFF;\n",
              "      --disabled-bg-color: #3B4455;\n",
              "      --disabled-fill-color: #666;\n",
              "  }\n",
              "\n",
              "  .colab-df-quickchart {\n",
              "    background-color: var(--bg-color);\n",
              "    border: none;\n",
              "    border-radius: 50%;\n",
              "    cursor: pointer;\n",
              "    display: none;\n",
              "    fill: var(--fill-color);\n",
              "    height: 32px;\n",
              "    padding: 0;\n",
              "    width: 32px;\n",
              "  }\n",
              "\n",
              "  .colab-df-quickchart:hover {\n",
              "    background-color: var(--hover-bg-color);\n",
              "    box-shadow: 0 1px 2px rgba(60, 64, 67, 0.3), 0 1px 3px 1px rgba(60, 64, 67, 0.15);\n",
              "    fill: var(--button-hover-fill-color);\n",
              "  }\n",
              "\n",
              "  .colab-df-quickchart-complete:disabled,\n",
              "  .colab-df-quickchart-complete:disabled:hover {\n",
              "    background-color: var(--disabled-bg-color);\n",
              "    fill: var(--disabled-fill-color);\n",
              "    box-shadow: none;\n",
              "  }\n",
              "\n",
              "  .colab-df-spinner {\n",
              "    border: 2px solid var(--fill-color);\n",
              "    border-color: transparent;\n",
              "    border-bottom-color: var(--fill-color);\n",
              "    animation:\n",
              "      spin 1s steps(1) infinite;\n",
              "  }\n",
              "\n",
              "  @keyframes spin {\n",
              "    0% {\n",
              "      border-color: transparent;\n",
              "      border-bottom-color: var(--fill-color);\n",
              "      border-left-color: var(--fill-color);\n",
              "    }\n",
              "    20% {\n",
              "      border-color: transparent;\n",
              "      border-left-color: var(--fill-color);\n",
              "      border-top-color: var(--fill-color);\n",
              "    }\n",
              "    30% {\n",
              "      border-color: transparent;\n",
              "      border-left-color: var(--fill-color);\n",
              "      border-top-color: var(--fill-color);\n",
              "      border-right-color: var(--fill-color);\n",
              "    }\n",
              "    40% {\n",
              "      border-color: transparent;\n",
              "      border-right-color: var(--fill-color);\n",
              "      border-top-color: var(--fill-color);\n",
              "    }\n",
              "    60% {\n",
              "      border-color: transparent;\n",
              "      border-right-color: var(--fill-color);\n",
              "    }\n",
              "    80% {\n",
              "      border-color: transparent;\n",
              "      border-right-color: var(--fill-color);\n",
              "      border-bottom-color: var(--fill-color);\n",
              "    }\n",
              "    90% {\n",
              "      border-color: transparent;\n",
              "      border-bottom-color: var(--fill-color);\n",
              "    }\n",
              "  }\n",
              "</style>\n",
              "\n",
              "  <script>\n",
              "    async function quickchart(key) {\n",
              "      const quickchartButtonEl =\n",
              "        document.querySelector('#' + key + ' button');\n",
              "      quickchartButtonEl.disabled = true;  // To prevent multiple clicks.\n",
              "      quickchartButtonEl.classList.add('colab-df-spinner');\n",
              "      try {\n",
              "        const charts = await google.colab.kernel.invokeFunction(\n",
              "            'suggestCharts', [key], {});\n",
              "      } catch (error) {\n",
              "        console.error('Error during call to suggestCharts:', error);\n",
              "      }\n",
              "      quickchartButtonEl.classList.remove('colab-df-spinner');\n",
              "      quickchartButtonEl.classList.add('colab-df-quickchart-complete');\n",
              "    }\n",
              "    (() => {\n",
              "      let quickchartButtonEl =\n",
              "        document.querySelector('#df-4290a916-8955-44ab-9da6-0b57ca660a80 button');\n",
              "      quickchartButtonEl.style.display =\n",
              "        google.colab.kernel.accessAllowed ? 'block' : 'none';\n",
              "    })();\n",
              "  </script>\n",
              "</div>\n",
              "\n",
              "    </div>\n",
              "  </div>\n"
            ],
            "application/vnd.google.colaboratory.intrinsic+json": {
              "type": "dataframe",
              "summary": "{\n  \"name\": \"df\",\n  \"rows\": 3,\n  \"fields\": [\n    {\n      \"column\": \"pokedex_number\",\n      \"properties\": {\n        \"dtype\": \"number\",\n        \"std\": 55,\n        \"min\": 208,\n        \"max\": 306,\n        \"num_unique_values\": 3,\n        \"samples\": [\n          208,\n          213,\n          306\n        ],\n        \"semantic_type\": \"\",\n        \"description\": \"\"\n      }\n    },\n    {\n      \"column\": \"name\",\n      \"properties\": {\n        \"dtype\": \"string\",\n        \"num_unique_values\": 3,\n        \"samples\": [\n          \"Steelix\",\n          \"Shuckle\",\n          \"Aggron\"\n        ],\n        \"semantic_type\": \"\",\n        \"description\": \"\"\n      }\n    },\n    {\n      \"column\": \"hp\",\n      \"properties\": {\n        \"dtype\": \"number\",\n        \"std\": 30,\n        \"min\": 20,\n        \"max\": 75,\n        \"num_unique_values\": 3,\n        \"samples\": [\n          75,\n          20,\n          70\n        ],\n        \"semantic_type\": \"\",\n        \"description\": \"\"\n      }\n    },\n    {\n      \"column\": \"defense\",\n      \"properties\": {\n        \"dtype\": \"number\",\n        \"std\": 0,\n        \"min\": 230,\n        \"max\": 230,\n        \"num_unique_values\": 1,\n        \"samples\": [\n          230\n        ],\n        \"semantic_type\": \"\",\n        \"description\": \"\"\n      }\n    }\n  ]\n}"
            }
          },
          "metadata": {},
          "execution_count": 12
        }
      ]
    },
    {
      "cell_type": "markdown",
      "source": [
        "## 1.2 Categorical aggregation\n",
        "\n",
        "`unique()`, `nunique()`, `count()`, `value_counts()` => These functions can be applied to both numeric and non-numeric data.\n",
        "\n",
        "For pandas.Series:"
      ],
      "metadata": {
        "id": "JXiYl67GmQB-"
      }
    },
    {
      "cell_type": "code",
      "source": [
        "# Numeric data: Show unique values\n",
        "df['hp'].unique()"
      ],
      "metadata": {
        "id": "sZL7GBlaxDtJ",
        "colab": {
          "base_uri": "https://localhost:8080/"
        },
        "outputId": "e032dad2-a055-431a-cc60-fbe9406fccf7"
      },
      "execution_count": 13,
      "outputs": [
        {
          "output_type": "execute_result",
          "data": {
            "text/plain": [
              "array([ 45,  60,  80,  39,  58,  78,  44,  59,  79,  50,  40,  65,  63,\n",
              "        83,  30,  75,  35,  55,  70,  90,  46,  61,  81,  95,  38,  73,\n",
              "       115, 140,  10,  25,  52, 105,  85, 250,  20, 130,  48, 160,  41,\n",
              "        91, 106, 100, 125, 190, 255,  28,  68, 150,  31,   1,  64,  84,\n",
              "       104,  72, 144, 170, 110,  43,  66,  86,  99,  76,  53,  37,  77,\n",
              "        67,  97, 111,  49,  71, 103,  57, 108, 135,  74,  69, 120, 116,\n",
              "        62,  54,  36,  51, 114, 165, 109,  89,  92,  56,  88, 123, 101,\n",
              "        82,  42, 126, 216,  47, 137, 107, 223])"
            ]
          },
          "metadata": {},
          "execution_count": 13
        }
      ]
    },
    {
      "cell_type": "code",
      "source": [
        "# Numeric data: Show the number of unique values\n",
        "df['hp'].nunique()"
      ],
      "metadata": {
        "id": "At1mfWhUx8kw",
        "colab": {
          "base_uri": "https://localhost:8080/"
        },
        "outputId": "8853a89f-133d-42e2-a898-bd29d6f8e1f2"
      },
      "execution_count": 14,
      "outputs": [
        {
          "output_type": "execute_result",
          "data": {
            "text/plain": [
              "99"
            ]
          },
          "metadata": {},
          "execution_count": 14
        }
      ]
    },
    {
      "cell_type": "code",
      "source": [
        "# Numeric data: Count non-NA cells\n",
        "df['hp'].count()"
      ],
      "metadata": {
        "id": "oFU9XjlkNIvU",
        "colab": {
          "base_uri": "https://localhost:8080/"
        },
        "outputId": "c3e42b34-ade0-4127-8363-97d13b1f5f72"
      },
      "execution_count": 15,
      "outputs": [
        {
          "output_type": "execute_result",
          "data": {
            "text/plain": [
              "801"
            ]
          },
          "metadata": {},
          "execution_count": 15
        }
      ]
    },
    {
      "cell_type": "code",
      "source": [
        "# Numeric data: View unique values and their counts\n",
        "# Result is sorted by the count (frequency) from max to min\n",
        "df['hp'].value_counts()"
      ],
      "metadata": {
        "id": "PibKOJqWy7IJ",
        "colab": {
          "base_uri": "https://localhost:8080/",
          "height": 490
        },
        "outputId": "16048639-a090-43e2-e760-d09006d04053"
      },
      "execution_count": 16,
      "outputs": [
        {
          "output_type": "execute_result",
          "data": {
            "text/plain": [
              "hp\n",
              "60     68\n",
              "70     55\n",
              "50     54\n",
              "75     44\n",
              "65     44\n",
              "       ..\n",
              "170     1\n",
              "99      1\n",
              "37      1\n",
              "111     1\n",
              "223     1\n",
              "Name: count, Length: 99, dtype: int64"
            ],
            "text/html": [
              "<div>\n",
              "<style scoped>\n",
              "    .dataframe tbody tr th:only-of-type {\n",
              "        vertical-align: middle;\n",
              "    }\n",
              "\n",
              "    .dataframe tbody tr th {\n",
              "        vertical-align: top;\n",
              "    }\n",
              "\n",
              "    .dataframe thead th {\n",
              "        text-align: right;\n",
              "    }\n",
              "</style>\n",
              "<table border=\"1\" class=\"dataframe\">\n",
              "  <thead>\n",
              "    <tr style=\"text-align: right;\">\n",
              "      <th></th>\n",
              "      <th>count</th>\n",
              "    </tr>\n",
              "    <tr>\n",
              "      <th>hp</th>\n",
              "      <th></th>\n",
              "    </tr>\n",
              "  </thead>\n",
              "  <tbody>\n",
              "    <tr>\n",
              "      <th>60</th>\n",
              "      <td>68</td>\n",
              "    </tr>\n",
              "    <tr>\n",
              "      <th>70</th>\n",
              "      <td>55</td>\n",
              "    </tr>\n",
              "    <tr>\n",
              "      <th>50</th>\n",
              "      <td>54</td>\n",
              "    </tr>\n",
              "    <tr>\n",
              "      <th>75</th>\n",
              "      <td>44</td>\n",
              "    </tr>\n",
              "    <tr>\n",
              "      <th>65</th>\n",
              "      <td>44</td>\n",
              "    </tr>\n",
              "    <tr>\n",
              "      <th>...</th>\n",
              "      <td>...</td>\n",
              "    </tr>\n",
              "    <tr>\n",
              "      <th>170</th>\n",
              "      <td>1</td>\n",
              "    </tr>\n",
              "    <tr>\n",
              "      <th>99</th>\n",
              "      <td>1</td>\n",
              "    </tr>\n",
              "    <tr>\n",
              "      <th>37</th>\n",
              "      <td>1</td>\n",
              "    </tr>\n",
              "    <tr>\n",
              "      <th>111</th>\n",
              "      <td>1</td>\n",
              "    </tr>\n",
              "    <tr>\n",
              "      <th>223</th>\n",
              "      <td>1</td>\n",
              "    </tr>\n",
              "  </tbody>\n",
              "</table>\n",
              "<p>99 rows × 1 columns</p>\n",
              "</div><br><label><b>dtype:</b> int64</label>"
            ]
          },
          "metadata": {},
          "execution_count": 16
        }
      ]
    },
    {
      "cell_type": "code",
      "source": [
        "# Non-numeric data without NA: Show unique values\n",
        "df['type1'].unique()"
      ],
      "metadata": {
        "id": "f1qTYRHQx1wz",
        "colab": {
          "base_uri": "https://localhost:8080/"
        },
        "outputId": "a171e075-e16b-4298-ca69-ff88763927e3"
      },
      "execution_count": 17,
      "outputs": [
        {
          "output_type": "execute_result",
          "data": {
            "text/plain": [
              "array(['grass', 'fire', 'water', 'bug', 'normal', 'poison', 'electric',\n",
              "       'ground', 'fairy', 'fighting', 'psychic', 'rock', 'ghost', 'ice',\n",
              "       'dragon', 'dark', 'steel', 'flying'], dtype=object)"
            ]
          },
          "metadata": {},
          "execution_count": 17
        }
      ]
    },
    {
      "cell_type": "code",
      "source": [
        "# Non-numeric data without NA: Show the number of unique values\n",
        "df['type1'].nunique()"
      ],
      "metadata": {
        "id": "v2VLWd-lyIX0",
        "colab": {
          "base_uri": "https://localhost:8080/"
        },
        "outputId": "da7337aa-298c-449b-b100-410c9dddf2f3"
      },
      "execution_count": 18,
      "outputs": [
        {
          "output_type": "execute_result",
          "data": {
            "text/plain": [
              "18"
            ]
          },
          "metadata": {},
          "execution_count": 18
        }
      ]
    },
    {
      "cell_type": "code",
      "source": [
        "# Non-numeric data without NA: Count non-NA cells\n",
        "df['type1'].count()"
      ],
      "metadata": {
        "id": "kbzQ57MgNb2H",
        "colab": {
          "base_uri": "https://localhost:8080/"
        },
        "outputId": "86f82228-0e68-4c4d-dd5b-17d79feaaf59"
      },
      "execution_count": 19,
      "outputs": [
        {
          "output_type": "execute_result",
          "data": {
            "text/plain": [
              "801"
            ]
          },
          "metadata": {},
          "execution_count": 19
        }
      ]
    },
    {
      "cell_type": "code",
      "source": [
        "# Non-numeric data without NA: View unique values and their counts\n",
        "df['type1'].value_counts()"
      ],
      "metadata": {
        "id": "JtsEOKd7zIJu",
        "colab": {
          "base_uri": "https://localhost:8080/",
          "height": 680
        },
        "outputId": "b8e260e1-d0dc-410c-f3b9-fe27142f8aee"
      },
      "execution_count": 20,
      "outputs": [
        {
          "output_type": "execute_result",
          "data": {
            "text/plain": [
              "type1\n",
              "water       114\n",
              "normal      105\n",
              "grass        78\n",
              "bug          72\n",
              "psychic      53\n",
              "fire         52\n",
              "rock         45\n",
              "electric     39\n",
              "poison       32\n",
              "ground       32\n",
              "dark         29\n",
              "fighting     28\n",
              "ghost        27\n",
              "dragon       27\n",
              "steel        24\n",
              "ice          23\n",
              "fairy        18\n",
              "flying        3\n",
              "Name: count, dtype: int64"
            ],
            "text/html": [
              "<div>\n",
              "<style scoped>\n",
              "    .dataframe tbody tr th:only-of-type {\n",
              "        vertical-align: middle;\n",
              "    }\n",
              "\n",
              "    .dataframe tbody tr th {\n",
              "        vertical-align: top;\n",
              "    }\n",
              "\n",
              "    .dataframe thead th {\n",
              "        text-align: right;\n",
              "    }\n",
              "</style>\n",
              "<table border=\"1\" class=\"dataframe\">\n",
              "  <thead>\n",
              "    <tr style=\"text-align: right;\">\n",
              "      <th></th>\n",
              "      <th>count</th>\n",
              "    </tr>\n",
              "    <tr>\n",
              "      <th>type1</th>\n",
              "      <th></th>\n",
              "    </tr>\n",
              "  </thead>\n",
              "  <tbody>\n",
              "    <tr>\n",
              "      <th>water</th>\n",
              "      <td>114</td>\n",
              "    </tr>\n",
              "    <tr>\n",
              "      <th>normal</th>\n",
              "      <td>105</td>\n",
              "    </tr>\n",
              "    <tr>\n",
              "      <th>grass</th>\n",
              "      <td>78</td>\n",
              "    </tr>\n",
              "    <tr>\n",
              "      <th>bug</th>\n",
              "      <td>72</td>\n",
              "    </tr>\n",
              "    <tr>\n",
              "      <th>psychic</th>\n",
              "      <td>53</td>\n",
              "    </tr>\n",
              "    <tr>\n",
              "      <th>fire</th>\n",
              "      <td>52</td>\n",
              "    </tr>\n",
              "    <tr>\n",
              "      <th>rock</th>\n",
              "      <td>45</td>\n",
              "    </tr>\n",
              "    <tr>\n",
              "      <th>electric</th>\n",
              "      <td>39</td>\n",
              "    </tr>\n",
              "    <tr>\n",
              "      <th>poison</th>\n",
              "      <td>32</td>\n",
              "    </tr>\n",
              "    <tr>\n",
              "      <th>ground</th>\n",
              "      <td>32</td>\n",
              "    </tr>\n",
              "    <tr>\n",
              "      <th>dark</th>\n",
              "      <td>29</td>\n",
              "    </tr>\n",
              "    <tr>\n",
              "      <th>fighting</th>\n",
              "      <td>28</td>\n",
              "    </tr>\n",
              "    <tr>\n",
              "      <th>ghost</th>\n",
              "      <td>27</td>\n",
              "    </tr>\n",
              "    <tr>\n",
              "      <th>dragon</th>\n",
              "      <td>27</td>\n",
              "    </tr>\n",
              "    <tr>\n",
              "      <th>steel</th>\n",
              "      <td>24</td>\n",
              "    </tr>\n",
              "    <tr>\n",
              "      <th>ice</th>\n",
              "      <td>23</td>\n",
              "    </tr>\n",
              "    <tr>\n",
              "      <th>fairy</th>\n",
              "      <td>18</td>\n",
              "    </tr>\n",
              "    <tr>\n",
              "      <th>flying</th>\n",
              "      <td>3</td>\n",
              "    </tr>\n",
              "  </tbody>\n",
              "</table>\n",
              "</div><br><label><b>dtype:</b> int64</label>"
            ]
          },
          "metadata": {},
          "execution_count": 20
        }
      ]
    },
    {
      "cell_type": "code",
      "source": [
        "# Non-numeric data with NA: Show unique values\n",
        "df['type2'].unique()"
      ],
      "metadata": {
        "id": "U_y8ko2vBtRS",
        "colab": {
          "base_uri": "https://localhost:8080/"
        },
        "outputId": "c5bf8b32-0a2d-4949-afb4-afff973b3313"
      },
      "execution_count": 21,
      "outputs": [
        {
          "output_type": "execute_result",
          "data": {
            "text/plain": [
              "array(['poison', nan, 'flying', 'dark', 'electric', 'ice', 'ground',\n",
              "       'fairy', 'grass', 'fighting', 'psychic', 'steel', 'fire', 'rock',\n",
              "       'water', 'dragon', 'ghost', 'bug', 'normal'], dtype=object)"
            ]
          },
          "metadata": {},
          "execution_count": 21
        }
      ]
    },
    {
      "cell_type": "code",
      "source": [
        "# Non-numeric data with NA: Show the number of unique values\n",
        "df['type2'].nunique()     # default:dropna=True"
      ],
      "metadata": {
        "id": "7JxkD-5WRb6H",
        "colab": {
          "base_uri": "https://localhost:8080/"
        },
        "outputId": "dfd70c1c-2892-4ab3-a6bf-6a38e62a186d"
      },
      "execution_count": 22,
      "outputs": [
        {
          "output_type": "execute_result",
          "data": {
            "text/plain": [
              "18"
            ]
          },
          "metadata": {},
          "execution_count": 22
        }
      ]
    },
    {
      "cell_type": "markdown",
      "source": [
        "**Note:** การใส่ dropna=False จะทำให้นับค่า NaN เพราะ Default of Count จะไม่นับค่า NaN"
      ],
      "metadata": {
        "id": "GSc1VyjK2QVU"
      }
    },
    {
      "cell_type": "code",
      "source": [
        "# Non-numeric data with NA: Show the number of unique values\n",
        "df['type2'].nunique(dropna=False)     # default:dropna=True"
      ],
      "metadata": {
        "id": "7ZFtgPcICJJT",
        "colab": {
          "base_uri": "https://localhost:8080/"
        },
        "outputId": "9452c5bc-3602-4c54-8bd7-9a8629eb2b75"
      },
      "execution_count": 23,
      "outputs": [
        {
          "output_type": "execute_result",
          "data": {
            "text/plain": [
              "19"
            ]
          },
          "metadata": {},
          "execution_count": 23
        }
      ]
    },
    {
      "cell_type": "code",
      "source": [
        "# Non-numeric data with NA: Count non-NA cells\n",
        "df['type2'].count()"
      ],
      "metadata": {
        "id": "AOA54cWFNkT8",
        "colab": {
          "base_uri": "https://localhost:8080/"
        },
        "outputId": "d34a0b44-777d-4cb2-ec46-62929a1b7b42"
      },
      "execution_count": 24,
      "outputs": [
        {
          "output_type": "execute_result",
          "data": {
            "text/plain": [
              "417"
            ]
          },
          "metadata": {},
          "execution_count": 24
        }
      ]
    },
    {
      "cell_type": "code",
      "source": [
        "# Non-numeric data with NA: View unique values and their counts\n",
        "# Result is sorted by the count (frequency) from max to min\n",
        "df['type2'].value_counts()    # default:dropna=True"
      ],
      "metadata": {
        "id": "jVYqbHyURym-",
        "colab": {
          "base_uri": "https://localhost:8080/",
          "height": 680
        },
        "outputId": "e548595d-e5b0-4a55-cb41-3fc7067dab03"
      },
      "execution_count": 25,
      "outputs": [
        {
          "output_type": "execute_result",
          "data": {
            "text/plain": [
              "type2\n",
              "flying      95\n",
              "poison      34\n",
              "ground      34\n",
              "fairy       29\n",
              "psychic     29\n",
              "fighting    25\n",
              "steel       22\n",
              "dark        21\n",
              "grass       20\n",
              "water       17\n",
              "dragon      17\n",
              "ice         15\n",
              "rock        14\n",
              "ghost       14\n",
              "fire        13\n",
              "electric     9\n",
              "bug          5\n",
              "normal       4\n",
              "Name: count, dtype: int64"
            ],
            "text/html": [
              "<div>\n",
              "<style scoped>\n",
              "    .dataframe tbody tr th:only-of-type {\n",
              "        vertical-align: middle;\n",
              "    }\n",
              "\n",
              "    .dataframe tbody tr th {\n",
              "        vertical-align: top;\n",
              "    }\n",
              "\n",
              "    .dataframe thead th {\n",
              "        text-align: right;\n",
              "    }\n",
              "</style>\n",
              "<table border=\"1\" class=\"dataframe\">\n",
              "  <thead>\n",
              "    <tr style=\"text-align: right;\">\n",
              "      <th></th>\n",
              "      <th>count</th>\n",
              "    </tr>\n",
              "    <tr>\n",
              "      <th>type2</th>\n",
              "      <th></th>\n",
              "    </tr>\n",
              "  </thead>\n",
              "  <tbody>\n",
              "    <tr>\n",
              "      <th>flying</th>\n",
              "      <td>95</td>\n",
              "    </tr>\n",
              "    <tr>\n",
              "      <th>poison</th>\n",
              "      <td>34</td>\n",
              "    </tr>\n",
              "    <tr>\n",
              "      <th>ground</th>\n",
              "      <td>34</td>\n",
              "    </tr>\n",
              "    <tr>\n",
              "      <th>fairy</th>\n",
              "      <td>29</td>\n",
              "    </tr>\n",
              "    <tr>\n",
              "      <th>psychic</th>\n",
              "      <td>29</td>\n",
              "    </tr>\n",
              "    <tr>\n",
              "      <th>fighting</th>\n",
              "      <td>25</td>\n",
              "    </tr>\n",
              "    <tr>\n",
              "      <th>steel</th>\n",
              "      <td>22</td>\n",
              "    </tr>\n",
              "    <tr>\n",
              "      <th>dark</th>\n",
              "      <td>21</td>\n",
              "    </tr>\n",
              "    <tr>\n",
              "      <th>grass</th>\n",
              "      <td>20</td>\n",
              "    </tr>\n",
              "    <tr>\n",
              "      <th>water</th>\n",
              "      <td>17</td>\n",
              "    </tr>\n",
              "    <tr>\n",
              "      <th>dragon</th>\n",
              "      <td>17</td>\n",
              "    </tr>\n",
              "    <tr>\n",
              "      <th>ice</th>\n",
              "      <td>15</td>\n",
              "    </tr>\n",
              "    <tr>\n",
              "      <th>rock</th>\n",
              "      <td>14</td>\n",
              "    </tr>\n",
              "    <tr>\n",
              "      <th>ghost</th>\n",
              "      <td>14</td>\n",
              "    </tr>\n",
              "    <tr>\n",
              "      <th>fire</th>\n",
              "      <td>13</td>\n",
              "    </tr>\n",
              "    <tr>\n",
              "      <th>electric</th>\n",
              "      <td>9</td>\n",
              "    </tr>\n",
              "    <tr>\n",
              "      <th>bug</th>\n",
              "      <td>5</td>\n",
              "    </tr>\n",
              "    <tr>\n",
              "      <th>normal</th>\n",
              "      <td>4</td>\n",
              "    </tr>\n",
              "  </tbody>\n",
              "</table>\n",
              "</div><br><label><b>dtype:</b> int64</label>"
            ]
          },
          "metadata": {},
          "execution_count": 25
        }
      ]
    },
    {
      "cell_type": "code",
      "source": [
        "# Non-numeric data with NA: View unique values and their counts\n",
        "# Result is sorted by the count (frequency) from max to min\n",
        "df['type2'].value_counts(dropna=False)    # default:dropna=True"
      ],
      "metadata": {
        "id": "BfqaeKMCCaX4",
        "colab": {
          "base_uri": "https://localhost:8080/",
          "height": 711
        },
        "outputId": "71815aa3-31d9-4198-fb7a-fb933f2354dc"
      },
      "execution_count": 26,
      "outputs": [
        {
          "output_type": "execute_result",
          "data": {
            "text/plain": [
              "type2\n",
              "NaN         384\n",
              "flying       95\n",
              "poison       34\n",
              "ground       34\n",
              "psychic      29\n",
              "fairy        29\n",
              "fighting     25\n",
              "steel        22\n",
              "dark         21\n",
              "grass        20\n",
              "water        17\n",
              "dragon       17\n",
              "ice          15\n",
              "rock         14\n",
              "ghost        14\n",
              "fire         13\n",
              "electric      9\n",
              "bug           5\n",
              "normal        4\n",
              "Name: count, dtype: int64"
            ],
            "text/html": [
              "<div>\n",
              "<style scoped>\n",
              "    .dataframe tbody tr th:only-of-type {\n",
              "        vertical-align: middle;\n",
              "    }\n",
              "\n",
              "    .dataframe tbody tr th {\n",
              "        vertical-align: top;\n",
              "    }\n",
              "\n",
              "    .dataframe thead th {\n",
              "        text-align: right;\n",
              "    }\n",
              "</style>\n",
              "<table border=\"1\" class=\"dataframe\">\n",
              "  <thead>\n",
              "    <tr style=\"text-align: right;\">\n",
              "      <th></th>\n",
              "      <th>count</th>\n",
              "    </tr>\n",
              "    <tr>\n",
              "      <th>type2</th>\n",
              "      <th></th>\n",
              "    </tr>\n",
              "  </thead>\n",
              "  <tbody>\n",
              "    <tr>\n",
              "      <th>NaN</th>\n",
              "      <td>384</td>\n",
              "    </tr>\n",
              "    <tr>\n",
              "      <th>flying</th>\n",
              "      <td>95</td>\n",
              "    </tr>\n",
              "    <tr>\n",
              "      <th>poison</th>\n",
              "      <td>34</td>\n",
              "    </tr>\n",
              "    <tr>\n",
              "      <th>ground</th>\n",
              "      <td>34</td>\n",
              "    </tr>\n",
              "    <tr>\n",
              "      <th>psychic</th>\n",
              "      <td>29</td>\n",
              "    </tr>\n",
              "    <tr>\n",
              "      <th>fairy</th>\n",
              "      <td>29</td>\n",
              "    </tr>\n",
              "    <tr>\n",
              "      <th>fighting</th>\n",
              "      <td>25</td>\n",
              "    </tr>\n",
              "    <tr>\n",
              "      <th>steel</th>\n",
              "      <td>22</td>\n",
              "    </tr>\n",
              "    <tr>\n",
              "      <th>dark</th>\n",
              "      <td>21</td>\n",
              "    </tr>\n",
              "    <tr>\n",
              "      <th>grass</th>\n",
              "      <td>20</td>\n",
              "    </tr>\n",
              "    <tr>\n",
              "      <th>water</th>\n",
              "      <td>17</td>\n",
              "    </tr>\n",
              "    <tr>\n",
              "      <th>dragon</th>\n",
              "      <td>17</td>\n",
              "    </tr>\n",
              "    <tr>\n",
              "      <th>ice</th>\n",
              "      <td>15</td>\n",
              "    </tr>\n",
              "    <tr>\n",
              "      <th>rock</th>\n",
              "      <td>14</td>\n",
              "    </tr>\n",
              "    <tr>\n",
              "      <th>ghost</th>\n",
              "      <td>14</td>\n",
              "    </tr>\n",
              "    <tr>\n",
              "      <th>fire</th>\n",
              "      <td>13</td>\n",
              "    </tr>\n",
              "    <tr>\n",
              "      <th>electric</th>\n",
              "      <td>9</td>\n",
              "    </tr>\n",
              "    <tr>\n",
              "      <th>bug</th>\n",
              "      <td>5</td>\n",
              "    </tr>\n",
              "    <tr>\n",
              "      <th>normal</th>\n",
              "      <td>4</td>\n",
              "    </tr>\n",
              "  </tbody>\n",
              "</table>\n",
              "</div><br><label><b>dtype:</b> int64</label>"
            ]
          },
          "metadata": {},
          "execution_count": 26
        }
      ]
    },
    {
      "cell_type": "markdown",
      "source": [
        "For pandas.DataFrame:"
      ],
      "metadata": {
        "id": "QvHuXkV_-yRS"
      }
    },
    {
      "cell_type": "markdown",
      "source": [
        "**Note:** คำสั่ง unique() ใช้กับ DataFrame จะขึ้น Error"
      ],
      "metadata": {
        "id": "nabGpU_w2k7s"
      }
    },
    {
      "cell_type": "code",
      "source": [
        "# unique() is available for pandas.Series but not for pandas.DataFrame\n",
        "df.unique()   # AttributeError"
      ],
      "metadata": {
        "id": "9XLyYav7ycXk",
        "colab": {
          "base_uri": "https://localhost:8080/",
          "height": 280
        },
        "outputId": "1800e261-5c0e-44bf-bcdc-6760450eecb3"
      },
      "execution_count": 28,
      "outputs": [
        {
          "output_type": "error",
          "ename": "AttributeError",
          "evalue": "'DataFrame' object has no attribute 'unique'",
          "traceback": [
            "\u001b[0;31m---------------------------------------------------------------------------\u001b[0m",
            "\u001b[0;31mAttributeError\u001b[0m                            Traceback (most recent call last)",
            "\u001b[0;32m<ipython-input-28-303fb3cac2b0>\u001b[0m in \u001b[0;36m<cell line: 2>\u001b[0;34m()\u001b[0m\n\u001b[1;32m      1\u001b[0m \u001b[0;31m# unique() is available for pandas.Series but not for pandas.DataFrame\u001b[0m\u001b[0;34m\u001b[0m\u001b[0;34m\u001b[0m\u001b[0m\n\u001b[0;32m----> 2\u001b[0;31m \u001b[0mdf\u001b[0m\u001b[0;34m.\u001b[0m\u001b[0munique\u001b[0m\u001b[0;34m(\u001b[0m\u001b[0;34m)\u001b[0m   \u001b[0;31m# AttributeError\u001b[0m\u001b[0;34m\u001b[0m\u001b[0;34m\u001b[0m\u001b[0m\n\u001b[0m",
            "\u001b[0;32m/usr/local/lib/python3.10/dist-packages/pandas/core/generic.py\u001b[0m in \u001b[0;36m__getattr__\u001b[0;34m(self, name)\u001b[0m\n\u001b[1;32m   6202\u001b[0m         ):\n\u001b[1;32m   6203\u001b[0m             \u001b[0;32mreturn\u001b[0m \u001b[0mself\u001b[0m\u001b[0;34m[\u001b[0m\u001b[0mname\u001b[0m\u001b[0;34m]\u001b[0m\u001b[0;34m\u001b[0m\u001b[0;34m\u001b[0m\u001b[0m\n\u001b[0;32m-> 6204\u001b[0;31m         \u001b[0;32mreturn\u001b[0m \u001b[0mobject\u001b[0m\u001b[0;34m.\u001b[0m\u001b[0m__getattribute__\u001b[0m\u001b[0;34m(\u001b[0m\u001b[0mself\u001b[0m\u001b[0;34m,\u001b[0m \u001b[0mname\u001b[0m\u001b[0;34m)\u001b[0m\u001b[0;34m\u001b[0m\u001b[0;34m\u001b[0m\u001b[0m\n\u001b[0m\u001b[1;32m   6205\u001b[0m \u001b[0;34m\u001b[0m\u001b[0m\n\u001b[1;32m   6206\u001b[0m     \u001b[0;34m@\u001b[0m\u001b[0mfinal\u001b[0m\u001b[0;34m\u001b[0m\u001b[0;34m\u001b[0m\u001b[0m\n",
            "\u001b[0;31mAttributeError\u001b[0m: 'DataFrame' object has no attribute 'unique'"
          ]
        }
      ]
    },
    {
      "cell_type": "code",
      "source": [
        "df.nunique(dropna=False)    #default:dropna=True"
      ],
      "metadata": {
        "id": "TK4ieNYayNdR"
      },
      "execution_count": null,
      "outputs": []
    },
    {
      "cell_type": "code",
      "source": [
        "# Using value_counts() on pandas.DataFrame\n",
        "\n",
        "# It returns a MultiIndex Series\n",
        "x = df[['type1','type2']].value_counts()\n",
        "\n",
        "print( type(x), end='\\n\\n' )\n",
        "print( x.index, end='\\n\\n' )\n",
        "x"
      ],
      "metadata": {
        "id": "IzPYgnrozfGy"
      },
      "execution_count": null,
      "outputs": []
    },
    {
      "cell_type": "markdown",
      "source": [
        "## 1.3 Aggregate using one or more operations over a specified axis\n",
        "\n",
        "For pandas.Series:"
      ],
      "metadata": {
        "id": "33SeoboyzvIL"
      }
    },
    {
      "cell_type": "code",
      "source": [
        "func_name = lambda x: x+100-50\n",
        "func_name(10000)\n",
        "# แลมด้าฟังก์ชัน คือ ฟังก์ที่มี 1 input, 1 process และ 1 output"
      ],
      "metadata": {
        "id": "e0YpxgFP4Vq4",
        "outputId": "3dc2e59d-1827-471e-94d5-8e50d4c06597",
        "colab": {
          "base_uri": "https://localhost:8080/"
        }
      },
      "execution_count": 32,
      "outputs": [
        {
          "output_type": "execute_result",
          "data": {
            "text/plain": [
              "10050"
            ]
          },
          "metadata": {},
          "execution_count": 32
        }
      ]
    },
    {
      "cell_type": "code",
      "source": [
        "lambda x: x.mean(dropna=False)\n",
        "#เอาไว้หุ้ม การคำนวณ ให้ไม่ตุย"
      ],
      "metadata": {
        "id": "WCT3UT_c49NY"
      },
      "execution_count": null,
      "outputs": []
    },
    {
      "cell_type": "code",
      "source": [
        "## Numerical aggregation\n",
        "\n",
        "def my_mean( x ):\n",
        "  return x.mean()\n",
        "def my_max( x ):\n",
        "  return x.max()\n",
        "\n",
        "# Apply two functions to the Series\n",
        "# Four commands below give the same results (pd.Series), use only one line\n",
        "\n",
        "# Style 1: Pass a list of our custom functions\n",
        "#df['hp'].agg([my_mean, my_max])\n",
        "\n",
        "# Style 2: Pass a list of lambda functions\n",
        "#df['hp'].agg([ lambda x: x.mean() , lambda x: x.max() ])\n",
        "\n",
        "# Style 3: Pass a list of bulit-in function names\n",
        "df['hp'].agg(['mean', 'max'])\n",
        "\n",
        "# Style 4: Pass a list of bulit-in function names\n",
        "#df['hp'].agg([np.mean, np.max])"
      ],
      "metadata": {
        "id": "0vfDeDGxzuvf"
      },
      "execution_count": null,
      "outputs": []
    },
    {
      "cell_type": "code",
      "source": [
        "# Categorical aggregation\n",
        "# When a function is passed, the function's input(s) cannot be specified\n",
        "df['type1'].agg( [pd.Series.nunique, pd.Series.count] )  # Return pd.Series"
      ],
      "metadata": {
        "id": "AMVpr0WDMTaK"
      },
      "execution_count": null,
      "outputs": []
    },
    {
      "cell_type": "code",
      "source": [
        "# Categorical aggregation with a lambda function\n",
        "df['type2'].agg( [pd.Series.nunique, lambda x: x.nunique(dropna=False)] )  # Return pd.Series"
      ],
      "metadata": {
        "id": "MCyJceT7qClQ"
      },
      "execution_count": null,
      "outputs": []
    },
    {
      "cell_type": "code",
      "source": [
        "# Categorical aggregation that returns pd.Series with mixed types\n",
        "x = df['type1'].agg( [pd.Series.nunique, pd.Series.unique] )  # Return pd.Series\n",
        "x"
      ],
      "metadata": {
        "id": "-LupuJMenjtg"
      },
      "execution_count": null,
      "outputs": []
    },
    {
      "cell_type": "code",
      "source": [
        "# Inspect the result (x) of the above cell in more detail\n",
        "for i,ii in enumerate(x.index):\n",
        "  print(f'row index {i}: {ii}')\n",
        "  print(f'|-- type: {type(x[ii])}')\n",
        "  if isinstance(x[ii], np.ndarray):\n",
        "    print(f'    |-- shape: {x[ii].shape}')\n",
        "  elif isinstance(x[ii], list):\n",
        "    print(f'    |-- len: {len(x[ii])}')\n",
        "  print(f'|-- value: {x[ii]}\\n')"
      ],
      "metadata": {
        "id": "DhzP1H2UrYXB"
      },
      "execution_count": null,
      "outputs": []
    },
    {
      "cell_type": "markdown",
      "source": [
        "For pandas.DataFrame:"
      ],
      "metadata": {
        "id": "HCsd4B9M2ifu"
      }
    },
    {
      "cell_type": "code",
      "source": [
        "# Numerical aggregation applied for each column separately\n",
        "\n",
        "# Find mean, min, and max values regarding each (numeric) column\n",
        "df[ ['hp','attack','defense'] ].agg( ['mean','min','max'] )   # default: axis=0\n",
        "#df[ ['hp','attack','defense', 'type1', 'type2'] ].agg( ['mean','min','max'] )   # ValueError: could not convert string to float"
      ],
      "metadata": {
        "id": "dSKM9k6b2eak"
      },
      "execution_count": null,
      "outputs": []
    },
    {
      "cell_type": "code",
      "source": [
        "# Numerical aggregation applied for each row separately\n",
        "\n",
        "# Find mean, min, and max values regarding each row\n",
        "df[ ['hp','attack','defense'] ].agg( ['mean','min','max'], axis=1 )"
      ],
      "metadata": {
        "id": "3imTdijS4I_P"
      },
      "execution_count": null,
      "outputs": []
    },
    {
      "cell_type": "code",
      "source": [
        "# Numerical aggregation applied for each column separately\n",
        "# Use a different set of functions for each column\n",
        "df[ ['hp','attack','defense'] ].agg( {'hp':['mean','min','max'],\n",
        "                                      'attack':['min', 'max'],\n",
        "                                      'defense':['mean','min'] } )  # default: axis=0"
      ],
      "metadata": {
        "id": "uv_6hSvC4kPz"
      },
      "execution_count": null,
      "outputs": []
    },
    {
      "cell_type": "code",
      "source": [
        "# Categorical aggregation applied for each column separately\n",
        "\n",
        "sub_df = df[ ['pokedex_number','name','type1','type2'] ]\n",
        "sub_df.agg( [pd.Series.nunique, pd.Series.count, pd.Series.unique] )   # default: axis=0"
      ],
      "metadata": {
        "id": "5bguDDDBOBMq"
      },
      "execution_count": null,
      "outputs": []
    },
    {
      "cell_type": "markdown",
      "source": [
        "# 2. Pandas: Transform data\n",
        "\n",
        "This section will focus on `transform()` and `apply()`."
      ],
      "metadata": {
        "id": "EpasL6x_B3_b"
      }
    },
    {
      "cell_type": "code",
      "source": [
        "# Prepare the data to play around\n",
        "df = df_pokemon[ ['pokedex_number','name','type1','type2','hp','attack','defense'] ]\n",
        "df"
      ],
      "metadata": {
        "id": "rVJJHr2nCPEr"
      },
      "execution_count": null,
      "outputs": []
    },
    {
      "cell_type": "markdown",
      "source": [
        "For pandas.**Series**:"
      ],
      "metadata": {
        "id": "XbZI14K0VHSC"
      }
    },
    {
      "cell_type": "markdown",
      "source": [
        "**Note:** ฟังก์ชันที่ไม่ทำให้เกิดการยุบค่า Aggregate function สามารถใช้คำสัง `Transform()` (มีปัญหากับ col) และ `apply()` ก็เหมือนกัน\n",
        "- Both commands produce the same result (pd.Series), use only one\n",
        " - `df['hp'].apply(plus20)`\n",
        " - `df['hp'].transform(plus20)`"
      ],
      "metadata": {
        "id": "HUCPgpOr7Epe"
      }
    },
    {
      "cell_type": "code",
      "source": [
        "# When a transform function IS NOT an aggregate function\n",
        "plus20 = lambda x: x+20\n",
        "\n",
        "# Both commands produce the same result (pd.Series), use only one\n",
        "df['hp'].apply(plus20)\n",
        "#df['hp'].transform(plus20)"
      ],
      "metadata": {
        "id": "ziZiFrGGVJRf"
      },
      "execution_count": null,
      "outputs": []
    },
    {
      "cell_type": "code",
      "source": [
        "# When a transform function IS an aggregate function\n",
        "\n",
        "# transform() cannot produce aggregated results BUT apply() can.\n",
        "print( \"apply('mean') :\" , df['hp'].apply('mean') )        # OK\n",
        "print( \"transform('mean') :\", df['hp'].transform('mean') ) # ValueError"
      ],
      "metadata": {
        "id": "uLLKZXEJVkHI"
      },
      "execution_count": null,
      "outputs": []
    },
    {
      "cell_type": "markdown",
      "source": [
        "For pandas.**DataFrame**:"
      ],
      "metadata": {
        "id": "I2rEZnDIYZTy"
      }
    },
    {
      "cell_type": "code",
      "source": [
        "# When a transform function IS NOT an aggregate function\n",
        "\n",
        "# Copy the original values just for easy comparison\n",
        "df2 = df.loc[ :, ['hp','attack','defense'] ]\n",
        "\n",
        "# The two commands below produce the same outputs (pandas.DataFrame)\n",
        "# Be careful that both commands don't alter the original dataframe (df)\n",
        "df2[['hp_after','attack_after','defense_after']] = df[['hp','attack','defense']].apply(lambda x: x+20)\n",
        "#df2[['hp_after','attack_after','defense_after']] = df[['hp','attack','defense']].transform(lambda x: x+20)\n",
        "\n",
        "df2"
      ],
      "metadata": {
        "id": "ilqGo3WDCaBS"
      },
      "execution_count": null,
      "outputs": []
    },
    {
      "cell_type": "code",
      "source": [
        "# When a transform function IS an aggregate function\n",
        "# transform() cannot produce aggregated results BUT apply() can\n",
        "# The output of transform() has to be pandas.DataFrame that has the same shape as self\n",
        "\n",
        "display( df[['hp','attack','defense']].apply('mean') )      # OK\n",
        "display( df[['hp','attack','defense']].transform('mean') )  # ValueError"
      ],
      "metadata": {
        "id": "UCZ7qh3AG7mk"
      },
      "execution_count": null,
      "outputs": []
    },
    {
      "cell_type": "markdown",
      "source": [
        "`apply()` vs. `transform()`\n",
        "\n",
        "- Comparison 1:\n",
        "  - `apply()` supports both aggregation and non-aggregation functions.\n",
        "  - `transform()` doesn't support aggregation functions (causing an error).\n",
        "- Comparison 2:\n",
        "  - <u>`apply()` sends the entire pandas.DataFrame to the calling function</u> so it can work with multiple Series at a time.\n",
        "  - <u>`transform()` only sends each individual column as a pandas.Series to the calling function</u> so is can only work with one Series at a time. Also, the result from `transform()` has the same shape as self.\n"
      ],
      "metadata": {
        "id": "hnWImGb-zofA"
      }
    },
    {
      "cell_type": "code",
      "source": [
        "# apply() allows working with multiple pandas.Series at a time\n",
        "\n",
        "df = df_pokemon.loc[ :, ['pokedex_number','name','type1','type2','hp','attack','defense'] ]\n",
        "df['att_sub_def'] = df[['hp','attack','defense']].apply(lambda x: x['attack'] - x['defense'], axis=1) # OK\n",
        "df"
      ],
      "metadata": {
        "id": "Qif7toIaJP3N"
      },
      "execution_count": null,
      "outputs": []
    },
    {
      "cell_type": "code",
      "source": [
        "# transform() can only work with one pandas.Series at a time\n",
        "\n",
        "df = df_pokemon.loc[ :, ['pokedex_number','name','type1','type2','hp','attack','defense'] ]\n",
        "df['att_sub_def'] = df[['hp','attack','defense']].transform(lambda x: x['attack'] - x['defense'], axis=1) # ValueError\n",
        "df"
      ],
      "metadata": {
        "id": "cXP1R27514zw"
      },
      "execution_count": null,
      "outputs": []
    },
    {
      "cell_type": "markdown",
      "source": [
        "At this point, it may seem that `apply()` is more flexible and less prone to erros than `transform()`. However, there are situations where `transform()` is prefered over `apply()` as you will see in the next section."
      ],
      "metadata": {
        "id": "D5_MMX7k2ogR"
      }
    },
    {
      "cell_type": "markdown",
      "source": [
        "---- จบคราส 1 กันยายน 2567 ----"
      ],
      "metadata": {
        "id": "yl4lnCL-8mCN"
      }
    },
    {
      "cell_type": "markdown",
      "source": [
        "# 3. Pandas: Groupby\n",
        "\n",
        "Pandas’ `groupby()` allows us to split data into separate groups to perform computations for better analysis.\n",
        "- Efficient data summarization\n",
        "- Allow us to squeeze data (This is very useful when the data is so big and cannot fit in one Series/DataFrame)\n",
        "\n"
      ],
      "metadata": {
        "id": "MMcKySWVmVsW"
      }
    },
    {
      "cell_type": "markdown",
      "source": [
        "## 3.1 The groupby object is neither pandas.Series nor pandas.DataFrame\n",
        "\n",
        "Groupby on pandas.Series:\n",
        "\n",
        "- When `groupby()` is used on Series, our job is to assign a group label to each row in the Series."
      ],
      "metadata": {
        "id": "M4OjD2dNaOc-"
      }
    },
    {
      "cell_type": "code",
      "source": [
        "# Create a pandas.Series to play around\n",
        "ser = pd.Series([390., 350., 30., 20.])\n",
        "ser"
      ],
      "metadata": {
        "id": "sxF2L_4jaylz"
      },
      "execution_count": null,
      "outputs": []
    },
    {
      "cell_type": "code",
      "source": [
        "# Determine a group for each Series' element by a list of group labels\n",
        "\n",
        "# In the below command, the 0th and 2nd rows are assigned to the \"a\" group and the other two to the \"b\" group\n",
        "grouped = ser.groupby( [\"a\", \"b\", \"a\", \"b\"] )\n",
        "\n",
        "# The groupby object is neither Series nor DataFrame, be careful when dealing with it\n",
        "grouped"
      ],
      "metadata": {
        "id": "Lac8z4kBb3_e"
      },
      "execution_count": null,
      "outputs": []
    },
    {
      "cell_type": "code",
      "source": [
        "# Inspect the result of the above cell by iterating through the groupby object\n",
        "for i, (name,group) in enumerate(grouped):\n",
        "  print( f\"===== Group {i} =====\" )\n",
        "  print( f\"Group name: {name}\" )\n",
        "  print( f\"Type: {type(group)}\" )\n",
        "  print( f\"Value:\\n{group}\\n\" )"
      ],
      "metadata": {
        "id": "WO1_jGu8dhiK"
      },
      "execution_count": null,
      "outputs": []
    },
    {
      "cell_type": "code",
      "source": [
        "# Use a function to specify how to group each element in the pandas.Series\n",
        "# In the lambda function below:\n",
        "# - \"i\" refers to a label of a row\n",
        "# - Any element (in a Series) whose value is greater than 300, will be assigned to the \"A\" group or the \"B\" group otherwise\n",
        "grouped = ser.groupby( lambda i: \"A\" if ser.loc[i]>300 else \"B\" )\n",
        "\n",
        "# Inspect the result by iterating through the groupby object\n",
        "for i, (name,group) in enumerate(grouped):\n",
        "  print( f\"===== Group {i} =====\" )\n",
        "  print( f\"Group name: {name}\" )\n",
        "  print( f\"Type: {type(group)}\" )\n",
        "  print( f\"Value:\\n{group}\\n\" )"
      ],
      "metadata": {
        "id": "yjwBFHKKe210"
      },
      "execution_count": null,
      "outputs": []
    },
    {
      "cell_type": "markdown",
      "source": [
        "Groupby on pandas.DataFrame:"
      ],
      "metadata": {
        "id": "noXOOpTfazpt"
      }
    },
    {
      "cell_type": "code",
      "source": [
        "# Prepare a pandas.DataFrame to play around\n",
        "df = df_pokemon.loc[ :, ['pokedex_number','name','type1','type2'] ]"
      ],
      "metadata": {
        "id": "PXHFA6pxohH4"
      },
      "execution_count": null,
      "outputs": []
    },
    {
      "cell_type": "code",
      "source": [
        "# By default, any group with NA key will be dropped. To include NA-key group(s), set dropna=False.\n",
        "# BUT having any group with NA key will lead to future errors (e.g., .groups, .get_group()).\n",
        "# One suggestion is to use fillna() to replace NA keys before doing groupby().\n",
        "\n",
        "# Compare groupby with 'dropna=True' versus 'dropna=False'\n",
        "grouped = df.groupby( ['type2'] )     # default: axis=0, dropna=True\n",
        "grouped_na = df.groupby( ['type2'], dropna=False )\n",
        "\n",
        "# The groupby object is neither Series nor DataFrame, be careful when dealing with it\n",
        "display(grouped)\n",
        "display(grouped_na)"
      ],
      "metadata": {
        "id": "nG_kAnKjlD90"
      },
      "execution_count": null,
      "outputs": []
    },
    {
      "cell_type": "code",
      "source": [
        "# Access the groupby object's attribute\n",
        "\n",
        "# Get the number of groups\n",
        "print(f'{grouped.ngroups=}')      # OK\n",
        "print(f'{grouped_na.ngroups=}')   # OK"
      ],
      "metadata": {
        "id": "9ZaWeRTim76R"
      },
      "execution_count": null,
      "outputs": []
    },
    {
      "cell_type": "code",
      "source": [
        "# Access the groupby object's attribute\n",
        "\n",
        "# Get the group objects\n",
        "# Each resultant list contains integer indices of rows that belong to the group\n",
        "display(grouped.groups)      # OK\n",
        "display(grouped_na.groups)   # ValueError because of the key=null category"
      ],
      "metadata": {
        "id": "Us-ETYDcneTL"
      },
      "execution_count": null,
      "outputs": []
    },
    {
      "cell_type": "code",
      "source": [
        "# Access the groupby object's method\n",
        "\n",
        "# Compute and display group sizes\n",
        "print( grouped.size(), end='\\n\\n' ) # OK\n",
        "print( grouped_na.size() )          # OK"
      ],
      "metadata": {
        "id": "4qH9LSIPn1q3"
      },
      "execution_count": null,
      "outputs": []
    },
    {
      "cell_type": "code",
      "source": [
        "# Access the groupby object's method\n",
        "\n",
        "# Preview groups (and the first entry in each group) as a pandas.DataFrame\n",
        "display( grouped.first() )      # OK\n",
        "print()\n",
        "display( grouped_na.first() )   # OK"
      ],
      "metadata": {
        "id": "TYtq1f-FoDIm"
      },
      "execution_count": null,
      "outputs": []
    },
    {
      "cell_type": "code",
      "source": [
        "# Access the groupby object's method\n",
        "\n",
        "# Preview groups (and the last entry in each group) as a pandas.DataFrame\n",
        "display( grouped.last() )      # OK\n",
        "print()\n",
        "display( grouped_na.last() )   # OK"
      ],
      "metadata": {
        "id": "KSIb8-BdpFQ5"
      },
      "execution_count": null,
      "outputs": []
    },
    {
      "cell_type": "code",
      "source": [
        "# Access the groupby object's method\n",
        "\n",
        "# Return a pandas.DataFrame of a specified group\n",
        "display( grouped.get_group('dragon') )   # OK\n",
        "#display( grouped_na.get_group(pd.NA) )  # Error: it doesn't know how to access the NA-key group"
      ],
      "metadata": {
        "id": "TWZ1MVubpfSz"
      },
      "execution_count": null,
      "outputs": []
    },
    {
      "cell_type": "code",
      "source": [
        "# Iterate through groups\n",
        "\n",
        "# Below codes work fine even for NA-key groups\n",
        "for i, (name, group) in enumerate(grouped):\n",
        "  if i == 3:    # As a demo, we inspect only the first three groups\n",
        "    break\n",
        "  print( f\"\\n===== Group {i} =====\" )\n",
        "  print( f\"Group name: type={type(name)} value={name}\" )\n",
        "  print( f\"Group: type={type(group)}\" )\n",
        "  display(group)"
      ],
      "metadata": {
        "id": "XWdKbhueiDms"
      },
      "execution_count": null,
      "outputs": []
    },
    {
      "cell_type": "code",
      "source": [
        "# Group by many columns\n",
        "group2 = df.groupby( ['type1', 'type2'] )\n",
        "\n",
        "print(f'{group2.ngroups=}\\n')\n",
        "display(group2.groups)"
      ],
      "metadata": {
        "id": "Z-0p9wS1K7-4"
      },
      "execution_count": null,
      "outputs": []
    },
    {
      "cell_type": "code",
      "source": [
        "# When grouping is done based on many columns, use a tuple to specify the group name\n",
        "group2.get_group( ('bug','poison') )"
      ],
      "metadata": {
        "id": "5OMcxl_dMq1i"
      },
      "execution_count": null,
      "outputs": []
    },
    {
      "cell_type": "markdown",
      "source": [
        "## 3.2 The groupby process: split-apply-combine\n",
        "\n",
        "According to https://pandas.pydata.org/pandas-docs/stable/user_guide/groupby.html, “group by” refers to a process involving one or more of the following steps:\n",
        "- Splitting the data into groups based on some criteria\n",
        "- **Applying a function to each group independently** (e.g., aggregation, transformation, filtration)\n",
        "- Combining the results into a data structure"
      ],
      "metadata": {
        "id": "wBINpbHvpHMk"
      }
    },
    {
      "cell_type": "markdown",
      "source": [
        "### 3.2.1 Split $→$ Aggregate\n",
        "\n",
        "![picture](https://miro.medium.com/max/826/1*WTlC_t-5RQqeqS0tcbkCKQ.png)\n",
        "\n",
        "Image from https://towardsdatascience.com/pandas-groupby-aggregate-transform-filter-c95ba3444bbb"
      ],
      "metadata": {
        "id": "NtkmGQyl97bd"
      }
    },
    {
      "cell_type": "code",
      "source": [
        "# Prepare a groupby object to play around\n",
        "group = df_pokemon[['pokedex_number','name','type1','type2','hp','attack','defense']].groupby('type1')\n",
        "group"
      ],
      "metadata": {
        "id": "M8eMTHP9O4AQ"
      },
      "execution_count": null,
      "outputs": []
    },
    {
      "cell_type": "code",
      "source": [
        "# Choose some existing columns from the groupby object\n",
        "\n",
        "# Although it looks like choosing columns in pandas.DataFrame, the result below remains the groupby object\n",
        "group[['hp','attack']]            # OK\n",
        "#group.loc[ :, ['hp','attack'] ]  # Error: Groupby has no attribute 'loc'"
      ],
      "metadata": {
        "id": "ZF8NXsmiWxHG"
      },
      "execution_count": null,
      "outputs": []
    },
    {
      "cell_type": "code",
      "source": [
        "# Group -> Choose some existing columns -> Apply the aggregation function\n",
        "# For each group, apply an aggregation function to each column separately\n",
        "\n",
        "# As 'mean' is numeric aggregation, non-numeric columns (i.e., 'name','type1','type2') are excluded (with warning)\n",
        "group[['hp','attack','defense']].agg('mean')   # This equals group[['hp','attack','defense']].mean() as well as group[['hp','attack','defense']].agg(np.mean)\n",
        "#group.agg('mean')     # NotImplementedError due to non-numeric columns included"
      ],
      "metadata": {
        "id": "2EnuGUe9PFZb"
      },
      "execution_count": null,
      "outputs": []
    },
    {
      "cell_type": "code",
      "source": [
        "# Group -> Choose some existing columns -> Apply the aggregation functions\n",
        "result = group[['hp','attack']].agg(['mean','median','min','max','std'])\n",
        "\n",
        "# Result is a DataFrame with two-level column indices\n",
        "result"
      ],
      "metadata": {
        "id": "Pt4jDlqCSJ7h"
      },
      "execution_count": null,
      "outputs": []
    },
    {
      "cell_type": "code",
      "source": [
        "# (Optional) Reset row index\n",
        "result.reset_index(inplace=True)\n",
        "result"
      ],
      "metadata": {
        "id": "nCC-Z86h8nZC"
      },
      "execution_count": null,
      "outputs": []
    },
    {
      "cell_type": "code",
      "source": [
        "result['hp']          # Access level0 column"
      ],
      "metadata": {
        "id": "kbqQnRw_XYCr"
      },
      "execution_count": null,
      "outputs": []
    },
    {
      "cell_type": "code",
      "source": [
        "display( result['hp']['mean'] )   # Access level1 column"
      ],
      "metadata": {
        "id": "8hpmp63bX4gl"
      },
      "execution_count": null,
      "outputs": []
    },
    {
      "cell_type": "markdown",
      "source": [
        "### 3.2.2 Split $→$ Transform\n",
        "\n",
        "**EX1:** Standardization (this function has no aggregation effect)"
      ],
      "metadata": {
        "id": "cJfBcYl0kN2w"
      }
    },
    {
      "cell_type": "code",
      "source": [
        "# Create a pandas.DataFrame to play around\n",
        "df = df_pokemon[ ['pokedex_number','name','type1','type2','hp','attack','defense'] ]"
      ],
      "metadata": {
        "id": "QT_DTUwQlCi7"
      },
      "execution_count": null,
      "outputs": []
    },
    {
      "cell_type": "code",
      "source": [
        "# Before standardization: Inspect mean and SD values of all groups\n",
        "\n",
        "# Group the data\n",
        "# Explanation about 'group_keys' in the following EX2\n",
        "grouped = df.groupby('type1', group_keys=False)\n",
        "\n",
        "# Check the current mean and SD for each group in 'type1'\n",
        "print( f\"{'='*10} Group by 'type1' -> Find mean {'='*10}\\n\" )\n",
        "print( grouped.mean(numeric_only=True), end='\\n\\n' )\n",
        "print( f\"{'='*10} Group by 'type1' -> Find SD {'='*10}\\n\" )\n",
        "print( grouped.std(numeric_only=True) )"
      ],
      "metadata": {
        "id": "-HAEvYpwqggg"
      },
      "execution_count": null,
      "outputs": []
    },
    {
      "cell_type": "code",
      "source": [
        "# Perform standardization to each group of 'type1'\n",
        "\n",
        "# Group -> Choose columns -> Data transformation\n",
        "# Two commands below produce the same results, use only one\n",
        "#transformed = grouped[['hp','attack','defense']].apply( lambda x: ((x - x.mean()) / x.std()) )\n",
        "transformed = grouped[['hp','attack','defense']].transform( lambda x: ((x - x.mean()) / x.std()) )\n",
        "\n",
        "# Notice that results below are no longer grouped by 'type1'\n",
        "transformed"
      ],
      "metadata": {
        "id": "wk0dPiBlusP6"
      },
      "execution_count": null,
      "outputs": []
    },
    {
      "cell_type": "markdown",
      "source": [
        "Unlike aggregation, data transformation is typically used by assigning the results to a new column."
      ],
      "metadata": {
        "id": "eqoKdkAC0hAU"
      }
    },
    {
      "cell_type": "code",
      "source": [
        "# To easily compare values, assign the transformed result to new columns\n",
        "df2 = df.assign(hp_zscore=transformed['hp'], \\\n",
        "                att_zscore=transformed['attack'], \\\n",
        "                def_zscore=transformed['defense'])\n",
        "\n",
        "df2"
      ],
      "metadata": {
        "id": "HzZOWlaPu4CX"
      },
      "execution_count": null,
      "outputs": []
    },
    {
      "cell_type": "code",
      "source": [
        "# After standardization: Reconfirm mean and sd values of each group\n",
        "\n",
        "# Notice that mean and SD values of each group are about 0.0 and 1.0 respectively\n",
        "print( f\"{'='*5} Group by 'type1' -> Standardize -> Mean {'='*5}\\n\" )\n",
        "print( df2.groupby('type1')[['hp_zscore','att_zscore','def_zscore']].mean() )\n",
        "print( f\"\\n{'='*5} Group by 'type1' -> Standardize -> SD {'='*5}\\n\" )\n",
        "print( df2.groupby('type1')[['hp_zscore','att_zscore','def_zscore']].std() )"
      ],
      "metadata": {
        "id": "LfMBm2pC_yLz"
      },
      "execution_count": null,
      "outputs": []
    },
    {
      "cell_type": "markdown",
      "source": [
        "**EX2:** Difference between `apply()` and `transform()` when using with groupby"
      ],
      "metadata": {
        "id": "JfUPADwhPWxX"
      }
    },
    {
      "cell_type": "code",
      "source": [
        "# Prepare the DataFrame to play around\n",
        "df = df_pokemon[ ['pokedex_number','name','type1','hp','attack','defense'] ]\n",
        "df.head()"
      ],
      "metadata": {
        "id": "B862bFipQqL4"
      },
      "execution_count": null,
      "outputs": []
    },
    {
      "cell_type": "markdown",
      "source": [
        "When the function IS NOT an aggregate function:"
      ],
      "metadata": {
        "id": "bbeHRBUJtH70"
      }
    },
    {
      "cell_type": "code",
      "source": [
        "# The 'group_keys' argument when using df.groupby(..., group_keys).apply(...)\n",
        "# - When 'group_keys=True', the group labels are prepended to the resultant DataFrame\n",
        "# - When 'group_keys=False', the group labels are omitted in the resultant DataFrame\n",
        "# The 'group_keys' argument only matters when the result from df.groupby().apply() has the same shape as the original 'df'\n",
        "\n",
        "print(f'************ group_keys=False ************')\n",
        "df_false = df.groupby('type1', group_keys=False)[['hp','attack','defense']].apply(lambda x: x/100)\n",
        "print( df_false.index, end='\\n\\n' )\n",
        "display( df_false )\n",
        "\n",
        "print(f'\\n************ group_keys=True ************')\n",
        "df_true = df.groupby('type1', group_keys=True)[['hp','attack','defense']].apply(lambda x: x/100)\n",
        "print( df_true.index, end='\\n\\n' )\n",
        "display( df_true )"
      ],
      "metadata": {
        "id": "66L96o5Ffxnh"
      },
      "execution_count": null,
      "outputs": []
    },
    {
      "cell_type": "code",
      "source": [
        "# Groupby -> Choose columns -> Use a non-aggregate function\n",
        "\n",
        "# These two commands produce the same result (DataFrame), use only one\n",
        "# Notice that the results are no longer grouped by type1\n",
        "#df.groupby('type1', group_keys=False)[['hp','attack','defense']].apply(lambda x: x/100)\n",
        "df.groupby('type1')[['hp','attack','defense']].transform(lambda x: x/100)"
      ],
      "metadata": {
        "id": "6NgzTQeWtO_8"
      },
      "execution_count": null,
      "outputs": []
    },
    {
      "cell_type": "code",
      "source": [
        "# Groupby -> Choose columns -> Use a non-aggregate function\n",
        "# Remind that apply() sends the whole DataFrame to the calling function whereas transform() only sends each column separately\n",
        "\n",
        "# OK\n",
        "# Notice that the results are no longer grouped by 'type1'\n",
        "df.groupby('type1', group_keys=False)[['hp','attack','defense']] \\\n",
        "                                        .apply(lambda x: (x['attack'] - x['defense']).to_frame('att_sub_def') )\n",
        "\n",
        "# KeyError\n",
        "#df.groupby('type1')[['hp','attack','defense']].transform(lambda x: (x['attack'] - x['defense']).to_frame('att_sub_def') )"
      ],
      "metadata": {
        "id": "hvvo3gAcSjI2"
      },
      "execution_count": null,
      "outputs": []
    },
    {
      "cell_type": "markdown",
      "source": [
        "When the function IS an aggregate function:"
      ],
      "metadata": {
        "id": "6W6AMJQctmrZ"
      }
    },
    {
      "cell_type": "code",
      "source": [
        "# Groupby -> Choose columns -> Use an aggregate function via apply()\n",
        "# When the result from .apply() doesn't retain the shape of 'df', 'group_keys' has no effect\n",
        "\n",
        "# When the function includes aggregation, apply() returns one value per one group\n",
        "df.groupby('type1')[['hp','attack','defense']].apply(lambda x: x.max())"
      ],
      "metadata": {
        "id": "au8zxYdqREUu"
      },
      "execution_count": null,
      "outputs": []
    },
    {
      "cell_type": "markdown",
      "source": [
        "While `groupby()`+aggregation (Section 3.2.1: Split $→$ Aggregate) and `groupby()`+`apply(aggregate_func)` return a reduced (grouped) version of the input, `groupby()`+`transform(aggregate_func)` returns a group-level transformed version <u>of the full data</u>. The new output data has the same length (the same number of rows) as the input data.\n",
        "\n",
        "![picture](https://miro.medium.com/max/826/1*fxdhr6i-jlzeex7f5RkIlw.png)\n",
        "\n",
        "Image from https://towardsdatascience.com/pandas-groupby-aggregate-transform-filter-c95ba3444bbb"
      ],
      "metadata": {
        "id": "-IzH7rPjot2L"
      }
    },
    {
      "cell_type": "code",
      "source": [
        "# Groupby -> Choose columns -> Use an aggregate function via transform() -> Append the result to the original DataFrame\n",
        "# Even when the function includes aggregation, transform() returns results with the same length as the input\n",
        "\n",
        "# Transform the groupby object\n",
        "transformed = df.groupby('type1')[['hp','attack','defense']].transform(lambda x: x.max())\n",
        "print('******* DataFrame resulted from .transform() *******')\n",
        "display( transformed )\n",
        "\n",
        "# Append the tranform results to the original DataFrame\n",
        "print('\\n******* Original DataFrame with transformed columns appended *******')\n",
        "df2 = df.assign( type1_hp_max=transformed.hp, type1_att_max=transformed.attack, type1_def_max=transformed.defense)\n",
        "df2"
      ],
      "metadata": {
        "id": "0SBVpcfcnMwL"
      },
      "execution_count": null,
      "outputs": []
    },
    {
      "cell_type": "markdown",
      "source": [
        "### 3.2.3 Split $→$ Filtration\n",
        "\n",
        "- Filtration is a process in which we <u>discard some groups</u>, according to a group-wise computation that evaluates True or False.\n",
        "- As the name suggests, `filter()` <u>does not change the data in any capacity, but instead selects a subset of the data</u>.\n",
        "\n",
        "![picture](https://miro.medium.com/max/826/1*lDZgurT8zja-u77DW758KQ.png)\n",
        "\n",
        "Image from https://towardsdatascience.com/pandas-groupby-aggregate-transform-filter-c95ba3444bbb"
      ],
      "metadata": {
        "id": "xkYgT7OMlUXP"
      }
    },
    {
      "cell_type": "code",
      "source": [
        "# Create a DataFrame to play around\n",
        "df = df_pokemon[ ['pokedex_number','name','type1','hp','attack','defense'] ]\n",
        "df.head()"
      ],
      "metadata": {
        "id": "ulM9yC4GTZIy"
      },
      "execution_count": null,
      "outputs": []
    },
    {
      "cell_type": "code",
      "source": [
        "# Groupby without filter\n",
        "df.groupby('type1').size()"
      ],
      "metadata": {
        "id": "BrsCQkw76Rgy"
      },
      "execution_count": null,
      "outputs": []
    },
    {
      "cell_type": "code",
      "source": [
        "# Groupby with a filter\n",
        "\n",
        "# Groupby -> Filtration\n",
        "# Show only data that belongs to a group whose number of pokemons is less than 20\n",
        "result = df.groupby('type1').filter(lambda group: group['pokedex_number'].count() < 20)\n",
        "\n",
        "# Result from groupby+filter is the subset of the original dataframe (df) not the grouped results\n",
        "result"
      ],
      "metadata": {
        "id": "cjfxnAfr65F5"
      },
      "execution_count": null,
      "outputs": []
    },
    {
      "cell_type": "markdown",
      "source": [
        "## 3.3 Groupby's wrapup\n",
        "1. Result returned from `.groupby()` is neither pandas.Series nor pandas.DataFrame, but a Groupby object.\n",
        "\n",
        "2. A Groupby object can be further processed with aggregation functions. Result is <u>an aggregated DataFrame whose number of rows equal to the number of groups</u>.\n",
        "  - Standalone aggregation function: `df.groupby(...).mean(...)`, ...\n",
        "  - Compound aggregation function: `df.groupby(...).agg(...)`\n",
        "\n",
        "3. A Groupby object can be further processed with apply functions, `df.groupby(..., group_keys).apply(func)`:\n",
        "  - `func` can be any function with-or-without aggregation effect and with-or-without cross-colomn calculation.\n",
        "  - If `func` is a function with no aggregation effect, result is <u>a non-aggregated DataFrame whose number of rows equal to the original DataFrame before being grouped</u>. In this case, watch out the bool value in `group_keys`.\n",
        "  - If `func` is a function with aggregation effect, result is <u>an aggregated DataFrame whose number of rows equal to the number of groups</u>.\n",
        "\n",
        "4. A Groupby object can be further processed with tranformation functions, `df.groupby(...).tranform(func)`:\n",
        "  - `func` can be any function with-or-without aggregation effect but <u>any cross-colomn calculation will cause an error</u>.\n",
        "  - If `func` is a function with no aggregation effect, it is similar to calling `df.groupby(..., group_keys=False).apply(func)`. Result is <u>a non-aggregated DataFrame whose number of rows equal to the original DataFrame before being grouped</u>.\n",
        "  - If `func` is a function with aggregation effect, result is <u>seemingly a non-aggregated DataFrame whose number of rows equal to the number of groups</u>. However, the data in transformed columns are not the same as the data in the original DataFrame (before being grouped) <u>but they are the per-group aggregated results.</u>\n",
        "\n",
        "5. A Groupby object can be further processed with filtration functions, `df.groupby(...).filter(group_func)`:\n",
        "  - `group_func` is a function that receives one group as input and returns True/False (= Does this group meet our criteria?).\n",
        "  - Result from `df.groupby(...).filter(group_func)` is a direct subset of the original DataFrame before being grouped (no data in `df` is changed). <u>However, some rows in `df` will be filtered out (eliminated) if they belong to groups that don't meet our criteria judging by `group_func`</u>."
      ],
      "metadata": {
        "id": "Kxd_UhwAEUBx"
      }
    },
    {
      "cell_type": "markdown",
      "source": [
        "# PRACTICE\n",
        "\n",
        "1. (1 point) Based on the 'type1' attribute, conclude the numbers of each pokemon type. Sort the results descendingly based on the numbers of pokemons.\n",
        "\n",
        "2. (1 point) Display all types of pokemons (considering 'type1' only) from the best to the worst stats.\n",
        "  - First, consider 'hp', the larger the better. Then, consider the average between 'attack' and 'defense', the larger the better\n",
        "  - The final display should include at least 'type1', 'hp', 'attack' and 'defense' columns.\n",
        "\n",
        "3. (1.5 point) Display all pokemons whose 'hp' is greater than the average hp value computed from all pokemons with the same 'type1'. Sort the result by 'type1' (ascendingly) then by 'hp' (descendingly)."
      ],
      "metadata": {
        "id": "D__8F4ofcFOd"
      }
    }
  ]
}