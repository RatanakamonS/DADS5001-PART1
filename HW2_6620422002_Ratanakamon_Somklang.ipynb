{
  "nbformat": 4,
  "nbformat_minor": 0,
  "metadata": {
    "colab": {
      "provenance": [],
      "authorship_tag": "ABX9TyMTIjlsqBAxUEXetSadPxsK",
      "include_colab_link": true
    },
    "kernelspec": {
      "name": "python3",
      "display_name": "Python 3"
    },
    "language_info": {
      "name": "python"
    }
  },
  "cells": [
    {
      "cell_type": "markdown",
      "metadata": {
        "id": "view-in-github",
        "colab_type": "text"
      },
      "source": [
        "<a href=\"https://colab.research.google.com/github/RatanakamonS/DADS5001-PART1/blob/main/HW2_6620422002_Ratanakamon_Somklang.ipynb\" target=\"_parent\"><img src=\"https://colab.research.google.com/assets/colab-badge.svg\" alt=\"Open In Colab\"/></a>"
      ]
    },
    {
      "cell_type": "markdown",
      "source": [
        "**# PRACTICE**"
      ],
      "metadata": {
        "id": "xjx_q0pzzQsj"
      }
    },
    {
      "cell_type": "code",
      "source": [
        "import sys\n",
        "# import pandas as pd\n",
        "# import numpy as np\n",
        "# import IPython\n",
        "# from IPython.display import display\n",
        "\n",
        "# print( f\"Python {sys.version}\" )\n",
        "# print( f\"Pandas {pd.__version__}\" )\n",
        "# print( f\"NumPy {np.__version__}\" )\n",
        "# print( f\"IPython {IPython.__version__}\" )"
      ],
      "metadata": {
        "colab": {
          "base_uri": "https://localhost:8080/"
        },
        "id": "LS5qFp9o1ATY",
        "outputId": "bd2b7934-e4c1-4f5c-98fc-1a70e54e5eee"
      },
      "execution_count": 1,
      "outputs": [
        {
          "output_type": "stream",
          "name": "stdout",
          "text": [
            "Python 3.10.12 (main, Jul 29 2024, 16:56:48) [GCC 11.4.0]\n",
            "Pandas 2.1.4\n",
            "NumPy 1.26.4\n",
            "IPython 7.34.0\n"
          ]
        }
      ]
    },
    {
      "cell_type": "code",
      "source": [
        "# Load the pokemon dataset\n",
        "df_pokemon = pd.read_csv('https://raw.githubusercontent.com/ShaileshDhama/Exploratory-Data-Analysis-On-Pokemon-Dataset/master/Complete%20Pokemon.csv')\n",
        "df_pokemon.info()"
      ],
      "metadata": {
        "id": "fXHO919B1EoB"
      },
      "execution_count": null,
      "outputs": []
    },
    {
      "cell_type": "markdown",
      "source": [
        "**1. (1 point)**\n",
        "Based on the 'type1' attribute, conclude the numbers of each pokemon type. Sort the results descendingly based on the numbers of pokemons."
      ],
      "metadata": {
        "id": "lfNZ9u7EzvtL"
      }
    },
    {
      "cell_type": "code",
      "source": [],
      "metadata": {
        "id": "HJuNCpB93RiL"
      },
      "execution_count": null,
      "outputs": []
    },
    {
      "cell_type": "markdown",
      "source": [
        "**2. (1 point)** Display all types of pokemons (considering 'type1' only) from the best to the worst stats.\n",
        "  - First, consider 'hp', the larger the better. Then, consider the average between 'attack' and 'defense', the larger the better\n",
        "  - The final display should include at least 'type1', 'hp', 'attack' and 'defense' columns."
      ],
      "metadata": {
        "id": "J13VHcC7zgdZ"
      }
    },
    {
      "cell_type": "code",
      "source": [],
      "metadata": {
        "id": "XINQIulN3TSr"
      },
      "execution_count": null,
      "outputs": []
    },
    {
      "cell_type": "markdown",
      "source": [
        "**3. (1.5 point)**\n",
        "Display all pokemons whose 'hp' is greater than the average hp value computed from all pokemons with the same 'type1'. Sort the result by 'type1' (ascendingly) then by 'hp' (descendingly)."
      ],
      "metadata": {
        "id": "HbcCC_YLzi-p"
      }
    },
    {
      "cell_type": "code",
      "source": [],
      "metadata": {
        "id": "98gc8n2izjy5"
      },
      "execution_count": null,
      "outputs": []
    }
  ]
}