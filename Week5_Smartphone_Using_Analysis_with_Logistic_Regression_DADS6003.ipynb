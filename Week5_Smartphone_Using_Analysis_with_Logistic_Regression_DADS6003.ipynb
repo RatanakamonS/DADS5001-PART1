{
  "nbformat": 4,
  "nbformat_minor": 0,
  "metadata": {
    "colab": {
      "provenance": [],
      "toc_visible": true,
      "authorship_tag": "ABX9TyMi58C5FMmvwwg0J5lZpJPG",
      "include_colab_link": true
    },
    "kernelspec": {
      "name": "python3",
      "display_name": "Python 3"
    },
    "language_info": {
      "name": "python"
    }
  },
  "cells": [
    {
      "cell_type": "markdown",
      "metadata": {
        "id": "view-in-github",
        "colab_type": "text"
      },
      "source": [
        "<a href=\"https://colab.research.google.com/github/RatanakamonS/DADS5001-PART1/blob/main/Week5_Smartphone_Using_Analysis_with_Logistic_Regression_DADS6003.ipynb\" target=\"_parent\"><img src=\"https://colab.research.google.com/assets/colab-badge.svg\" alt=\"Open In Colab\"/></a>"
      ]
    },
    {
      "cell_type": "markdown",
      "source": [
        "##  Library"
      ],
      "metadata": {
        "id": "exFuwo7NsSOK"
      }
    },
    {
      "cell_type": "markdown",
      "source": [
        "### - Importing a library that is not in Colaboratory"
      ],
      "metadata": {
        "id": "w7rMzlW8vO0Q"
      }
    },
    {
      "cell_type": "code",
      "source": [
        "!pip install shap\n",
        "import shap"
      ],
      "metadata": {
        "id": "4YcZjanavUHX"
      },
      "execution_count": null,
      "outputs": []
    },
    {
      "cell_type": "markdown",
      "source": [
        "### - Importing a library in Colaboratory"
      ],
      "metadata": {
        "id": "Kk9A0Qb4vc03"
      }
    },
    {
      "cell_type": "code",
      "execution_count": 82,
      "metadata": {
        "id": "2qxhldsrsB78",
        "outputId": "5553007c-a43b-41b3-d518-7e476a3f04eb",
        "colab": {
          "base_uri": "https://localhost:8080/"
        }
      },
      "outputs": [
        {
          "output_type": "stream",
          "name": "stdout",
          "text": [
            "Requirement already satisfied: shap in /usr/local/lib/python3.10/dist-packages (0.46.0)\n",
            "Requirement already satisfied: numpy in /usr/local/lib/python3.10/dist-packages (from shap) (1.26.4)\n",
            "Requirement already satisfied: scipy in /usr/local/lib/python3.10/dist-packages (from shap) (1.13.1)\n",
            "Requirement already satisfied: scikit-learn in /usr/local/lib/python3.10/dist-packages (from shap) (1.3.2)\n",
            "Requirement already satisfied: pandas in /usr/local/lib/python3.10/dist-packages (from shap) (2.1.4)\n",
            "Requirement already satisfied: tqdm>=4.27.0 in /usr/local/lib/python3.10/dist-packages (from shap) (4.66.5)\n",
            "Requirement already satisfied: packaging>20.9 in /usr/local/lib/python3.10/dist-packages (from shap) (24.1)\n",
            "Requirement already satisfied: slicer==0.0.8 in /usr/local/lib/python3.10/dist-packages (from shap) (0.0.8)\n",
            "Requirement already satisfied: numba in /usr/local/lib/python3.10/dist-packages (from shap) (0.60.0)\n",
            "Requirement already satisfied: cloudpickle in /usr/local/lib/python3.10/dist-packages (from shap) (2.2.1)\n",
            "Requirement already satisfied: llvmlite<0.44,>=0.43.0dev0 in /usr/local/lib/python3.10/dist-packages (from numba->shap) (0.43.0)\n",
            "Requirement already satisfied: python-dateutil>=2.8.2 in /usr/local/lib/python3.10/dist-packages (from pandas->shap) (2.8.2)\n",
            "Requirement already satisfied: pytz>=2020.1 in /usr/local/lib/python3.10/dist-packages (from pandas->shap) (2024.1)\n",
            "Requirement already satisfied: tzdata>=2022.1 in /usr/local/lib/python3.10/dist-packages (from pandas->shap) (2024.1)\n",
            "Requirement already satisfied: joblib>=1.1.1 in /usr/local/lib/python3.10/dist-packages (from scikit-learn->shap) (1.4.2)\n",
            "Requirement already satisfied: threadpoolctl>=2.0.0 in /usr/local/lib/python3.10/dist-packages (from scikit-learn->shap) (3.5.0)\n",
            "Requirement already satisfied: six>=1.5 in /usr/local/lib/python3.10/dist-packages (from python-dateutil>=2.8.2->pandas->shap) (1.16.0)\n"
          ]
        }
      ],
      "source": [
        "import pandas as pd\n",
        "import numpy as np\n",
        "import matplotlib as mpl\n",
        "import matplotlib.font_manager as fm\n",
        "\n",
        "\n",
        "\n",
        "from sklearn.model_selection import train_test_split\n",
        "from sklearn.preprocessing import LabelEncoder\n",
        "from sklearn.ensemble import RandomForestClassifier\n",
        "\n",
        "\n",
        "\n",
        "# from sklearn.model_selection import train_test_split\n",
        "# from sklearn.preprocessing import StandardScaler, LabelEncoder\n",
        "# #from sklearn.preprocessing import OrdinalEncoder\n",
        "# from sklearn.linear_model import LogisticRegression\n",
        "# from sklearn.metrics import accuracy_score, classification_report, confusion_matrix\n",
        "# from sklearn.preprocessing import StandardScaler\n",
        "# import matplotlib.pyplot as plt\n",
        "# import seaborn as sns\n"
      ]
    },
    {
      "cell_type": "markdown",
      "source": [
        "- จัดการ Front ภาษาไทย"
      ],
      "metadata": {
        "id": "t8TSDasavC-J"
      }
    },
    {
      "cell_type": "code",
      "source": [
        "# ดาวน์โหลดไฟล์ฟอนต์ \"TH Sarabun New\" จาก GitHub\n",
        "!wget https://github.com/Phonbopit/sarabun-webfont/raw/master/fonts/thsarabunnew-webfont.ttf\n",
        "# เพิ่มฟอนต์ที่ดาวน์โหลดมาเข้าไปใน Font Manager ของ Matplotlib\n",
        "fm.fontManager.addfont('thsarabunnew-webfont.ttf')\n",
        "# ตั้งค่าให้ฟอนต์ \"TH Sarabun New\" เป็นฟอนต์เริ่มต้นสำหรับ Matplotlib\n",
        "mpl.rc('font', family='TH Sarabun New')"
      ],
      "metadata": {
        "id": "B5ofYS9wsiDk",
        "outputId": "8a58d54b-6711-4e11-96ab-f674e59a54a2",
        "colab": {
          "base_uri": "https://localhost:8080/"
        }
      },
      "execution_count": 84,
      "outputs": [
        {
          "output_type": "stream",
          "name": "stdout",
          "text": [
            "--2024-09-10 06:57:52--  https://github.com/Phonbopit/sarabun-webfont/raw/master/fonts/thsarabunnew-webfont.ttf\n",
            "Resolving github.com (github.com)... 140.82.114.4\n",
            "Connecting to github.com (github.com)|140.82.114.4|:443... connected.\n",
            "HTTP request sent, awaiting response... 302 Found\n",
            "Location: https://raw.githubusercontent.com/Phonbopit/sarabun-webfont/master/fonts/thsarabunnew-webfont.ttf [following]\n",
            "--2024-09-10 06:57:52--  https://raw.githubusercontent.com/Phonbopit/sarabun-webfont/master/fonts/thsarabunnew-webfont.ttf\n",
            "Resolving raw.githubusercontent.com (raw.githubusercontent.com)... 185.199.108.133, 185.199.109.133, 185.199.110.133, ...\n",
            "Connecting to raw.githubusercontent.com (raw.githubusercontent.com)|185.199.108.133|:443... connected.\n",
            "HTTP request sent, awaiting response... 200 OK\n",
            "Length: 98308 (96K) [application/octet-stream]\n",
            "Saving to: ‘thsarabunnew-webfont.ttf.3’\n",
            "\n",
            "\r          thsarabun   0%[                    ]       0  --.-KB/s               \rthsarabunnew-webfon 100%[===================>]  96.00K  --.-KB/s    in 0.003s  \n",
            "\n",
            "2024-09-10 06:57:52 (34.7 MB/s) - ‘thsarabunnew-webfont.ttf.3’ saved [98308/98308]\n",
            "\n"
          ]
        }
      ]
    },
    {
      "cell_type": "markdown",
      "source": [
        "## 1. Get data and clean data"
      ],
      "metadata": {
        "id": "c5PchvM2scZU"
      }
    },
    {
      "cell_type": "markdown",
      "source": [
        "### 1.1 Get \"the Smartphone Using dataset\" from Github"
      ],
      "metadata": {
        "id": "N4IRrQhcNAcn"
      }
    },
    {
      "cell_type": "code",
      "source": [
        "url = 'https://raw.githubusercontent.com/RatanakamonS/DADS6003/main/DB-%E0%B8%AA%E0%B8%B3%E0%B8%A3%E0%B8%A7%E0%B8%88%E0%B8%81%E0%B8%B2%E0%B8%A3%E0%B9%83%E0%B8%8A%E0%B9%89%20Smartphone%20(Responses)-Week5%20-%20Form%20Responses.csv'\n",
        "df = pd.read_csv(url)\n",
        "df.head()"
      ],
      "metadata": {
        "colab": {
          "base_uri": "https://localhost:8080/",
          "height": 380
        },
        "id": "OgjG-IZPsXTF",
        "outputId": "78743c3c-7bf0-4a6f-b989-6f8bd1b034f8"
      },
      "execution_count": 69,
      "outputs": [
        {
          "output_type": "execute_result",
          "data": {
            "text/plain": [
              "            Timestamp เพศของผู้ตอบแบบสอบถาม ช่วงอายุของผู้ตอบแบบสอบถาม  \\\n",
              "0  1/13/2024 14:30:33                   ชาย                   26-30 ปี   \n",
              "1  1/13/2024 14:41:25                  หญิง                   21-25 ปี   \n",
              "2  1/13/2024 15:01:08                   ชาย                   26-30 ปี   \n",
              "3  1/13/2024 15:01:44                   ชาย                   31-35 ปี   \n",
              "4  1/13/2024 15:01:48                   ชาย                   21-25 ปี   \n",
              "\n",
              "  อาชีพของผู้ตอบแบบสอบถาม ช่วงเงินเดือนของผู้ตอบแบบสอบถาม  \\\n",
              "0                   เอกชน               30,001-40,000 บาท   \n",
              "1                   เอกชน               40,001-50,000 บาท   \n",
              "2                   เอกชน               30,001-40,000 บาท   \n",
              "3                   เอกชน               40,001-50,000 บาท   \n",
              "4                   เอกชน               30,001-40,000 บาท   \n",
              "\n",
              "  ปัจจุบันท่านใช้สมาร์ทโฟนระบบปฎิบัติการใด  \\\n",
              "0                          IOS และ Andriod   \n",
              "1                                      IOS   \n",
              "2                                      IOS   \n",
              "3                                      IOS   \n",
              "4                                      IOS   \n",
              "\n",
              "  ท่านใช้สมาร์ทโฟนในการทำอะไรมากที่สุด [เล่นเกม]  \\\n",
              "0                                     น้อยที่สุด   \n",
              "1                                      บ่อยครั้ง   \n",
              "2                                   ค่อนข้างน้อย   \n",
              "3                                     น้อยที่สุด   \n",
              "4                                     น้อยที่สุด   \n",
              "\n",
              "  ท่านใช้สมาร์ทโฟนในการทำอะไรมากที่สุด [เล่นโซเชี่ยลมีเดีย]  \\\n",
              "0                                            ปานกลาง          \n",
              "1                                         บ่อยที่สุด          \n",
              "2                                         บ่อยที่สุด          \n",
              "3                                            ปานกลาง          \n",
              "4                                            ปานกลาง          \n",
              "\n",
              "  ท่านใช้สมาร์ทโฟนในการทำอะไรมากที่สุด [ดูหนัง ฟังเพลง]  \\\n",
              "0                                       ค่อนข้างน้อย      \n",
              "1                                            ปานกลาง      \n",
              "2                                            ปานกลาง      \n",
              "3                                            ปานกลาง      \n",
              "4                                            ปานกลาง      \n",
              "\n",
              "  ท่านใช้สมาร์ทโฟนในการทำอะไรมากที่สุด [ถ่ายรูป ถ่ายวิดีโอ]  \\\n",
              "0                                       ค่อนข้างน้อย          \n",
              "1                                       ค่อนข้างน้อย          \n",
              "2                                            ปานกลาง          \n",
              "3                                         น้อยที่สุด          \n",
              "4                                         น้อยที่สุด          \n",
              "\n",
              "  หากท่านซื้อสมาร์ทโฟนเครื่องใหม่ จะใช้เลือกซื้อสมาร์ทโฟนแบรนด์ใด  \\\n",
              "0                                             Iphone                \n",
              "1                                             Iphone                \n",
              "2                                             Iphone                \n",
              "3                                             Iphone                \n",
              "4                                             Iphone                \n",
              "\n",
              "  จากข้อที่แล้ว เนื่องจากสาเหตุใด  \n",
              "0    apple ecosystem ทั้งบ้านแล้ว  \n",
              "1                       ดูรวยดีย์  \n",
              "2                      ความเสถียร  \n",
              "3           คุ้นเคยกับ Brand เดิม  \n",
              "4                ง่ายต่อการใช้งาน  "
            ],
            "text/html": [
              "\n",
              "  <div id=\"df-852585ec-42c4-4f60-b0d6-ac87b6e4a6e4\" class=\"colab-df-container\">\n",
              "    <div>\n",
              "<style scoped>\n",
              "    .dataframe tbody tr th:only-of-type {\n",
              "        vertical-align: middle;\n",
              "    }\n",
              "\n",
              "    .dataframe tbody tr th {\n",
              "        vertical-align: top;\n",
              "    }\n",
              "\n",
              "    .dataframe thead th {\n",
              "        text-align: right;\n",
              "    }\n",
              "</style>\n",
              "<table border=\"1\" class=\"dataframe\">\n",
              "  <thead>\n",
              "    <tr style=\"text-align: right;\">\n",
              "      <th></th>\n",
              "      <th>Timestamp</th>\n",
              "      <th>เพศของผู้ตอบแบบสอบถาม</th>\n",
              "      <th>ช่วงอายุของผู้ตอบแบบสอบถาม</th>\n",
              "      <th>อาชีพของผู้ตอบแบบสอบถาม</th>\n",
              "      <th>ช่วงเงินเดือนของผู้ตอบแบบสอบถาม</th>\n",
              "      <th>ปัจจุบันท่านใช้สมาร์ทโฟนระบบปฎิบัติการใด</th>\n",
              "      <th>ท่านใช้สมาร์ทโฟนในการทำอะไรมากที่สุด [เล่นเกม]</th>\n",
              "      <th>ท่านใช้สมาร์ทโฟนในการทำอะไรมากที่สุด [เล่นโซเชี่ยลมีเดีย]</th>\n",
              "      <th>ท่านใช้สมาร์ทโฟนในการทำอะไรมากที่สุด [ดูหนัง ฟังเพลง]</th>\n",
              "      <th>ท่านใช้สมาร์ทโฟนในการทำอะไรมากที่สุด [ถ่ายรูป ถ่ายวิดีโอ]</th>\n",
              "      <th>หากท่านซื้อสมาร์ทโฟนเครื่องใหม่ จะใช้เลือกซื้อสมาร์ทโฟนแบรนด์ใด</th>\n",
              "      <th>จากข้อที่แล้ว เนื่องจากสาเหตุใด</th>\n",
              "    </tr>\n",
              "  </thead>\n",
              "  <tbody>\n",
              "    <tr>\n",
              "      <th>0</th>\n",
              "      <td>1/13/2024 14:30:33</td>\n",
              "      <td>ชาย</td>\n",
              "      <td>26-30 ปี</td>\n",
              "      <td>เอกชน</td>\n",
              "      <td>30,001-40,000 บาท</td>\n",
              "      <td>IOS และ Andriod</td>\n",
              "      <td>น้อยที่สุด</td>\n",
              "      <td>ปานกลาง</td>\n",
              "      <td>ค่อนข้างน้อย</td>\n",
              "      <td>ค่อนข้างน้อย</td>\n",
              "      <td>Iphone</td>\n",
              "      <td>apple ecosystem ทั้งบ้านแล้ว</td>\n",
              "    </tr>\n",
              "    <tr>\n",
              "      <th>1</th>\n",
              "      <td>1/13/2024 14:41:25</td>\n",
              "      <td>หญิง</td>\n",
              "      <td>21-25 ปี</td>\n",
              "      <td>เอกชน</td>\n",
              "      <td>40,001-50,000 บาท</td>\n",
              "      <td>IOS</td>\n",
              "      <td>บ่อยครั้ง</td>\n",
              "      <td>บ่อยที่สุด</td>\n",
              "      <td>ปานกลาง</td>\n",
              "      <td>ค่อนข้างน้อย</td>\n",
              "      <td>Iphone</td>\n",
              "      <td>ดูรวยดีย์</td>\n",
              "    </tr>\n",
              "    <tr>\n",
              "      <th>2</th>\n",
              "      <td>1/13/2024 15:01:08</td>\n",
              "      <td>ชาย</td>\n",
              "      <td>26-30 ปี</td>\n",
              "      <td>เอกชน</td>\n",
              "      <td>30,001-40,000 บาท</td>\n",
              "      <td>IOS</td>\n",
              "      <td>ค่อนข้างน้อย</td>\n",
              "      <td>บ่อยที่สุด</td>\n",
              "      <td>ปานกลาง</td>\n",
              "      <td>ปานกลาง</td>\n",
              "      <td>Iphone</td>\n",
              "      <td>ความเสถียร</td>\n",
              "    </tr>\n",
              "    <tr>\n",
              "      <th>3</th>\n",
              "      <td>1/13/2024 15:01:44</td>\n",
              "      <td>ชาย</td>\n",
              "      <td>31-35 ปี</td>\n",
              "      <td>เอกชน</td>\n",
              "      <td>40,001-50,000 บาท</td>\n",
              "      <td>IOS</td>\n",
              "      <td>น้อยที่สุด</td>\n",
              "      <td>ปานกลาง</td>\n",
              "      <td>ปานกลาง</td>\n",
              "      <td>น้อยที่สุด</td>\n",
              "      <td>Iphone</td>\n",
              "      <td>คุ้นเคยกับ Brand เดิม</td>\n",
              "    </tr>\n",
              "    <tr>\n",
              "      <th>4</th>\n",
              "      <td>1/13/2024 15:01:48</td>\n",
              "      <td>ชาย</td>\n",
              "      <td>21-25 ปี</td>\n",
              "      <td>เอกชน</td>\n",
              "      <td>30,001-40,000 บาท</td>\n",
              "      <td>IOS</td>\n",
              "      <td>น้อยที่สุด</td>\n",
              "      <td>ปานกลาง</td>\n",
              "      <td>ปานกลาง</td>\n",
              "      <td>น้อยที่สุด</td>\n",
              "      <td>Iphone</td>\n",
              "      <td>ง่ายต่อการใช้งาน</td>\n",
              "    </tr>\n",
              "  </tbody>\n",
              "</table>\n",
              "</div>\n",
              "    <div class=\"colab-df-buttons\">\n",
              "\n",
              "  <div class=\"colab-df-container\">\n",
              "    <button class=\"colab-df-convert\" onclick=\"convertToInteractive('df-852585ec-42c4-4f60-b0d6-ac87b6e4a6e4')\"\n",
              "            title=\"Convert this dataframe to an interactive table.\"\n",
              "            style=\"display:none;\">\n",
              "\n",
              "  <svg xmlns=\"http://www.w3.org/2000/svg\" height=\"24px\" viewBox=\"0 -960 960 960\">\n",
              "    <path d=\"M120-120v-720h720v720H120Zm60-500h600v-160H180v160Zm220 220h160v-160H400v160Zm0 220h160v-160H400v160ZM180-400h160v-160H180v160Zm440 0h160v-160H620v160ZM180-180h160v-160H180v160Zm440 0h160v-160H620v160Z\"/>\n",
              "  </svg>\n",
              "    </button>\n",
              "\n",
              "  <style>\n",
              "    .colab-df-container {\n",
              "      display:flex;\n",
              "      gap: 12px;\n",
              "    }\n",
              "\n",
              "    .colab-df-convert {\n",
              "      background-color: #E8F0FE;\n",
              "      border: none;\n",
              "      border-radius: 50%;\n",
              "      cursor: pointer;\n",
              "      display: none;\n",
              "      fill: #1967D2;\n",
              "      height: 32px;\n",
              "      padding: 0 0 0 0;\n",
              "      width: 32px;\n",
              "    }\n",
              "\n",
              "    .colab-df-convert:hover {\n",
              "      background-color: #E2EBFA;\n",
              "      box-shadow: 0px 1px 2px rgba(60, 64, 67, 0.3), 0px 1px 3px 1px rgba(60, 64, 67, 0.15);\n",
              "      fill: #174EA6;\n",
              "    }\n",
              "\n",
              "    .colab-df-buttons div {\n",
              "      margin-bottom: 4px;\n",
              "    }\n",
              "\n",
              "    [theme=dark] .colab-df-convert {\n",
              "      background-color: #3B4455;\n",
              "      fill: #D2E3FC;\n",
              "    }\n",
              "\n",
              "    [theme=dark] .colab-df-convert:hover {\n",
              "      background-color: #434B5C;\n",
              "      box-shadow: 0px 1px 3px 1px rgba(0, 0, 0, 0.15);\n",
              "      filter: drop-shadow(0px 1px 2px rgba(0, 0, 0, 0.3));\n",
              "      fill: #FFFFFF;\n",
              "    }\n",
              "  </style>\n",
              "\n",
              "    <script>\n",
              "      const buttonEl =\n",
              "        document.querySelector('#df-852585ec-42c4-4f60-b0d6-ac87b6e4a6e4 button.colab-df-convert');\n",
              "      buttonEl.style.display =\n",
              "        google.colab.kernel.accessAllowed ? 'block' : 'none';\n",
              "\n",
              "      async function convertToInteractive(key) {\n",
              "        const element = document.querySelector('#df-852585ec-42c4-4f60-b0d6-ac87b6e4a6e4');\n",
              "        const dataTable =\n",
              "          await google.colab.kernel.invokeFunction('convertToInteractive',\n",
              "                                                    [key], {});\n",
              "        if (!dataTable) return;\n",
              "\n",
              "        const docLinkHtml = 'Like what you see? Visit the ' +\n",
              "          '<a target=\"_blank\" href=https://colab.research.google.com/notebooks/data_table.ipynb>data table notebook</a>'\n",
              "          + ' to learn more about interactive tables.';\n",
              "        element.innerHTML = '';\n",
              "        dataTable['output_type'] = 'display_data';\n",
              "        await google.colab.output.renderOutput(dataTable, element);\n",
              "        const docLink = document.createElement('div');\n",
              "        docLink.innerHTML = docLinkHtml;\n",
              "        element.appendChild(docLink);\n",
              "      }\n",
              "    </script>\n",
              "  </div>\n",
              "\n",
              "\n",
              "<div id=\"df-9ad5574c-8312-4e34-a347-45e4fb3cd961\">\n",
              "  <button class=\"colab-df-quickchart\" onclick=\"quickchart('df-9ad5574c-8312-4e34-a347-45e4fb3cd961')\"\n",
              "            title=\"Suggest charts\"\n",
              "            style=\"display:none;\">\n",
              "\n",
              "<svg xmlns=\"http://www.w3.org/2000/svg\" height=\"24px\"viewBox=\"0 0 24 24\"\n",
              "     width=\"24px\">\n",
              "    <g>\n",
              "        <path d=\"M19 3H5c-1.1 0-2 .9-2 2v14c0 1.1.9 2 2 2h14c1.1 0 2-.9 2-2V5c0-1.1-.9-2-2-2zM9 17H7v-7h2v7zm4 0h-2V7h2v10zm4 0h-2v-4h2v4z\"/>\n",
              "    </g>\n",
              "</svg>\n",
              "  </button>\n",
              "\n",
              "<style>\n",
              "  .colab-df-quickchart {\n",
              "      --bg-color: #E8F0FE;\n",
              "      --fill-color: #1967D2;\n",
              "      --hover-bg-color: #E2EBFA;\n",
              "      --hover-fill-color: #174EA6;\n",
              "      --disabled-fill-color: #AAA;\n",
              "      --disabled-bg-color: #DDD;\n",
              "  }\n",
              "\n",
              "  [theme=dark] .colab-df-quickchart {\n",
              "      --bg-color: #3B4455;\n",
              "      --fill-color: #D2E3FC;\n",
              "      --hover-bg-color: #434B5C;\n",
              "      --hover-fill-color: #FFFFFF;\n",
              "      --disabled-bg-color: #3B4455;\n",
              "      --disabled-fill-color: #666;\n",
              "  }\n",
              "\n",
              "  .colab-df-quickchart {\n",
              "    background-color: var(--bg-color);\n",
              "    border: none;\n",
              "    border-radius: 50%;\n",
              "    cursor: pointer;\n",
              "    display: none;\n",
              "    fill: var(--fill-color);\n",
              "    height: 32px;\n",
              "    padding: 0;\n",
              "    width: 32px;\n",
              "  }\n",
              "\n",
              "  .colab-df-quickchart:hover {\n",
              "    background-color: var(--hover-bg-color);\n",
              "    box-shadow: 0 1px 2px rgba(60, 64, 67, 0.3), 0 1px 3px 1px rgba(60, 64, 67, 0.15);\n",
              "    fill: var(--button-hover-fill-color);\n",
              "  }\n",
              "\n",
              "  .colab-df-quickchart-complete:disabled,\n",
              "  .colab-df-quickchart-complete:disabled:hover {\n",
              "    background-color: var(--disabled-bg-color);\n",
              "    fill: var(--disabled-fill-color);\n",
              "    box-shadow: none;\n",
              "  }\n",
              "\n",
              "  .colab-df-spinner {\n",
              "    border: 2px solid var(--fill-color);\n",
              "    border-color: transparent;\n",
              "    border-bottom-color: var(--fill-color);\n",
              "    animation:\n",
              "      spin 1s steps(1) infinite;\n",
              "  }\n",
              "\n",
              "  @keyframes spin {\n",
              "    0% {\n",
              "      border-color: transparent;\n",
              "      border-bottom-color: var(--fill-color);\n",
              "      border-left-color: var(--fill-color);\n",
              "    }\n",
              "    20% {\n",
              "      border-color: transparent;\n",
              "      border-left-color: var(--fill-color);\n",
              "      border-top-color: var(--fill-color);\n",
              "    }\n",
              "    30% {\n",
              "      border-color: transparent;\n",
              "      border-left-color: var(--fill-color);\n",
              "      border-top-color: var(--fill-color);\n",
              "      border-right-color: var(--fill-color);\n",
              "    }\n",
              "    40% {\n",
              "      border-color: transparent;\n",
              "      border-right-color: var(--fill-color);\n",
              "      border-top-color: var(--fill-color);\n",
              "    }\n",
              "    60% {\n",
              "      border-color: transparent;\n",
              "      border-right-color: var(--fill-color);\n",
              "    }\n",
              "    80% {\n",
              "      border-color: transparent;\n",
              "      border-right-color: var(--fill-color);\n",
              "      border-bottom-color: var(--fill-color);\n",
              "    }\n",
              "    90% {\n",
              "      border-color: transparent;\n",
              "      border-bottom-color: var(--fill-color);\n",
              "    }\n",
              "  }\n",
              "</style>\n",
              "\n",
              "  <script>\n",
              "    async function quickchart(key) {\n",
              "      const quickchartButtonEl =\n",
              "        document.querySelector('#' + key + ' button');\n",
              "      quickchartButtonEl.disabled = true;  // To prevent multiple clicks.\n",
              "      quickchartButtonEl.classList.add('colab-df-spinner');\n",
              "      try {\n",
              "        const charts = await google.colab.kernel.invokeFunction(\n",
              "            'suggestCharts', [key], {});\n",
              "      } catch (error) {\n",
              "        console.error('Error during call to suggestCharts:', error);\n",
              "      }\n",
              "      quickchartButtonEl.classList.remove('colab-df-spinner');\n",
              "      quickchartButtonEl.classList.add('colab-df-quickchart-complete');\n",
              "    }\n",
              "    (() => {\n",
              "      let quickchartButtonEl =\n",
              "        document.querySelector('#df-9ad5574c-8312-4e34-a347-45e4fb3cd961 button');\n",
              "      quickchartButtonEl.style.display =\n",
              "        google.colab.kernel.accessAllowed ? 'block' : 'none';\n",
              "    })();\n",
              "  </script>\n",
              "</div>\n",
              "\n",
              "    </div>\n",
              "  </div>\n"
            ],
            "application/vnd.google.colaboratory.intrinsic+json": {
              "type": "dataframe",
              "variable_name": "df",
              "summary": "{\n  \"name\": \"df\",\n  \"rows\": 75,\n  \"fields\": [\n    {\n      \"column\": \"Timestamp\",\n      \"properties\": {\n        \"dtype\": \"object\",\n        \"num_unique_values\": 72,\n        \"samples\": [\n          \"1/13/2024 15:01:48\",\n          \"8/17/2024 15:05:18\",\n          \"1/13/2024 15:02:26\"\n        ],\n        \"semantic_type\": \"\",\n        \"description\": \"\"\n      }\n    },\n    {\n      \"column\": \"\\u0e40\\u0e1e\\u0e28\\u0e02\\u0e2d\\u0e07\\u0e1c\\u0e39\\u0e49\\u0e15\\u0e2d\\u0e1a\\u0e41\\u0e1a\\u0e1a\\u0e2a\\u0e2d\\u0e1a\\u0e16\\u0e32\\u0e21\",\n      \"properties\": {\n        \"dtype\": \"category\",\n        \"num_unique_values\": 3,\n        \"samples\": [\n          \"\\u0e0a\\u0e32\\u0e22\",\n          \"\\u0e2b\\u0e0d\\u0e34\\u0e07\",\n          \"-\"\n        ],\n        \"semantic_type\": \"\",\n        \"description\": \"\"\n      }\n    },\n    {\n      \"column\": \"\\u0e0a\\u0e48\\u0e27\\u0e07\\u0e2d\\u0e32\\u0e22\\u0e38\\u0e02\\u0e2d\\u0e07\\u0e1c\\u0e39\\u0e49\\u0e15\\u0e2d\\u0e1a\\u0e41\\u0e1a\\u0e1a\\u0e2a\\u0e2d\\u0e1a\\u0e16\\u0e32\\u0e21\",\n      \"properties\": {\n        \"dtype\": \"category\",\n        \"num_unique_values\": 4,\n        \"samples\": [\n          \"21-25 \\u0e1b\\u0e35\",\n          \"36-40 \\u0e1b\\u0e35\",\n          \"26-30 \\u0e1b\\u0e35\"\n        ],\n        \"semantic_type\": \"\",\n        \"description\": \"\"\n      }\n    },\n    {\n      \"column\": \"\\u0e2d\\u0e32\\u0e0a\\u0e35\\u0e1e\\u0e02\\u0e2d\\u0e07\\u0e1c\\u0e39\\u0e49\\u0e15\\u0e2d\\u0e1a\\u0e41\\u0e1a\\u0e1a\\u0e2a\\u0e2d\\u0e1a\\u0e16\\u0e32\\u0e21\",\n      \"properties\": {\n        \"dtype\": \"category\",\n        \"num_unique_values\": 8,\n        \"samples\": [\n          \"\\u0e27\\u0e48\\u0e32\\u0e07\\u0e07\\u0e32\\u0e19\",\n          \".\",\n          \"\\u0e40\\u0e2d\\u0e01\\u0e0a\\u0e19\"\n        ],\n        \"semantic_type\": \"\",\n        \"description\": \"\"\n      }\n    },\n    {\n      \"column\": \"\\u0e0a\\u0e48\\u0e27\\u0e07\\u0e40\\u0e07\\u0e34\\u0e19\\u0e40\\u0e14\\u0e37\\u0e2d\\u0e19\\u0e02\\u0e2d\\u0e07\\u0e1c\\u0e39\\u0e49\\u0e15\\u0e2d\\u0e1a\\u0e41\\u0e1a\\u0e1a\\u0e2a\\u0e2d\\u0e1a\\u0e16\\u0e32\\u0e21\",\n      \"properties\": {\n        \"dtype\": \"category\",\n        \"num_unique_values\": 6,\n        \"samples\": [\n          \"30,001-40,000 \\u0e1a\\u0e32\\u0e17\",\n          \"40,001-50,000 \\u0e1a\\u0e32\\u0e17\",\n          \"50,001-60,000 \\u0e1a\\u0e32\\u0e17\"\n        ],\n        \"semantic_type\": \"\",\n        \"description\": \"\"\n      }\n    },\n    {\n      \"column\": \"\\u0e1b\\u0e31\\u0e08\\u0e08\\u0e38\\u0e1a\\u0e31\\u0e19\\u0e17\\u0e48\\u0e32\\u0e19\\u0e43\\u0e0a\\u0e49\\u0e2a\\u0e21\\u0e32\\u0e23\\u0e4c\\u0e17\\u0e42\\u0e1f\\u0e19\\u0e23\\u0e30\\u0e1a\\u0e1a\\u0e1b\\u0e0e\\u0e34\\u0e1a\\u0e31\\u0e15\\u0e34\\u0e01\\u0e32\\u0e23\\u0e43\\u0e14\",\n      \"properties\": {\n        \"dtype\": \"category\",\n        \"num_unique_values\": 3,\n        \"samples\": [\n          \"IOS \\u0e41\\u0e25\\u0e30 Andriod\",\n          \"IOS\",\n          \"Android\"\n        ],\n        \"semantic_type\": \"\",\n        \"description\": \"\"\n      }\n    },\n    {\n      \"column\": \"\\u0e17\\u0e48\\u0e32\\u0e19\\u0e43\\u0e0a\\u0e49\\u0e2a\\u0e21\\u0e32\\u0e23\\u0e4c\\u0e17\\u0e42\\u0e1f\\u0e19\\u0e43\\u0e19\\u0e01\\u0e32\\u0e23\\u0e17\\u0e33\\u0e2d\\u0e30\\u0e44\\u0e23\\u0e21\\u0e32\\u0e01\\u0e17\\u0e35\\u0e48\\u0e2a\\u0e38\\u0e14 [\\u0e40\\u0e25\\u0e48\\u0e19\\u0e40\\u0e01\\u0e21]\",\n      \"properties\": {\n        \"dtype\": \"category\",\n        \"num_unique_values\": 5,\n        \"samples\": [\n          \"\\u0e1a\\u0e48\\u0e2d\\u0e22\\u0e04\\u0e23\\u0e31\\u0e49\\u0e07\",\n          \"\\u0e1a\\u0e48\\u0e2d\\u0e22\\u0e17\\u0e35\\u0e48\\u0e2a\\u0e38\\u0e14\",\n          \"\\u0e04\\u0e48\\u0e2d\\u0e19\\u0e02\\u0e49\\u0e32\\u0e07\\u0e19\\u0e49\\u0e2d\\u0e22\"\n        ],\n        \"semantic_type\": \"\",\n        \"description\": \"\"\n      }\n    },\n    {\n      \"column\": \"\\u0e17\\u0e48\\u0e32\\u0e19\\u0e43\\u0e0a\\u0e49\\u0e2a\\u0e21\\u0e32\\u0e23\\u0e4c\\u0e17\\u0e42\\u0e1f\\u0e19\\u0e43\\u0e19\\u0e01\\u0e32\\u0e23\\u0e17\\u0e33\\u0e2d\\u0e30\\u0e44\\u0e23\\u0e21\\u0e32\\u0e01\\u0e17\\u0e35\\u0e48\\u0e2a\\u0e38\\u0e14 [\\u0e40\\u0e25\\u0e48\\u0e19\\u0e42\\u0e0b\\u0e40\\u0e0a\\u0e35\\u0e48\\u0e22\\u0e25\\u0e21\\u0e35\\u0e40\\u0e14\\u0e35\\u0e22]\",\n      \"properties\": {\n        \"dtype\": \"category\",\n        \"num_unique_values\": 5,\n        \"samples\": [\n          \"\\u0e1a\\u0e48\\u0e2d\\u0e22\\u0e17\\u0e35\\u0e48\\u0e2a\\u0e38\\u0e14\",\n          \"\\u0e19\\u0e49\\u0e2d\\u0e22\\u0e17\\u0e35\\u0e48\\u0e2a\\u0e38\\u0e14\",\n          \"\\u0e1a\\u0e48\\u0e2d\\u0e22\\u0e04\\u0e23\\u0e31\\u0e49\\u0e07\"\n        ],\n        \"semantic_type\": \"\",\n        \"description\": \"\"\n      }\n    },\n    {\n      \"column\": \"\\u0e17\\u0e48\\u0e32\\u0e19\\u0e43\\u0e0a\\u0e49\\u0e2a\\u0e21\\u0e32\\u0e23\\u0e4c\\u0e17\\u0e42\\u0e1f\\u0e19\\u0e43\\u0e19\\u0e01\\u0e32\\u0e23\\u0e17\\u0e33\\u0e2d\\u0e30\\u0e44\\u0e23\\u0e21\\u0e32\\u0e01\\u0e17\\u0e35\\u0e48\\u0e2a\\u0e38\\u0e14 [\\u0e14\\u0e39\\u0e2b\\u0e19\\u0e31\\u0e07 \\u0e1f\\u0e31\\u0e07\\u0e40\\u0e1e\\u0e25\\u0e07]\",\n      \"properties\": {\n        \"dtype\": \"category\",\n        \"num_unique_values\": 5,\n        \"samples\": [\n          \"\\u0e1b\\u0e32\\u0e19\\u0e01\\u0e25\\u0e32\\u0e07\",\n          \"\\u0e19\\u0e49\\u0e2d\\u0e22\\u0e17\\u0e35\\u0e48\\u0e2a\\u0e38\\u0e14\",\n          \"\\u0e1a\\u0e48\\u0e2d\\u0e22\\u0e17\\u0e35\\u0e48\\u0e2a\\u0e38\\u0e14\"\n        ],\n        \"semantic_type\": \"\",\n        \"description\": \"\"\n      }\n    },\n    {\n      \"column\": \"\\u0e17\\u0e48\\u0e32\\u0e19\\u0e43\\u0e0a\\u0e49\\u0e2a\\u0e21\\u0e32\\u0e23\\u0e4c\\u0e17\\u0e42\\u0e1f\\u0e19\\u0e43\\u0e19\\u0e01\\u0e32\\u0e23\\u0e17\\u0e33\\u0e2d\\u0e30\\u0e44\\u0e23\\u0e21\\u0e32\\u0e01\\u0e17\\u0e35\\u0e48\\u0e2a\\u0e38\\u0e14 [\\u0e16\\u0e48\\u0e32\\u0e22\\u0e23\\u0e39\\u0e1b \\u0e16\\u0e48\\u0e32\\u0e22\\u0e27\\u0e34\\u0e14\\u0e35\\u0e42\\u0e2d]\",\n      \"properties\": {\n        \"dtype\": \"category\",\n        \"num_unique_values\": 5,\n        \"samples\": [\n          \"\\u0e1b\\u0e32\\u0e19\\u0e01\\u0e25\\u0e32\\u0e07\",\n          \"\\u0e1a\\u0e48\\u0e2d\\u0e22\\u0e17\\u0e35\\u0e48\\u0e2a\\u0e38\\u0e14\",\n          \"\\u0e19\\u0e49\\u0e2d\\u0e22\\u0e17\\u0e35\\u0e48\\u0e2a\\u0e38\\u0e14\"\n        ],\n        \"semantic_type\": \"\",\n        \"description\": \"\"\n      }\n    },\n    {\n      \"column\": \"\\u0e2b\\u0e32\\u0e01\\u0e17\\u0e48\\u0e32\\u0e19\\u0e0b\\u0e37\\u0e49\\u0e2d\\u0e2a\\u0e21\\u0e32\\u0e23\\u0e4c\\u0e17\\u0e42\\u0e1f\\u0e19\\u0e40\\u0e04\\u0e23\\u0e37\\u0e48\\u0e2d\\u0e07\\u0e43\\u0e2b\\u0e21\\u0e48 \\u0e08\\u0e30\\u0e43\\u0e0a\\u0e49\\u0e40\\u0e25\\u0e37\\u0e2d\\u0e01\\u0e0b\\u0e37\\u0e49\\u0e2d\\u0e2a\\u0e21\\u0e32\\u0e23\\u0e4c\\u0e17\\u0e42\\u0e1f\\u0e19\\u0e41\\u0e1a\\u0e23\\u0e19\\u0e14\\u0e4c\\u0e43\\u0e14\",\n      \"properties\": {\n        \"dtype\": \"category\",\n        \"num_unique_values\": 7,\n        \"samples\": [\n          \"Iphone\",\n          \"Samsung\",\n          \"\\u0e22\\u0e31\\u0e07\\u0e44\\u0e21\\u0e48\\u0e23\\u0e39\\u0e49\"\n        ],\n        \"semantic_type\": \"\",\n        \"description\": \"\"\n      }\n    },\n    {\n      \"column\": \"\\u0e08\\u0e32\\u0e01\\u0e02\\u0e49\\u0e2d\\u0e17\\u0e35\\u0e48\\u0e41\\u0e25\\u0e49\\u0e27 \\u0e40\\u0e19\\u0e37\\u0e48\\u0e2d\\u0e07\\u0e08\\u0e32\\u0e01\\u0e2a\\u0e32\\u0e40\\u0e2b\\u0e15\\u0e38\\u0e43\\u0e14\",\n      \"properties\": {\n        \"dtype\": \"string\",\n        \"num_unique_values\": 73,\n        \"samples\": [\n          \"\\u0e07\\u0e48\\u0e32\\u0e22\\u0e15\\u0e48\\u0e2d\\u0e01\\u0e32\\u0e23\\u0e43\\u0e0a\\u0e49\\u0e07\\u0e32\\u0e19\",\n          \"Stable Operating System\",\n          \"\\u0e15\\u0e49\\u0e2d\\u0e07\\u0e01\\u0e32\\u0e23\\u0e40\\u0e1b\\u0e25\\u0e35\\u0e48\\u0e22\\u0e19\\u0e22\\u0e35\\u0e48\\u0e2b\\u0e49\\u0e2d\"\n        ],\n        \"semantic_type\": \"\",\n        \"description\": \"\"\n      }\n    }\n  ]\n}"
            }
          },
          "metadata": {},
          "execution_count": 69
        }
      ]
    },
    {
      "cell_type": "markdown",
      "source": [
        "### 1.2 Clean data"
      ],
      "metadata": {
        "id": "UrXDjlRJNYbQ"
      }
    },
    {
      "cell_type": "markdown",
      "source": [
        "- เปลี่ยนชื่อ Features (คอลัมน์)"
      ],
      "metadata": {
        "id": "hclylQ6qLdQG"
      }
    },
    {
      "cell_type": "code",
      "source": [
        "df.columns = ['time', 'gender', 'age', 'job', 'salary' ,'os', 'game', 'social_media', 'movies_song', 'photo_video', 'new_brand', 'by_reason']"
      ],
      "metadata": {
        "id": "s5gUT4ZS1GYR"
      },
      "execution_count": 70,
      "outputs": []
    },
    {
      "cell_type": "markdown",
      "source": [
        "- ลบ Features (คอลัมน์) ที่ไม่ใช้และ Row ที่มีค่าว่าง"
      ],
      "metadata": {
        "id": "qxvH8S0HLh4u"
      }
    },
    {
      "cell_type": "code",
      "source": [
        "df = df.drop(columns=['time', 'by_reason'])\n",
        "df = df.dropna()\n",
        "df = df[(df['gender'] != '-') & (df['job'] != '.') & ((df['os'] != 'IOS และ Andriod'))]\n",
        "df.info()"
      ],
      "metadata": {
        "id": "EeatUmU3KiLM",
        "outputId": "c1284394-2bb4-401f-da64-cee756335418",
        "colab": {
          "base_uri": "https://localhost:8080/"
        }
      },
      "execution_count": 71,
      "outputs": [
        {
          "output_type": "stream",
          "name": "stdout",
          "text": [
            "<class 'pandas.core.frame.DataFrame'>\n",
            "Index: 69 entries, 1 to 74\n",
            "Data columns (total 10 columns):\n",
            " #   Column        Non-Null Count  Dtype \n",
            "---  ------        --------------  ----- \n",
            " 0   gender        69 non-null     object\n",
            " 1   age           69 non-null     object\n",
            " 2   job           69 non-null     object\n",
            " 3   salary        69 non-null     object\n",
            " 4   os            69 non-null     object\n",
            " 5   game          69 non-null     object\n",
            " 6   social_media  69 non-null     object\n",
            " 7   movies_song   69 non-null     object\n",
            " 8   photo_video   69 non-null     object\n",
            " 9   new_brand     69 non-null     object\n",
            "dtypes: object(10)\n",
            "memory usage: 5.9+ KB\n"
          ]
        }
      ]
    },
    {
      "cell_type": "markdown",
      "source": [
        "### 1.3 Define target feature and transform datatype"
      ],
      "metadata": {
        "id": "iZQRNaLPNjho"
      }
    },
    {
      "cell_type": "markdown",
      "source": [
        "-  กำหนดให้ คอลัมน์ target ชื่อ 'os' (ปัจจุบันท่านใช้สมาร์ทโฟนระบบปฎิบัติการใด) และแปลง datatype เป็น numeric"
      ],
      "metadata": {
        "id": "y7BlaIHX2LRO"
      }
    },
    {
      "cell_type": "code",
      "source": [
        "# เลือก target variable\n",
        "target = 'os'\n",
        "\n",
        "# แปลง categorical variables เป็น numeric\n",
        "df_encoded = pd.get_dummies(df.drop(columns=[target]), drop_first=True)\n",
        "\n",
        "# แปลง target variable เป็น numeric ด้วย LabelEncoder\n",
        "le = LabelEncoder()\n",
        "y = le.fit_transform(df[target])\n",
        "\n",
        "# เลือก features\n",
        "X = df_encoded"
      ],
      "metadata": {
        "id": "mhP144UZMrME"
      },
      "execution_count": 72,
      "outputs": []
    },
    {
      "cell_type": "markdown",
      "source": [
        "## 2. Train and Test (70%: 30%)"
      ],
      "metadata": {
        "id": "W5hcDDV2PkS9"
      }
    },
    {
      "cell_type": "code",
      "source": [
        "# แบ่งข้อมูลเป็น train และ test sets, เลข random_state = 42 ดีที่สุด\n",
        "X_train, X_test, y_train, y_test = train_test_split(X, y, test_size=0.3, random_state=42)"
      ],
      "metadata": {
        "id": "bxUj0OczCGQM"
      },
      "execution_count": 77,
      "outputs": []
    },
    {
      "cell_type": "markdown",
      "source": [
        "## 3. Train Model"
      ],
      "metadata": {
        "id": "jkq3trm5aw0y"
      }
    },
    {
      "cell_type": "code",
      "source": [
        "# ปรับ scale ของข้อมูล\n",
        "scaler = StandardScaler()\n",
        "X_train_scaled = scaler.fit_transform(X_train)\n",
        "X_test_scaled = scaler.transform(X_test)\n",
        "\n",
        "# สร้างและ train โมเดล Multinomial Logistic Regression\n",
        "model = LogisticRegression(multi_class='multinomial', solver='lbfgs', random_state=42)\n",
        "model.fit(X_train_scaled, y_train)"
      ],
      "metadata": {
        "id": "7bQhHFh7a3ro",
        "outputId": "63c405fd-990b-4c5a-991a-b670501a587a",
        "colab": {
          "base_uri": "https://localhost:8080/",
          "height": 75
        }
      },
      "execution_count": 74,
      "outputs": [
        {
          "output_type": "execute_result",
          "data": {
            "text/plain": [
              "LogisticRegression(multi_class='multinomial', random_state=42)"
            ],
            "text/html": [
              "<style>#sk-container-id-3 {color: black;}#sk-container-id-3 pre{padding: 0;}#sk-container-id-3 div.sk-toggleable {background-color: white;}#sk-container-id-3 label.sk-toggleable__label {cursor: pointer;display: block;width: 100%;margin-bottom: 0;padding: 0.3em;box-sizing: border-box;text-align: center;}#sk-container-id-3 label.sk-toggleable__label-arrow:before {content: \"▸\";float: left;margin-right: 0.25em;color: #696969;}#sk-container-id-3 label.sk-toggleable__label-arrow:hover:before {color: black;}#sk-container-id-3 div.sk-estimator:hover label.sk-toggleable__label-arrow:before {color: black;}#sk-container-id-3 div.sk-toggleable__content {max-height: 0;max-width: 0;overflow: hidden;text-align: left;background-color: #f0f8ff;}#sk-container-id-3 div.sk-toggleable__content pre {margin: 0.2em;color: black;border-radius: 0.25em;background-color: #f0f8ff;}#sk-container-id-3 input.sk-toggleable__control:checked~div.sk-toggleable__content {max-height: 200px;max-width: 100%;overflow: auto;}#sk-container-id-3 input.sk-toggleable__control:checked~label.sk-toggleable__label-arrow:before {content: \"▾\";}#sk-container-id-3 div.sk-estimator input.sk-toggleable__control:checked~label.sk-toggleable__label {background-color: #d4ebff;}#sk-container-id-3 div.sk-label input.sk-toggleable__control:checked~label.sk-toggleable__label {background-color: #d4ebff;}#sk-container-id-3 input.sk-hidden--visually {border: 0;clip: rect(1px 1px 1px 1px);clip: rect(1px, 1px, 1px, 1px);height: 1px;margin: -1px;overflow: hidden;padding: 0;position: absolute;width: 1px;}#sk-container-id-3 div.sk-estimator {font-family: monospace;background-color: #f0f8ff;border: 1px dotted black;border-radius: 0.25em;box-sizing: border-box;margin-bottom: 0.5em;}#sk-container-id-3 div.sk-estimator:hover {background-color: #d4ebff;}#sk-container-id-3 div.sk-parallel-item::after {content: \"\";width: 100%;border-bottom: 1px solid gray;flex-grow: 1;}#sk-container-id-3 div.sk-label:hover label.sk-toggleable__label {background-color: #d4ebff;}#sk-container-id-3 div.sk-serial::before {content: \"\";position: absolute;border-left: 1px solid gray;box-sizing: border-box;top: 0;bottom: 0;left: 50%;z-index: 0;}#sk-container-id-3 div.sk-serial {display: flex;flex-direction: column;align-items: center;background-color: white;padding-right: 0.2em;padding-left: 0.2em;position: relative;}#sk-container-id-3 div.sk-item {position: relative;z-index: 1;}#sk-container-id-3 div.sk-parallel {display: flex;align-items: stretch;justify-content: center;background-color: white;position: relative;}#sk-container-id-3 div.sk-item::before, #sk-container-id-3 div.sk-parallel-item::before {content: \"\";position: absolute;border-left: 1px solid gray;box-sizing: border-box;top: 0;bottom: 0;left: 50%;z-index: -1;}#sk-container-id-3 div.sk-parallel-item {display: flex;flex-direction: column;z-index: 1;position: relative;background-color: white;}#sk-container-id-3 div.sk-parallel-item:first-child::after {align-self: flex-end;width: 50%;}#sk-container-id-3 div.sk-parallel-item:last-child::after {align-self: flex-start;width: 50%;}#sk-container-id-3 div.sk-parallel-item:only-child::after {width: 0;}#sk-container-id-3 div.sk-dashed-wrapped {border: 1px dashed gray;margin: 0 0.4em 0.5em 0.4em;box-sizing: border-box;padding-bottom: 0.4em;background-color: white;}#sk-container-id-3 div.sk-label label {font-family: monospace;font-weight: bold;display: inline-block;line-height: 1.2em;}#sk-container-id-3 div.sk-label-container {text-align: center;}#sk-container-id-3 div.sk-container {/* jupyter's `normalize.less` sets `[hidden] { display: none; }` but bootstrap.min.css set `[hidden] { display: none !important; }` so we also need the `!important` here to be able to override the default hidden behavior on the sphinx rendered scikit-learn.org. See: https://github.com/scikit-learn/scikit-learn/issues/21755 */display: inline-block !important;position: relative;}#sk-container-id-3 div.sk-text-repr-fallback {display: none;}</style><div id=\"sk-container-id-3\" class=\"sk-top-container\"><div class=\"sk-text-repr-fallback\"><pre>LogisticRegression(multi_class=&#x27;multinomial&#x27;, random_state=42)</pre><b>In a Jupyter environment, please rerun this cell to show the HTML representation or trust the notebook. <br />On GitHub, the HTML representation is unable to render, please try loading this page with nbviewer.org.</b></div><div class=\"sk-container\" hidden><div class=\"sk-item\"><div class=\"sk-estimator sk-toggleable\"><input class=\"sk-toggleable__control sk-hidden--visually\" id=\"sk-estimator-id-3\" type=\"checkbox\" checked><label for=\"sk-estimator-id-3\" class=\"sk-toggleable__label sk-toggleable__label-arrow\">LogisticRegression</label><div class=\"sk-toggleable__content\"><pre>LogisticRegression(multi_class=&#x27;multinomial&#x27;, random_state=42)</pre></div></div></div></div></div>"
            ]
          },
          "metadata": {},
          "execution_count": 74
        }
      ]
    },
    {
      "cell_type": "code",
      "source": [
        "# ทำนายผลลัพธ์\n",
        "y_pred = model.predict(X_test_scaled)\n",
        "\n",
        "# ประเมินประสิทธิภาพของโมเดล\n",
        "accuracy = accuracy_score(y_test, y_pred)\n",
        "print(f\"Accuracy: {accuracy:.2f}\")\n",
        "\n",
        "print(\"\\nClassification Report:\")\n",
        "print(classification_report(y_test, y_pred, target_names=le.classes_))\n",
        "\n",
        "print(\"\\nConfusion Matrix:\")\n",
        "conf_matrix = confusion_matrix(y_test, y_pred)\n",
        "print(conf_matrix)\n",
        "\n",
        "# วิเคราะห์ความสำคัญของ features\n",
        "feature_importance = pd.DataFrame({\n",
        "    'feature': X.columns,\n",
        "    'importance': np.mean(np.abs(model.coef_), axis=0)\n",
        "})\n",
        "feature_importance = feature_importance.sort_values('importance', ascending=False)\n",
        "\n",
        "print(\"\\nTop 10 Most Important Features:\")\n",
        "print(feature_importance.head(10))\n",
        "\n",
        "# สร้าง confusion matrix heatmap\n",
        "plt.figure(figsize=(10, 8))\n",
        "sns.heatmap(conf_matrix, annot=True, fmt='d', cmap='Blues',\n",
        "            xticklabels=le.classes_, yticklabels=le.classes_)\n",
        "plt.title('Confusion Matrix')\n",
        "plt.xlabel('Predicted')\n",
        "plt.ylabel('Actual')\n",
        "plt.show()\n",
        "\n",
        "# สร้างกราฟแสดงความสำคัญของ features\n",
        "plt.figure(figsize=(12, 6))\n",
        "sns.barplot(x='importance', y='feature', data=feature_importance.head(10))\n",
        "plt.title('Top 10 Most Important Features')\n",
        "plt.xlabel('Importance')\n",
        "plt.ylabel('Feature')\n",
        "plt.show()\n",
        "\n",
        "# ทดสอบการทำนายด้วยข้อมูลใหม่\n",
        "new_data = X_test.iloc[0:1]  # ใช้ข้อมูลแถวแรกของ test set เป็นตัวอย่าง\n",
        "new_data_scaled = scaler.transform(new_data)\n",
        "prediction = model.predict(new_data_scaled)\n",
        "prediction_proba = model.predict_proba(new_data_scaled)\n",
        "\n",
        "print(\"\\nPrediction for new data:\")\n",
        "print(\"Predicted OS:\", le.inverse_transform(prediction)[0])\n",
        "print(\"Probabilities:\")\n",
        "for os, prob in zip(le.classes_, prediction_proba[0]):\n",
        "    print(f\"{os}: {prob:.4f}\")"
      ],
      "metadata": {
        "id": "kuwlclzlSvH2",
        "outputId": "59568592-303a-4bb0-834a-3af8bd19414c",
        "colab": {
          "base_uri": "https://localhost:8080/",
          "height": 1000
        }
      },
      "execution_count": 75,
      "outputs": [
        {
          "output_type": "stream",
          "name": "stdout",
          "text": [
            "Accuracy: 0.79\n",
            "\n",
            "Classification Report:\n",
            "              precision    recall  f1-score   support\n",
            "\n",
            "     Android       0.00      0.00      0.00         0\n",
            "         IOS       1.00      0.79      0.88        14\n",
            "\n",
            "    accuracy                           0.79        14\n",
            "   macro avg       0.50      0.39      0.44        14\n",
            "weighted avg       1.00      0.79      0.88        14\n",
            "\n",
            "\n",
            "Confusion Matrix:\n",
            "[[ 0  0]\n",
            " [ 3 11]]\n",
            "\n",
            "Top 10 Most Important Features:\n",
            "                      feature  importance\n",
            "34          new_brand_Samsung    0.707500\n",
            "13  salary_มากกว่า 60,000 บาท    0.655781\n",
            "30           new_brand_Iphone    0.597563\n",
            "17               game_ปานกลาง    0.510388\n",
            "27      photo_video_บ่อยครั้ง    0.368060\n",
            "16            game_บ่อยที่สุด    0.360686\n",
            "14            game_น้อยที่สุด    0.352526\n",
            "31            new_brand_Nokia    0.326349\n",
            "15             game_บ่อยครั้ง    0.304891\n",
            "10   salary_40,001-50,000 บาท    0.293841\n"
          ]
        },
        {
          "output_type": "stream",
          "name": "stderr",
          "text": [
            "/usr/local/lib/python3.10/dist-packages/sklearn/metrics/_classification.py:1471: UndefinedMetricWarning: Recall and F-score are ill-defined and being set to 0.0 in labels with no true samples. Use `zero_division` parameter to control this behavior.\n",
            "  _warn_prf(average, modifier, msg_start, len(result))\n",
            "/usr/local/lib/python3.10/dist-packages/sklearn/metrics/_classification.py:1471: UndefinedMetricWarning: Recall and F-score are ill-defined and being set to 0.0 in labels with no true samples. Use `zero_division` parameter to control this behavior.\n",
            "  _warn_prf(average, modifier, msg_start, len(result))\n",
            "/usr/local/lib/python3.10/dist-packages/sklearn/metrics/_classification.py:1471: UndefinedMetricWarning: Recall and F-score are ill-defined and being set to 0.0 in labels with no true samples. Use `zero_division` parameter to control this behavior.\n",
            "  _warn_prf(average, modifier, msg_start, len(result))\n"
          ]
        },
        {
          "output_type": "display_data",
          "data": {
            "text/plain": [
              "<Figure size 1000x800 with 2 Axes>"
            ],
            "image/png": "[encoded data removed]"
          },
          "metadata": {}
        },
        {
          "output_type": "stream",
          "name": "stderr",
          "text": [
            "/usr/local/lib/python3.10/dist-packages/IPython/core/pylabtools.py:151: UserWarning: Glyph 3617 (\\N{THAI CHARACTER MO MA}) missing from current font.\n",
            "  fig.canvas.print_figure(bytes_io, **kw)\n",
            "/usr/local/lib/python3.10/dist-packages/IPython/core/pylabtools.py:151: UserWarning: Glyph 3634 (\\N{THAI CHARACTER SARA AA}) missing from current font.\n",
            "  fig.canvas.print_figure(bytes_io, **kw)\n",
            "/usr/local/lib/python3.10/dist-packages/IPython/core/pylabtools.py:151: UserWarning: Glyph 3585 (\\N{THAI CHARACTER KO KAI}) missing from current font.\n",
            "  fig.canvas.print_figure(bytes_io, **kw)\n",
            "/usr/local/lib/python3.10/dist-packages/IPython/core/pylabtools.py:151: UserWarning: Glyph 3623 (\\N{THAI CHARACTER WO WAEN}) missing from current font.\n",
            "  fig.canvas.print_figure(bytes_io, **kw)\n",
            "/usr/local/lib/python3.10/dist-packages/IPython/core/pylabtools.py:151: UserWarning: Glyph 3656 (\\N{THAI CHARACTER MAI EK}) missing from current font.\n",
            "  fig.canvas.print_figure(bytes_io, **kw)\n",
            "/usr/local/lib/python3.10/dist-packages/IPython/core/pylabtools.py:151: UserWarning: Glyph 3610 (\\N{THAI CHARACTER BO BAIMAI}) missing from current font.\n",
            "  fig.canvas.print_figure(bytes_io, **kw)\n",
            "/usr/local/lib/python3.10/dist-packages/IPython/core/pylabtools.py:151: UserWarning: Glyph 3607 (\\N{THAI CHARACTER THO THAHAN}) missing from current font.\n",
            "  fig.canvas.print_figure(bytes_io, **kw)\n",
            "/usr/local/lib/python3.10/dist-packages/IPython/core/pylabtools.py:151: UserWarning: Glyph 3611 (\\N{THAI CHARACTER PO PLA}) missing from current font.\n",
            "  fig.canvas.print_figure(bytes_io, **kw)\n",
            "/usr/local/lib/python3.10/dist-packages/IPython/core/pylabtools.py:151: UserWarning: Glyph 3609 (\\N{THAI CHARACTER NO NU}) missing from current font.\n",
            "  fig.canvas.print_figure(bytes_io, **kw)\n",
            "/usr/local/lib/python3.10/dist-packages/IPython/core/pylabtools.py:151: UserWarning: Glyph 3621 (\\N{THAI CHARACTER LO LING}) missing from current font.\n",
            "  fig.canvas.print_figure(bytes_io, **kw)\n",
            "/usr/local/lib/python3.10/dist-packages/IPython/core/pylabtools.py:151: UserWarning: Glyph 3591 (\\N{THAI CHARACTER NGO NGU}) missing from current font.\n",
            "  fig.canvas.print_figure(bytes_io, **kw)\n",
            "/usr/local/lib/python3.10/dist-packages/IPython/core/pylabtools.py:151: UserWarning: Glyph 3629 (\\N{THAI CHARACTER O ANG}) missing from current font.\n",
            "  fig.canvas.print_figure(bytes_io, **kw)\n",
            "/usr/local/lib/python3.10/dist-packages/IPython/core/pylabtools.py:151: UserWarning: Glyph 3618 (\\N{THAI CHARACTER YO YAK}) missing from current font.\n",
            "  fig.canvas.print_figure(bytes_io, **kw)\n",
            "/usr/local/lib/python3.10/dist-packages/IPython/core/pylabtools.py:151: UserWarning: Glyph 3588 (\\N{THAI CHARACTER KHO KHWAI}) missing from current font.\n",
            "  fig.canvas.print_figure(bytes_io, **kw)\n",
            "/usr/local/lib/python3.10/dist-packages/IPython/core/pylabtools.py:151: UserWarning: Glyph 3619 (\\N{THAI CHARACTER RO RUA}) missing from current font.\n",
            "  fig.canvas.print_figure(bytes_io, **kw)\n",
            "/usr/local/lib/python3.10/dist-packages/IPython/core/pylabtools.py:151: UserWarning: Glyph 3633 (\\N{THAI CHARACTER MAI HAN-AKAT}) missing from current font.\n",
            "  fig.canvas.print_figure(bytes_io, **kw)\n",
            "/usr/local/lib/python3.10/dist-packages/IPython/core/pylabtools.py:151: UserWarning: Glyph 3657 (\\N{THAI CHARACTER MAI THO}) missing from current font.\n",
            "  fig.canvas.print_figure(bytes_io, **kw)\n",
            "/usr/local/lib/python3.10/dist-packages/IPython/core/pylabtools.py:151: UserWarning: Glyph 3637 (\\N{THAI CHARACTER SARA II}) missing from current font.\n",
            "  fig.canvas.print_figure(bytes_io, **kw)\n",
            "/usr/local/lib/python3.10/dist-packages/IPython/core/pylabtools.py:151: UserWarning: Glyph 3626 (\\N{THAI CHARACTER SO SUA}) missing from current font.\n",
            "  fig.canvas.print_figure(bytes_io, **kw)\n",
            "/usr/local/lib/python3.10/dist-packages/IPython/core/pylabtools.py:151: UserWarning: Glyph 3640 (\\N{THAI CHARACTER SARA U}) missing from current font.\n",
            "  fig.canvas.print_figure(bytes_io, **kw)\n",
            "/usr/local/lib/python3.10/dist-packages/IPython/core/pylabtools.py:151: UserWarning: Glyph 3604 (\\N{THAI CHARACTER DO DEK}) missing from current font.\n",
            "  fig.canvas.print_figure(bytes_io, **kw)\n"
          ]
        },
        {
          "output_type": "display_data",
          "data": {
            "text/plain": [
              "<Figure size 1200x600 with 1 Axes>"
            ],
            "image/png": "[encoded data removed]"
          },
          "metadata": {}
        },
        {
          "output_type": "stream",
          "name": "stdout",
          "text": [
            "\n",
            "Prediction for new data:\n",
            "Predicted OS: IOS\n",
            "Probabilities:\n",
            "Android: 0.1715\n",
            "IOS: 0.8285\n"
          ]
        }
      ]
    },
    {
      "cell_type": "code",
      "source": [
        "#Importing a library that is not in Colaboratory\n",
        "!pip install shap\n",
        "\n",
        "import pandas as pd\n",
        "import numpy as np\n",
        "from sklearn.model_selection import train_test_split\n",
        "from sklearn.preprocessing import LabelEncoder\n",
        "from sklearn.ensemble import RandomForestClassifier\n",
        "import shap\n",
        "\n",
        "# 1. Get data and clean data\n",
        "# 1.1 Get \"the Smartphone Using dataset\" from Github\n",
        "url = 'https://raw.githubusercontent.com/RatanakamonS/DADS6003/main/DB-%E0%B8%AA%E0%B8%B3%E0%B8%A3%E0%B8%A7%E0%B8%88%E0%B8%81%E0%B8%B2%E0%B8%A3%E0%B9%83%E0%B8%8A%E0%B9%89%20Smartphone%20(Responses)-Week5%20-%20Form%20Responses.csv'\n",
        "df = pd.read_csv(url)\n",
        "\n",
        "# 1.2 Clean data\n",
        "# เปลี่ยนชื่อคอลัมน์\n",
        "df.columns = ['time', 'gender', 'age', 'job', 'salary' ,'os', 'game', 'social_media', 'movies_song', 'photo_video', 'new_brand', 'by_reason']\n",
        "\n",
        "# ลบคอลัมน์ที่ไม่ใช้ศึกษาและแถวที่มีค่าว่าง\n",
        "df = df.drop(columns=['time', 'by_reason'])\n",
        "df = df.dropna()\n",
        "df = df[(df['gender'] != '-') & (df['job'] != '.') & ((df['os'] != 'IOS และ Andriod'))]\n",
        "\n",
        "# 1.3 Define target feature and transform datatype\n",
        "# กำหนดให้ คอลัมน์ target ชื่อ 'os' และแปลง datatype เป็น numeric\n",
        "target = 'os'\n",
        "df_encoded = pd.get_dummies(df.drop(columns=[target]), drop_first=True)\n",
        "le = LabelEncoder()\n",
        "y = le.fit_transform(df[target])\n",
        "X = df_encoded\n",
        "\n",
        "# 2. Train and Test (80%: 20%)\n",
        "X_train, X_test, y_train, y_test = train_test_split(X, y, test_size=0.2, random_state=42)\n",
        "\n",
        "# 3. Train Model\n",
        "model = RandomForestClassifier(n_estimators=100, random_state=42)\n",
        "model.fit(X_train, y_train)\n",
        "\n",
        "# 4. SHAP Explain\n",
        "# 4.1 Build on X Train\n",
        "explainer = shap.TreeExplainer(model)\n",
        "\n",
        "# 4.2 Explained X Test\n",
        "shap_values = explainer.shap_values(X_test)\n",
        "\n",
        "# 5. Results\n",
        "# 5.1 Rank Feature Importance by using beeswarm\n",
        "shap.summary_plot(shap_values, X_test, plot_type=\"bar\")\n",
        "\n",
        "# 5.2 Analyze one sample (Randomly) from test set\n",
        "sample_index = np.random.randint(0, X_test.shape[0])\n",
        "shap.force_plot(explainer.expected_value[0], shap_values[0][sample_index,:], X_test.iloc[sample_index,:])\n",
        "\n",
        "print(\"Model Accuracy:\", model.score(X_test, y_test))\n",
        "print(\"\\nFeature Importances:\")\n",
        "for feature, importance in zip(X.columns, model.feature_importances_):\n",
        "    print(f\"{feature}: {importance}\")\n",
        "\n",
        "print(\"\\nSample Prediction:\")\n",
        "print(\"Actual:\", le.inverse_transform([y_test[sample_index]])[0])\n",
        "print(\"Predicted:\", le.inverse_transform([model.predict(X_test.iloc[sample_index].to_frame().T)[0]])[0])"
      ],
      "metadata": {
        "id": "Y-RjNoX9oEmI",
        "outputId": "cb7f6b15-a19a-4a3b-cf55-25ecbd1b6fd2",
        "colab": {
          "base_uri": "https://localhost:8080/",
          "height": 1000
        }
      },
      "execution_count": 76,
      "outputs": [
        {
          "output_type": "stream",
          "name": "stdout",
          "text": [
            "Requirement already satisfied: shap in /usr/local/lib/python3.10/dist-packages (0.46.0)\n",
            "Requirement already satisfied: numpy in /usr/local/lib/python3.10/dist-packages (from shap) (1.26.4)\n",
            "Requirement already satisfied: scipy in /usr/local/lib/python3.10/dist-packages (from shap) (1.13.1)\n",
            "Requirement already satisfied: scikit-learn in /usr/local/lib/python3.10/dist-packages (from shap) (1.3.2)\n",
            "Requirement already satisfied: pandas in /usr/local/lib/python3.10/dist-packages (from shap) (2.1.4)\n",
            "Requirement already satisfied: tqdm>=4.27.0 in /usr/local/lib/python3.10/dist-packages (from shap) (4.66.5)\n",
            "Requirement already satisfied: packaging>20.9 in /usr/local/lib/python3.10/dist-packages (from shap) (24.1)\n",
            "Requirement already satisfied: slicer==0.0.8 in /usr/local/lib/python3.10/dist-packages (from shap) (0.0.8)\n",
            "Requirement already satisfied: numba in /usr/local/lib/python3.10/dist-packages (from shap) (0.60.0)\n",
            "Requirement already satisfied: cloudpickle in /usr/local/lib/python3.10/dist-packages (from shap) (2.2.1)\n",
            "Requirement already satisfied: llvmlite<0.44,>=0.43.0dev0 in /usr/local/lib/python3.10/dist-packages (from numba->shap) (0.43.0)\n",
            "Requirement already satisfied: python-dateutil>=2.8.2 in /usr/local/lib/python3.10/dist-packages (from pandas->shap) (2.8.2)\n",
            "Requirement already satisfied: pytz>=2020.1 in /usr/local/lib/python3.10/dist-packages (from pandas->shap) (2024.1)\n",
            "Requirement already satisfied: tzdata>=2022.1 in /usr/local/lib/python3.10/dist-packages (from pandas->shap) (2024.1)\n",
            "Requirement already satisfied: joblib>=1.1.1 in /usr/local/lib/python3.10/dist-packages (from scikit-learn->shap) (1.4.2)\n",
            "Requirement already satisfied: threadpoolctl>=2.0.0 in /usr/local/lib/python3.10/dist-packages (from scikit-learn->shap) (3.5.0)\n",
            "Requirement already satisfied: six>=1.5 in /usr/local/lib/python3.10/dist-packages (from python-dateutil>=2.8.2->pandas->shap) (1.16.0)\n"
          ]
        },
        {
          "output_type": "stream",
          "name": "stderr",
          "text": [
            "/usr/local/lib/python3.10/dist-packages/shap/plots/_beeswarm.py:950: UserWarning: Glyph 3611 (\\N{THAI CHARACTER PO PLA}) missing from current font.\n",
            "  pl.tight_layout()\n",
            "/usr/local/lib/python3.10/dist-packages/shap/plots/_beeswarm.py:950: UserWarning: Glyph 3637 (\\N{THAI CHARACTER SARA II}) missing from current font.\n",
            "  pl.tight_layout()\n",
            "/usr/local/lib/python3.10/dist-packages/shap/plots/_beeswarm.py:950: UserWarning: Glyph 3627 (\\N{THAI CHARACTER HO HIP}) missing from current font.\n",
            "  pl.tight_layout()\n",
            "/usr/local/lib/python3.10/dist-packages/shap/plots/_beeswarm.py:950: UserWarning: Glyph 3597 (\\N{THAI CHARACTER YO YING}) missing from current font.\n",
            "  pl.tight_layout()\n",
            "/usr/local/lib/python3.10/dist-packages/shap/plots/_beeswarm.py:950: UserWarning: Glyph 3636 (\\N{THAI CHARACTER SARA I}) missing from current font.\n",
            "  pl.tight_layout()\n",
            "/usr/local/lib/python3.10/dist-packages/shap/plots/_beeswarm.py:950: UserWarning: Glyph 3591 (\\N{THAI CHARACTER NGO NGU}) missing from current font.\n",
            "  pl.tight_layout()\n",
            "/usr/local/lib/python3.10/dist-packages/IPython/core/pylabtools.py:151: UserWarning: Glyph 3611 (\\N{THAI CHARACTER PO PLA}) missing from current font.\n",
            "  fig.canvas.print_figure(bytes_io, **kw)\n",
            "/usr/local/lib/python3.10/dist-packages/IPython/core/pylabtools.py:151: UserWarning: Glyph 3637 (\\N{THAI CHARACTER SARA II}) missing from current font.\n",
            "  fig.canvas.print_figure(bytes_io, **kw)\n",
            "/usr/local/lib/python3.10/dist-packages/IPython/core/pylabtools.py:151: UserWarning: Glyph 3627 (\\N{THAI CHARACTER HO HIP}) missing from current font.\n",
            "  fig.canvas.print_figure(bytes_io, **kw)\n",
            "/usr/local/lib/python3.10/dist-packages/IPython/core/pylabtools.py:151: UserWarning: Glyph 3597 (\\N{THAI CHARACTER YO YING}) missing from current font.\n",
            "  fig.canvas.print_figure(bytes_io, **kw)\n",
            "/usr/local/lib/python3.10/dist-packages/IPython/core/pylabtools.py:151: UserWarning: Glyph 3636 (\\N{THAI CHARACTER SARA I}) missing from current font.\n",
            "  fig.canvas.print_figure(bytes_io, **kw)\n",
            "/usr/local/lib/python3.10/dist-packages/IPython/core/pylabtools.py:151: UserWarning: Glyph 3591 (\\N{THAI CHARACTER NGO NGU}) missing from current font.\n",
            "  fig.canvas.print_figure(bytes_io, **kw)\n"
          ]
        },
        {
          "output_type": "display_data",
          "data": {
            "text/plain": [
              "<Figure size 1150x660 with 2 Axes>"
            ],
            "image/png": "[encoded data removed]"
          },
          "metadata": {}
        },
        {
          "output_type": "error",
          "ename": "DimensionError",
          "evalue": "Length of features is not equal to the length of shap_values!",
          "traceback": [
            "\u001b[0;31m---------------------------------------------------------------------------\u001b[0m",
            "\u001b[0;31mDimensionError\u001b[0m                            Traceback (most recent call last)",
            "\u001b[0;32m<ipython-input-76-8ceb834b57ed>\u001b[0m in \u001b[0;36m<cell line: 53>\u001b[0;34m()\u001b[0m\n\u001b[1;32m     51\u001b[0m \u001b[0;31m# 5.2 Analyze one sample (Randomly) from test set\u001b[0m\u001b[0;34m\u001b[0m\u001b[0;34m\u001b[0m\u001b[0m\n\u001b[1;32m     52\u001b[0m \u001b[0msample_index\u001b[0m \u001b[0;34m=\u001b[0m \u001b[0mnp\u001b[0m\u001b[0;34m.\u001b[0m\u001b[0mrandom\u001b[0m\u001b[0;34m.\u001b[0m\u001b[0mrandint\u001b[0m\u001b[0;34m(\u001b[0m\u001b[0;36m0\u001b[0m\u001b[0;34m,\u001b[0m \u001b[0mX_test\u001b[0m\u001b[0;34m.\u001b[0m\u001b[0mshape\u001b[0m\u001b[0;34m[\u001b[0m\u001b[0;36m0\u001b[0m\u001b[0;34m]\u001b[0m\u001b[0;34m)\u001b[0m\u001b[0;34m\u001b[0m\u001b[0;34m\u001b[0m\u001b[0m\n\u001b[0;32m---> 53\u001b[0;31m \u001b[0mshap\u001b[0m\u001b[0;34m.\u001b[0m\u001b[0mforce_plot\u001b[0m\u001b[0;34m(\u001b[0m\u001b[0mexplainer\u001b[0m\u001b[0;34m.\u001b[0m\u001b[0mexpected_value\u001b[0m\u001b[0;34m[\u001b[0m\u001b[0;36m0\u001b[0m\u001b[0;34m]\u001b[0m\u001b[0;34m,\u001b[0m \u001b[0mshap_values\u001b[0m\u001b[0;34m[\u001b[0m\u001b[0;36m0\u001b[0m\u001b[0;34m]\u001b[0m\u001b[0;34m[\u001b[0m\u001b[0msample_index\u001b[0m\u001b[0;34m,\u001b[0m\u001b[0;34m:\u001b[0m\u001b[0;34m]\u001b[0m\u001b[0;34m,\u001b[0m \u001b[0mX_test\u001b[0m\u001b[0;34m.\u001b[0m\u001b[0miloc\u001b[0m\u001b[0;34m[\u001b[0m\u001b[0msample_index\u001b[0m\u001b[0;34m,\u001b[0m\u001b[0;34m:\u001b[0m\u001b[0;34m]\u001b[0m\u001b[0;34m)\u001b[0m\u001b[0;34m\u001b[0m\u001b[0;34m\u001b[0m\u001b[0m\n\u001b[0m\u001b[1;32m     54\u001b[0m \u001b[0;34m\u001b[0m\u001b[0m\n\u001b[1;32m     55\u001b[0m \u001b[0mprint\u001b[0m\u001b[0;34m(\u001b[0m\u001b[0;34m\"Model Accuracy:\"\u001b[0m\u001b[0;34m,\u001b[0m \u001b[0mmodel\u001b[0m\u001b[0;34m.\u001b[0m\u001b[0mscore\u001b[0m\u001b[0;34m(\u001b[0m\u001b[0mX_test\u001b[0m\u001b[0;34m,\u001b[0m \u001b[0my_test\u001b[0m\u001b[0;34m)\u001b[0m\u001b[0;34m)\u001b[0m\u001b[0;34m\u001b[0m\u001b[0;34m\u001b[0m\u001b[0m\n",
            "\u001b[0;32m/usr/local/lib/python3.10/dist-packages/shap/plots/_force.py\u001b[0m in \u001b[0;36mforce\u001b[0;34m(base_value, shap_values, features, feature_names, out_names, link, plot_cmap, matplotlib, show, figsize, ordering_keys, ordering_keys_time_format, text_rotation, contribution_threshold)\u001b[0m\n\u001b[1;32m    179\u001b[0m                     \u001b[0;34m\"as the last column. In this case, just pass the array without the last column.\"\u001b[0m\u001b[0;34m\u001b[0m\u001b[0;34m\u001b[0m\u001b[0m\n\u001b[1;32m    180\u001b[0m                 )\n\u001b[0;32m--> 181\u001b[0;31m             \u001b[0;32mraise\u001b[0m \u001b[0mDimensionError\u001b[0m\u001b[0;34m(\u001b[0m\u001b[0memsg\u001b[0m\u001b[0;34m)\u001b[0m\u001b[0;34m\u001b[0m\u001b[0;34m\u001b[0m\u001b[0m\n\u001b[0m\u001b[1;32m    182\u001b[0m \u001b[0;34m\u001b[0m\u001b[0m\n\u001b[1;32m    183\u001b[0m         \u001b[0minstance\u001b[0m \u001b[0;34m=\u001b[0m \u001b[0mInstance\u001b[0m\u001b[0;34m(\u001b[0m\u001b[0mnp\u001b[0m\u001b[0;34m.\u001b[0m\u001b[0mzeros\u001b[0m\u001b[0;34m(\u001b[0m\u001b[0;34m(\u001b[0m\u001b[0;36m1\u001b[0m\u001b[0;34m,\u001b[0m \u001b[0mlen\u001b[0m\u001b[0;34m(\u001b[0m\u001b[0mfeature_names\u001b[0m\u001b[0;34m)\u001b[0m\u001b[0;34m)\u001b[0m\u001b[0;34m)\u001b[0m\u001b[0;34m,\u001b[0m \u001b[0mfeatures\u001b[0m\u001b[0;34m)\u001b[0m\u001b[0;34m\u001b[0m\u001b[0;34m\u001b[0m\u001b[0m\n",
            "\u001b[0;31mDimensionError\u001b[0m: Length of features is not equal to the length of shap_values!"
          ]
        }
      ]
    }
  ]
}