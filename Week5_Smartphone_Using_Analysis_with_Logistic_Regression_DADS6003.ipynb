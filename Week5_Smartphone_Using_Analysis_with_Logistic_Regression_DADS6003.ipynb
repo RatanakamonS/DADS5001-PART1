{
  "nbformat": 4,
  "nbformat_minor": 0,
  "metadata": {
    "colab": {
      "provenance": [],
      "toc_visible": true,
      "authorship_tag": "ABX9TyMkfvgHgFH2moUEBdQ3HyX/",
      "include_colab_link": true
    },
    "kernelspec": {
      "name": "python3",
      "display_name": "Python 3"
    },
    "language_info": {
      "name": "python"
    }
  },
  "cells": [
    {
      "cell_type": "markdown",
      "metadata": {
        "id": "view-in-github",
        "colab_type": "text"
      },
      "source": [
        "<a href=\"https://colab.research.google.com/github/RatanakamonS/DADS5001-PART1/blob/main/Week5_Smartphone_Using_Analysis_with_Logistic_Regression_DADS6003.ipynb\" target=\"_parent\"><img src=\"https://colab.research.google.com/assets/colab-badge.svg\" alt=\"Open In Colab\"/></a>"
      ]
    },
    {
      "cell_type": "markdown",
      "source": [
        "##  Library"
      ],
      "metadata": {
        "id": "exFuwo7NsSOK"
      }
    },
    {
      "cell_type": "markdown",
      "source": [
        "### 0.1 Importing a library that is not in Colaboratory"
      ],
      "metadata": {
        "id": "w7rMzlW8vO0Q"
      }
    },
    {
      "cell_type": "code",
      "source": [
        "!pip install shap\n",
        "import shap"
      ],
      "metadata": {
        "colab": {
          "base_uri": "https://localhost:8080/"
        },
        "id": "4YcZjanavUHX",
        "outputId": "419f130d-4347-4338-eb09-d881c84b790a"
      },
      "execution_count": 59,
      "outputs": [
        {
          "output_type": "stream",
          "name": "stdout",
          "text": [
            "Requirement already satisfied: shap in /usr/local/lib/python3.10/dist-packages (0.46.0)\n",
            "Requirement already satisfied: numpy in /usr/local/lib/python3.10/dist-packages (from shap) (1.26.4)\n",
            "Requirement already satisfied: scipy in /usr/local/lib/python3.10/dist-packages (from shap) (1.13.1)\n",
            "Requirement already satisfied: scikit-learn in /usr/local/lib/python3.10/dist-packages (from shap) (1.3.2)\n",
            "Requirement already satisfied: pandas in /usr/local/lib/python3.10/dist-packages (from shap) (2.1.4)\n",
            "Requirement already satisfied: tqdm>=4.27.0 in /usr/local/lib/python3.10/dist-packages (from shap) (4.66.5)\n",
            "Requirement already satisfied: packaging>20.9 in /usr/local/lib/python3.10/dist-packages (from shap) (24.1)\n",
            "Requirement already satisfied: slicer==0.0.8 in /usr/local/lib/python3.10/dist-packages (from shap) (0.0.8)\n",
            "Requirement already satisfied: numba in /usr/local/lib/python3.10/dist-packages (from shap) (0.60.0)\n",
            "Requirement already satisfied: cloudpickle in /usr/local/lib/python3.10/dist-packages (from shap) (2.2.1)\n",
            "Requirement already satisfied: llvmlite<0.44,>=0.43.0dev0 in /usr/local/lib/python3.10/dist-packages (from numba->shap) (0.43.0)\n",
            "Requirement already satisfied: python-dateutil>=2.8.2 in /usr/local/lib/python3.10/dist-packages (from pandas->shap) (2.8.2)\n",
            "Requirement already satisfied: pytz>=2020.1 in /usr/local/lib/python3.10/dist-packages (from pandas->shap) (2024.1)\n",
            "Requirement already satisfied: tzdata>=2022.1 in /usr/local/lib/python3.10/dist-packages (from pandas->shap) (2024.1)\n",
            "Requirement already satisfied: joblib>=1.1.1 in /usr/local/lib/python3.10/dist-packages (from scikit-learn->shap) (1.4.2)\n",
            "Requirement already satisfied: threadpoolctl>=2.0.0 in /usr/local/lib/python3.10/dist-packages (from scikit-learn->shap) (3.5.0)\n",
            "Requirement already satisfied: six>=1.5 in /usr/local/lib/python3.10/dist-packages (from python-dateutil>=2.8.2->pandas->shap) (1.16.0)\n"
          ]
        }
      ]
    },
    {
      "cell_type": "markdown",
      "source": [
        "### 0.2 Importing a library in Colaboratory"
      ],
      "metadata": {
        "id": "Kk9A0Qb4vc03"
      }
    },
    {
      "cell_type": "code",
      "execution_count": 60,
      "metadata": {
        "id": "2qxhldsrsB78"
      },
      "outputs": [],
      "source": [
        "import pandas as pd\n",
        "import numpy as np\n",
        "import matplotlib as mpl\n",
        "import seaborn as sns\n",
        "import warnings # ข้อความ warning\n",
        "import matplotlib.pyplot as plt\n",
        "import matplotlib.font_manager as fm #จัดการ Front ไทย\n",
        "\n",
        "from sklearn.model_selection import train_test_split # Model Train, Test\n",
        "from sklearn.preprocessing import LabelEncoder #Transform categories to numeric\n",
        "from sklearn.linear_model import LogisticRegression # the LogisticRegression model\n",
        "from sklearn.metrics import accuracy_score, classification_report, confusion_matrix # the function of metrics\n",
        "from sklearn.preprocessing import StandardScaler # import the StandardScaler"
      ]
    },
    {
      "cell_type": "markdown",
      "source": [
        "- จัดการ Front ภาษาไทย"
      ],
      "metadata": {
        "id": "t8TSDasavC-J"
      }
    },
    {
      "cell_type": "code",
      "source": [
        "# (1) ดาวน์โหลดไฟล์ฟอนต์ \"TH Sarabun New\" จาก GitHub\n",
        "!wget https://github.com/Phonbopit/sarabun-webfont/raw/master/fonts/thsarabunnew-webfont.ttf\n",
        "# (2) เพิ่มฟอนต์ที่ดาวน์โหลดมาเข้าไปใน Font Manager ของ Matplotlib\n",
        "fm.fontManager.addfont('thsarabunnew-webfont.ttf')\n",
        "# (3) ตั้งค่าให้ฟอนต์ \"TH Sarabun New\" เป็นฟอนต์เริ่มต้นสำหรับ Matplotlib\n",
        "mpl.rc('font', family='TH Sarabun New')"
      ],
      "metadata": {
        "colab": {
          "base_uri": "https://localhost:8080/"
        },
        "id": "B5ofYS9wsiDk",
        "outputId": "ca9af21e-36e9-4ba7-f904-bcbad8a1623e"
      },
      "execution_count": 61,
      "outputs": [
        {
          "output_type": "stream",
          "name": "stdout",
          "text": [
            "--2024-09-10 09:15:35--  https://github.com/Phonbopit/sarabun-webfont/raw/master/fonts/thsarabunnew-webfont.ttf\n",
            "Resolving github.com (github.com)... 140.82.114.4\n",
            "Connecting to github.com (github.com)|140.82.114.4|:443... connected.\n",
            "HTTP request sent, awaiting response... 302 Found\n",
            "Location: https://raw.githubusercontent.com/Phonbopit/sarabun-webfont/master/fonts/thsarabunnew-webfont.ttf [following]\n",
            "--2024-09-10 09:15:35--  https://raw.githubusercontent.com/Phonbopit/sarabun-webfont/master/fonts/thsarabunnew-webfont.ttf\n",
            "Resolving raw.githubusercontent.com (raw.githubusercontent.com)... 185.199.109.133, 185.199.111.133, 185.199.108.133, ...\n",
            "Connecting to raw.githubusercontent.com (raw.githubusercontent.com)|185.199.109.133|:443... connected.\n",
            "HTTP request sent, awaiting response... 200 OK\n",
            "Length: 98308 (96K) [application/octet-stream]\n",
            "Saving to: ‘thsarabunnew-webfont.ttf.12’\n",
            "\n",
            "\r          thsarabun   0%[                    ]       0  --.-KB/s               \rthsarabunnew-webfon 100%[===================>]  96.00K  --.-KB/s    in 0.004s  \n",
            "\n",
            "2024-09-10 09:15:35 (26.0 MB/s) - ‘thsarabunnew-webfont.ttf.12’ saved [98308/98308]\n",
            "\n"
          ]
        }
      ]
    },
    {
      "cell_type": "markdown",
      "source": [
        "## 1. Get data and clean data"
      ],
      "metadata": {
        "id": "c5PchvM2scZU"
      }
    },
    {
      "cell_type": "markdown",
      "source": [
        "### 1.1 Get \"the Smartphone Using dataset\" from Github"
      ],
      "metadata": {
        "id": "N4IRrQhcNAcn"
      }
    },
    {
      "cell_type": "code",
      "source": [
        "url = 'https://raw.githubusercontent.com/RatanakamonS/DADS6003/main/DB-%E0%B8%AA%E0%B8%B3%E0%B8%A3%E0%B8%A7%E0%B8%88%E0%B8%81%E0%B8%B2%E0%B8%A3%E0%B9%83%E0%B8%8A%E0%B9%89%20Smartphone%20(Responses)-Week5%20-%20Form%20Responses.csv'\n",
        "df = pd.read_csv(url)\n",
        "df.head()"
      ],
      "metadata": {
        "colab": {
          "base_uri": "https://localhost:8080/",
          "height": 380
        },
        "id": "OgjG-IZPsXTF",
        "outputId": "8c055429-462f-4f31-b01a-5637decd1107"
      },
      "execution_count": 62,
      "outputs": [
        {
          "output_type": "execute_result",
          "data": {
            "text/plain": [
              "            Timestamp เพศของผู้ตอบแบบสอบถาม ช่วงอายุของผู้ตอบแบบสอบถาม  \\\n",
              "0  1/13/2024 14:30:33                   ชาย                   26-30 ปี   \n",
              "1  1/13/2024 14:41:25                  หญิง                   21-25 ปี   \n",
              "2  1/13/2024 15:01:08                   ชาย                   26-30 ปี   \n",
              "3  1/13/2024 15:01:44                   ชาย                   31-35 ปี   \n",
              "4  1/13/2024 15:01:48                   ชาย                   21-25 ปี   \n",
              "\n",
              "  อาชีพของผู้ตอบแบบสอบถาม ช่วงเงินเดือนของผู้ตอบแบบสอบถาม  \\\n",
              "0                   เอกชน               30,001-40,000 บาท   \n",
              "1                   เอกชน               40,001-50,000 บาท   \n",
              "2                   เอกชน               30,001-40,000 บาท   \n",
              "3                   เอกชน               40,001-50,000 บาท   \n",
              "4                   เอกชน               30,001-40,000 บาท   \n",
              "\n",
              "  ปัจจุบันท่านใช้สมาร์ทโฟนระบบปฎิบัติการใด  \\\n",
              "0                          IOS และ Andriod   \n",
              "1                                      IOS   \n",
              "2                                      IOS   \n",
              "3                                      IOS   \n",
              "4                                      IOS   \n",
              "\n",
              "  ท่านใช้สมาร์ทโฟนในการทำอะไรมากที่สุด [เล่นเกม]  \\\n",
              "0                                     น้อยที่สุด   \n",
              "1                                      บ่อยครั้ง   \n",
              "2                                   ค่อนข้างน้อย   \n",
              "3                                     น้อยที่สุด   \n",
              "4                                     น้อยที่สุด   \n",
              "\n",
              "  ท่านใช้สมาร์ทโฟนในการทำอะไรมากที่สุด [เล่นโซเชี่ยลมีเดีย]  \\\n",
              "0                                            ปานกลาง          \n",
              "1                                         บ่อยที่สุด          \n",
              "2                                         บ่อยที่สุด          \n",
              "3                                            ปานกลาง          \n",
              "4                                            ปานกลาง          \n",
              "\n",
              "  ท่านใช้สมาร์ทโฟนในการทำอะไรมากที่สุด [ดูหนัง ฟังเพลง]  \\\n",
              "0                                       ค่อนข้างน้อย      \n",
              "1                                            ปานกลาง      \n",
              "2                                            ปานกลาง      \n",
              "3                                            ปานกลาง      \n",
              "4                                            ปานกลาง      \n",
              "\n",
              "  ท่านใช้สมาร์ทโฟนในการทำอะไรมากที่สุด [ถ่ายรูป ถ่ายวิดีโอ]  \\\n",
              "0                                       ค่อนข้างน้อย          \n",
              "1                                       ค่อนข้างน้อย          \n",
              "2                                            ปานกลาง          \n",
              "3                                         น้อยที่สุด          \n",
              "4                                         น้อยที่สุด          \n",
              "\n",
              "  หากท่านซื้อสมาร์ทโฟนเครื่องใหม่ จะใช้เลือกซื้อสมาร์ทโฟนแบรนด์ใด  \\\n",
              "0                                             Iphone                \n",
              "1                                             Iphone                \n",
              "2                                             Iphone                \n",
              "3                                             Iphone                \n",
              "4                                             Iphone                \n",
              "\n",
              "  จากข้อที่แล้ว เนื่องจากสาเหตุใด  \n",
              "0    apple ecosystem ทั้งบ้านแล้ว  \n",
              "1                       ดูรวยดีย์  \n",
              "2                      ความเสถียร  \n",
              "3           คุ้นเคยกับ Brand เดิม  \n",
              "4                ง่ายต่อการใช้งาน  "
            ],
            "text/html": [
              "\n",
              "  <div id=\"df-a3414f75-3530-41e4-8e95-464b00d480b9\" class=\"colab-df-container\">\n",
              "    <div>\n",
              "<style scoped>\n",
              "    .dataframe tbody tr th:only-of-type {\n",
              "        vertical-align: middle;\n",
              "    }\n",
              "\n",
              "    .dataframe tbody tr th {\n",
              "        vertical-align: top;\n",
              "    }\n",
              "\n",
              "    .dataframe thead th {\n",
              "        text-align: right;\n",
              "    }\n",
              "</style>\n",
              "<table border=\"1\" class=\"dataframe\">\n",
              "  <thead>\n",
              "    <tr style=\"text-align: right;\">\n",
              "      <th></th>\n",
              "      <th>Timestamp</th>\n",
              "      <th>เพศของผู้ตอบแบบสอบถาม</th>\n",
              "      <th>ช่วงอายุของผู้ตอบแบบสอบถาม</th>\n",
              "      <th>อาชีพของผู้ตอบแบบสอบถาม</th>\n",
              "      <th>ช่วงเงินเดือนของผู้ตอบแบบสอบถาม</th>\n",
              "      <th>ปัจจุบันท่านใช้สมาร์ทโฟนระบบปฎิบัติการใด</th>\n",
              "      <th>ท่านใช้สมาร์ทโฟนในการทำอะไรมากที่สุด [เล่นเกม]</th>\n",
              "      <th>ท่านใช้สมาร์ทโฟนในการทำอะไรมากที่สุด [เล่นโซเชี่ยลมีเดีย]</th>\n",
              "      <th>ท่านใช้สมาร์ทโฟนในการทำอะไรมากที่สุด [ดูหนัง ฟังเพลง]</th>\n",
              "      <th>ท่านใช้สมาร์ทโฟนในการทำอะไรมากที่สุด [ถ่ายรูป ถ่ายวิดีโอ]</th>\n",
              "      <th>หากท่านซื้อสมาร์ทโฟนเครื่องใหม่ จะใช้เลือกซื้อสมาร์ทโฟนแบรนด์ใด</th>\n",
              "      <th>จากข้อที่แล้ว เนื่องจากสาเหตุใด</th>\n",
              "    </tr>\n",
              "  </thead>\n",
              "  <tbody>\n",
              "    <tr>\n",
              "      <th>0</th>\n",
              "      <td>1/13/2024 14:30:33</td>\n",
              "      <td>ชาย</td>\n",
              "      <td>26-30 ปี</td>\n",
              "      <td>เอกชน</td>\n",
              "      <td>30,001-40,000 บาท</td>\n",
              "      <td>IOS และ Andriod</td>\n",
              "      <td>น้อยที่สุด</td>\n",
              "      <td>ปานกลาง</td>\n",
              "      <td>ค่อนข้างน้อย</td>\n",
              "      <td>ค่อนข้างน้อย</td>\n",
              "      <td>Iphone</td>\n",
              "      <td>apple ecosystem ทั้งบ้านแล้ว</td>\n",
              "    </tr>\n",
              "    <tr>\n",
              "      <th>1</th>\n",
              "      <td>1/13/2024 14:41:25</td>\n",
              "      <td>หญิง</td>\n",
              "      <td>21-25 ปี</td>\n",
              "      <td>เอกชน</td>\n",
              "      <td>40,001-50,000 บาท</td>\n",
              "      <td>IOS</td>\n",
              "      <td>บ่อยครั้ง</td>\n",
              "      <td>บ่อยที่สุด</td>\n",
              "      <td>ปานกลาง</td>\n",
              "      <td>ค่อนข้างน้อย</td>\n",
              "      <td>Iphone</td>\n",
              "      <td>ดูรวยดีย์</td>\n",
              "    </tr>\n",
              "    <tr>\n",
              "      <th>2</th>\n",
              "      <td>1/13/2024 15:01:08</td>\n",
              "      <td>ชาย</td>\n",
              "      <td>26-30 ปี</td>\n",
              "      <td>เอกชน</td>\n",
              "      <td>30,001-40,000 บาท</td>\n",
              "      <td>IOS</td>\n",
              "      <td>ค่อนข้างน้อย</td>\n",
              "      <td>บ่อยที่สุด</td>\n",
              "      <td>ปานกลาง</td>\n",
              "      <td>ปานกลาง</td>\n",
              "      <td>Iphone</td>\n",
              "      <td>ความเสถียร</td>\n",
              "    </tr>\n",
              "    <tr>\n",
              "      <th>3</th>\n",
              "      <td>1/13/2024 15:01:44</td>\n",
              "      <td>ชาย</td>\n",
              "      <td>31-35 ปี</td>\n",
              "      <td>เอกชน</td>\n",
              "      <td>40,001-50,000 บาท</td>\n",
              "      <td>IOS</td>\n",
              "      <td>น้อยที่สุด</td>\n",
              "      <td>ปานกลาง</td>\n",
              "      <td>ปานกลาง</td>\n",
              "      <td>น้อยที่สุด</td>\n",
              "      <td>Iphone</td>\n",
              "      <td>คุ้นเคยกับ Brand เดิม</td>\n",
              "    </tr>\n",
              "    <tr>\n",
              "      <th>4</th>\n",
              "      <td>1/13/2024 15:01:48</td>\n",
              "      <td>ชาย</td>\n",
              "      <td>21-25 ปี</td>\n",
              "      <td>เอกชน</td>\n",
              "      <td>30,001-40,000 บาท</td>\n",
              "      <td>IOS</td>\n",
              "      <td>น้อยที่สุด</td>\n",
              "      <td>ปานกลาง</td>\n",
              "      <td>ปานกลาง</td>\n",
              "      <td>น้อยที่สุด</td>\n",
              "      <td>Iphone</td>\n",
              "      <td>ง่ายต่อการใช้งาน</td>\n",
              "    </tr>\n",
              "  </tbody>\n",
              "</table>\n",
              "</div>\n",
              "    <div class=\"colab-df-buttons\">\n",
              "\n",
              "  <div class=\"colab-df-container\">\n",
              "    <button class=\"colab-df-convert\" onclick=\"convertToInteractive('df-a3414f75-3530-41e4-8e95-464b00d480b9')\"\n",
              "            title=\"Convert this dataframe to an interactive table.\"\n",
              "            style=\"display:none;\">\n",
              "\n",
              "  <svg xmlns=\"http://www.w3.org/2000/svg\" height=\"24px\" viewBox=\"0 -960 960 960\">\n",
              "    <path d=\"M120-120v-720h720v720H120Zm60-500h600v-160H180v160Zm220 220h160v-160H400v160Zm0 220h160v-160H400v160ZM180-400h160v-160H180v160Zm440 0h160v-160H620v160ZM180-180h160v-160H180v160Zm440 0h160v-160H620v160Z\"/>\n",
              "  </svg>\n",
              "    </button>\n",
              "\n",
              "  <style>\n",
              "    .colab-df-container {\n",
              "      display:flex;\n",
              "      gap: 12px;\n",
              "    }\n",
              "\n",
              "    .colab-df-convert {\n",
              "      background-color: #E8F0FE;\n",
              "      border: none;\n",
              "      border-radius: 50%;\n",
              "      cursor: pointer;\n",
              "      display: none;\n",
              "      fill: #1967D2;\n",
              "      height: 32px;\n",
              "      padding: 0 0 0 0;\n",
              "      width: 32px;\n",
              "    }\n",
              "\n",
              "    .colab-df-convert:hover {\n",
              "      background-color: #E2EBFA;\n",
              "      box-shadow: 0px 1px 2px rgba(60, 64, 67, 0.3), 0px 1px 3px 1px rgba(60, 64, 67, 0.15);\n",
              "      fill: #174EA6;\n",
              "    }\n",
              "\n",
              "    .colab-df-buttons div {\n",
              "      margin-bottom: 4px;\n",
              "    }\n",
              "\n",
              "    [theme=dark] .colab-df-convert {\n",
              "      background-color: #3B4455;\n",
              "      fill: #D2E3FC;\n",
              "    }\n",
              "\n",
              "    [theme=dark] .colab-df-convert:hover {\n",
              "      background-color: #434B5C;\n",
              "      box-shadow: 0px 1px 3px 1px rgba(0, 0, 0, 0.15);\n",
              "      filter: drop-shadow(0px 1px 2px rgba(0, 0, 0, 0.3));\n",
              "      fill: #FFFFFF;\n",
              "    }\n",
              "  </style>\n",
              "\n",
              "    <script>\n",
              "      const buttonEl =\n",
              "        document.querySelector('#df-a3414f75-3530-41e4-8e95-464b00d480b9 button.colab-df-convert');\n",
              "      buttonEl.style.display =\n",
              "        google.colab.kernel.accessAllowed ? 'block' : 'none';\n",
              "\n",
              "      async function convertToInteractive(key) {\n",
              "        const element = document.querySelector('#df-a3414f75-3530-41e4-8e95-464b00d480b9');\n",
              "        const dataTable =\n",
              "          await google.colab.kernel.invokeFunction('convertToInteractive',\n",
              "                                                    [key], {});\n",
              "        if (!dataTable) return;\n",
              "\n",
              "        const docLinkHtml = 'Like what you see? Visit the ' +\n",
              "          '<a target=\"_blank\" href=https://colab.research.google.com/notebooks/data_table.ipynb>data table notebook</a>'\n",
              "          + ' to learn more about interactive tables.';\n",
              "        element.innerHTML = '';\n",
              "        dataTable['output_type'] = 'display_data';\n",
              "        await google.colab.output.renderOutput(dataTable, element);\n",
              "        const docLink = document.createElement('div');\n",
              "        docLink.innerHTML = docLinkHtml;\n",
              "        element.appendChild(docLink);\n",
              "      }\n",
              "    </script>\n",
              "  </div>\n",
              "\n",
              "\n",
              "<div id=\"df-3251f9b2-2af6-4b4b-999b-4f7965fed178\">\n",
              "  <button class=\"colab-df-quickchart\" onclick=\"quickchart('df-3251f9b2-2af6-4b4b-999b-4f7965fed178')\"\n",
              "            title=\"Suggest charts\"\n",
              "            style=\"display:none;\">\n",
              "\n",
              "<svg xmlns=\"http://www.w3.org/2000/svg\" height=\"24px\"viewBox=\"0 0 24 24\"\n",
              "     width=\"24px\">\n",
              "    <g>\n",
              "        <path d=\"M19 3H5c-1.1 0-2 .9-2 2v14c0 1.1.9 2 2 2h14c1.1 0 2-.9 2-2V5c0-1.1-.9-2-2-2zM9 17H7v-7h2v7zm4 0h-2V7h2v10zm4 0h-2v-4h2v4z\"/>\n",
              "    </g>\n",
              "</svg>\n",
              "  </button>\n",
              "\n",
              "<style>\n",
              "  .colab-df-quickchart {\n",
              "      --bg-color: #E8F0FE;\n",
              "      --fill-color: #1967D2;\n",
              "      --hover-bg-color: #E2EBFA;\n",
              "      --hover-fill-color: #174EA6;\n",
              "      --disabled-fill-color: #AAA;\n",
              "      --disabled-bg-color: #DDD;\n",
              "  }\n",
              "\n",
              "  [theme=dark] .colab-df-quickchart {\n",
              "      --bg-color: #3B4455;\n",
              "      --fill-color: #D2E3FC;\n",
              "      --hover-bg-color: #434B5C;\n",
              "      --hover-fill-color: #FFFFFF;\n",
              "      --disabled-bg-color: #3B4455;\n",
              "      --disabled-fill-color: #666;\n",
              "  }\n",
              "\n",
              "  .colab-df-quickchart {\n",
              "    background-color: var(--bg-color);\n",
              "    border: none;\n",
              "    border-radius: 50%;\n",
              "    cursor: pointer;\n",
              "    display: none;\n",
              "    fill: var(--fill-color);\n",
              "    height: 32px;\n",
              "    padding: 0;\n",
              "    width: 32px;\n",
              "  }\n",
              "\n",
              "  .colab-df-quickchart:hover {\n",
              "    background-color: var(--hover-bg-color);\n",
              "    box-shadow: 0 1px 2px rgba(60, 64, 67, 0.3), 0 1px 3px 1px rgba(60, 64, 67, 0.15);\n",
              "    fill: var(--button-hover-fill-color);\n",
              "  }\n",
              "\n",
              "  .colab-df-quickchart-complete:disabled,\n",
              "  .colab-df-quickchart-complete:disabled:hover {\n",
              "    background-color: var(--disabled-bg-color);\n",
              "    fill: var(--disabled-fill-color);\n",
              "    box-shadow: none;\n",
              "  }\n",
              "\n",
              "  .colab-df-spinner {\n",
              "    border: 2px solid var(--fill-color);\n",
              "    border-color: transparent;\n",
              "    border-bottom-color: var(--fill-color);\n",
              "    animation:\n",
              "      spin 1s steps(1) infinite;\n",
              "  }\n",
              "\n",
              "  @keyframes spin {\n",
              "    0% {\n",
              "      border-color: transparent;\n",
              "      border-bottom-color: var(--fill-color);\n",
              "      border-left-color: var(--fill-color);\n",
              "    }\n",
              "    20% {\n",
              "      border-color: transparent;\n",
              "      border-left-color: var(--fill-color);\n",
              "      border-top-color: var(--fill-color);\n",
              "    }\n",
              "    30% {\n",
              "      border-color: transparent;\n",
              "      border-left-color: var(--fill-color);\n",
              "      border-top-color: var(--fill-color);\n",
              "      border-right-color: var(--fill-color);\n",
              "    }\n",
              "    40% {\n",
              "      border-color: transparent;\n",
              "      border-right-color: var(--fill-color);\n",
              "      border-top-color: var(--fill-color);\n",
              "    }\n",
              "    60% {\n",
              "      border-color: transparent;\n",
              "      border-right-color: var(--fill-color);\n",
              "    }\n",
              "    80% {\n",
              "      border-color: transparent;\n",
              "      border-right-color: var(--fill-color);\n",
              "      border-bottom-color: var(--fill-color);\n",
              "    }\n",
              "    90% {\n",
              "      border-color: transparent;\n",
              "      border-bottom-color: var(--fill-color);\n",
              "    }\n",
              "  }\n",
              "</style>\n",
              "\n",
              "  <script>\n",
              "    async function quickchart(key) {\n",
              "      const quickchartButtonEl =\n",
              "        document.querySelector('#' + key + ' button');\n",
              "      quickchartButtonEl.disabled = true;  // To prevent multiple clicks.\n",
              "      quickchartButtonEl.classList.add('colab-df-spinner');\n",
              "      try {\n",
              "        const charts = await google.colab.kernel.invokeFunction(\n",
              "            'suggestCharts', [key], {});\n",
              "      } catch (error) {\n",
              "        console.error('Error during call to suggestCharts:', error);\n",
              "      }\n",
              "      quickchartButtonEl.classList.remove('colab-df-spinner');\n",
              "      quickchartButtonEl.classList.add('colab-df-quickchart-complete');\n",
              "    }\n",
              "    (() => {\n",
              "      let quickchartButtonEl =\n",
              "        document.querySelector('#df-3251f9b2-2af6-4b4b-999b-4f7965fed178 button');\n",
              "      quickchartButtonEl.style.display =\n",
              "        google.colab.kernel.accessAllowed ? 'block' : 'none';\n",
              "    })();\n",
              "  </script>\n",
              "</div>\n",
              "\n",
              "    </div>\n",
              "  </div>\n"
            ],
            "application/vnd.google.colaboratory.intrinsic+json": {
              "type": "dataframe",
              "variable_name": "df",
              "summary": "{\n  \"name\": \"df\",\n  \"rows\": 75,\n  \"fields\": [\n    {\n      \"column\": \"Timestamp\",\n      \"properties\": {\n        \"dtype\": \"object\",\n        \"num_unique_values\": 72,\n        \"samples\": [\n          \"1/13/2024 15:01:48\",\n          \"8/17/2024 15:05:18\",\n          \"1/13/2024 15:02:26\"\n        ],\n        \"semantic_type\": \"\",\n        \"description\": \"\"\n      }\n    },\n    {\n      \"column\": \"\\u0e40\\u0e1e\\u0e28\\u0e02\\u0e2d\\u0e07\\u0e1c\\u0e39\\u0e49\\u0e15\\u0e2d\\u0e1a\\u0e41\\u0e1a\\u0e1a\\u0e2a\\u0e2d\\u0e1a\\u0e16\\u0e32\\u0e21\",\n      \"properties\": {\n        \"dtype\": \"category\",\n        \"num_unique_values\": 3,\n        \"samples\": [\n          \"\\u0e0a\\u0e32\\u0e22\",\n          \"\\u0e2b\\u0e0d\\u0e34\\u0e07\",\n          \"-\"\n        ],\n        \"semantic_type\": \"\",\n        \"description\": \"\"\n      }\n    },\n    {\n      \"column\": \"\\u0e0a\\u0e48\\u0e27\\u0e07\\u0e2d\\u0e32\\u0e22\\u0e38\\u0e02\\u0e2d\\u0e07\\u0e1c\\u0e39\\u0e49\\u0e15\\u0e2d\\u0e1a\\u0e41\\u0e1a\\u0e1a\\u0e2a\\u0e2d\\u0e1a\\u0e16\\u0e32\\u0e21\",\n      \"properties\": {\n        \"dtype\": \"category\",\n        \"num_unique_values\": 4,\n        \"samples\": [\n          \"21-25 \\u0e1b\\u0e35\",\n          \"36-40 \\u0e1b\\u0e35\",\n          \"26-30 \\u0e1b\\u0e35\"\n        ],\n        \"semantic_type\": \"\",\n        \"description\": \"\"\n      }\n    },\n    {\n      \"column\": \"\\u0e2d\\u0e32\\u0e0a\\u0e35\\u0e1e\\u0e02\\u0e2d\\u0e07\\u0e1c\\u0e39\\u0e49\\u0e15\\u0e2d\\u0e1a\\u0e41\\u0e1a\\u0e1a\\u0e2a\\u0e2d\\u0e1a\\u0e16\\u0e32\\u0e21\",\n      \"properties\": {\n        \"dtype\": \"category\",\n        \"num_unique_values\": 8,\n        \"samples\": [\n          \"\\u0e27\\u0e48\\u0e32\\u0e07\\u0e07\\u0e32\\u0e19\",\n          \".\",\n          \"\\u0e40\\u0e2d\\u0e01\\u0e0a\\u0e19\"\n        ],\n        \"semantic_type\": \"\",\n        \"description\": \"\"\n      }\n    },\n    {\n      \"column\": \"\\u0e0a\\u0e48\\u0e27\\u0e07\\u0e40\\u0e07\\u0e34\\u0e19\\u0e40\\u0e14\\u0e37\\u0e2d\\u0e19\\u0e02\\u0e2d\\u0e07\\u0e1c\\u0e39\\u0e49\\u0e15\\u0e2d\\u0e1a\\u0e41\\u0e1a\\u0e1a\\u0e2a\\u0e2d\\u0e1a\\u0e16\\u0e32\\u0e21\",\n      \"properties\": {\n        \"dtype\": \"category\",\n        \"num_unique_values\": 6,\n        \"samples\": [\n          \"30,001-40,000 \\u0e1a\\u0e32\\u0e17\",\n          \"40,001-50,000 \\u0e1a\\u0e32\\u0e17\",\n          \"50,001-60,000 \\u0e1a\\u0e32\\u0e17\"\n        ],\n        \"semantic_type\": \"\",\n        \"description\": \"\"\n      }\n    },\n    {\n      \"column\": \"\\u0e1b\\u0e31\\u0e08\\u0e08\\u0e38\\u0e1a\\u0e31\\u0e19\\u0e17\\u0e48\\u0e32\\u0e19\\u0e43\\u0e0a\\u0e49\\u0e2a\\u0e21\\u0e32\\u0e23\\u0e4c\\u0e17\\u0e42\\u0e1f\\u0e19\\u0e23\\u0e30\\u0e1a\\u0e1a\\u0e1b\\u0e0e\\u0e34\\u0e1a\\u0e31\\u0e15\\u0e34\\u0e01\\u0e32\\u0e23\\u0e43\\u0e14\",\n      \"properties\": {\n        \"dtype\": \"category\",\n        \"num_unique_values\": 3,\n        \"samples\": [\n          \"IOS \\u0e41\\u0e25\\u0e30 Andriod\",\n          \"IOS\",\n          \"Android\"\n        ],\n        \"semantic_type\": \"\",\n        \"description\": \"\"\n      }\n    },\n    {\n      \"column\": \"\\u0e17\\u0e48\\u0e32\\u0e19\\u0e43\\u0e0a\\u0e49\\u0e2a\\u0e21\\u0e32\\u0e23\\u0e4c\\u0e17\\u0e42\\u0e1f\\u0e19\\u0e43\\u0e19\\u0e01\\u0e32\\u0e23\\u0e17\\u0e33\\u0e2d\\u0e30\\u0e44\\u0e23\\u0e21\\u0e32\\u0e01\\u0e17\\u0e35\\u0e48\\u0e2a\\u0e38\\u0e14 [\\u0e40\\u0e25\\u0e48\\u0e19\\u0e40\\u0e01\\u0e21]\",\n      \"properties\": {\n        \"dtype\": \"category\",\n        \"num_unique_values\": 5,\n        \"samples\": [\n          \"\\u0e1a\\u0e48\\u0e2d\\u0e22\\u0e04\\u0e23\\u0e31\\u0e49\\u0e07\",\n          \"\\u0e1a\\u0e48\\u0e2d\\u0e22\\u0e17\\u0e35\\u0e48\\u0e2a\\u0e38\\u0e14\",\n          \"\\u0e04\\u0e48\\u0e2d\\u0e19\\u0e02\\u0e49\\u0e32\\u0e07\\u0e19\\u0e49\\u0e2d\\u0e22\"\n        ],\n        \"semantic_type\": \"\",\n        \"description\": \"\"\n      }\n    },\n    {\n      \"column\": \"\\u0e17\\u0e48\\u0e32\\u0e19\\u0e43\\u0e0a\\u0e49\\u0e2a\\u0e21\\u0e32\\u0e23\\u0e4c\\u0e17\\u0e42\\u0e1f\\u0e19\\u0e43\\u0e19\\u0e01\\u0e32\\u0e23\\u0e17\\u0e33\\u0e2d\\u0e30\\u0e44\\u0e23\\u0e21\\u0e32\\u0e01\\u0e17\\u0e35\\u0e48\\u0e2a\\u0e38\\u0e14 [\\u0e40\\u0e25\\u0e48\\u0e19\\u0e42\\u0e0b\\u0e40\\u0e0a\\u0e35\\u0e48\\u0e22\\u0e25\\u0e21\\u0e35\\u0e40\\u0e14\\u0e35\\u0e22]\",\n      \"properties\": {\n        \"dtype\": \"category\",\n        \"num_unique_values\": 5,\n        \"samples\": [\n          \"\\u0e1a\\u0e48\\u0e2d\\u0e22\\u0e17\\u0e35\\u0e48\\u0e2a\\u0e38\\u0e14\",\n          \"\\u0e19\\u0e49\\u0e2d\\u0e22\\u0e17\\u0e35\\u0e48\\u0e2a\\u0e38\\u0e14\",\n          \"\\u0e1a\\u0e48\\u0e2d\\u0e22\\u0e04\\u0e23\\u0e31\\u0e49\\u0e07\"\n        ],\n        \"semantic_type\": \"\",\n        \"description\": \"\"\n      }\n    },\n    {\n      \"column\": \"\\u0e17\\u0e48\\u0e32\\u0e19\\u0e43\\u0e0a\\u0e49\\u0e2a\\u0e21\\u0e32\\u0e23\\u0e4c\\u0e17\\u0e42\\u0e1f\\u0e19\\u0e43\\u0e19\\u0e01\\u0e32\\u0e23\\u0e17\\u0e33\\u0e2d\\u0e30\\u0e44\\u0e23\\u0e21\\u0e32\\u0e01\\u0e17\\u0e35\\u0e48\\u0e2a\\u0e38\\u0e14 [\\u0e14\\u0e39\\u0e2b\\u0e19\\u0e31\\u0e07 \\u0e1f\\u0e31\\u0e07\\u0e40\\u0e1e\\u0e25\\u0e07]\",\n      \"properties\": {\n        \"dtype\": \"category\",\n        \"num_unique_values\": 5,\n        \"samples\": [\n          \"\\u0e1b\\u0e32\\u0e19\\u0e01\\u0e25\\u0e32\\u0e07\",\n          \"\\u0e19\\u0e49\\u0e2d\\u0e22\\u0e17\\u0e35\\u0e48\\u0e2a\\u0e38\\u0e14\",\n          \"\\u0e1a\\u0e48\\u0e2d\\u0e22\\u0e17\\u0e35\\u0e48\\u0e2a\\u0e38\\u0e14\"\n        ],\n        \"semantic_type\": \"\",\n        \"description\": \"\"\n      }\n    },\n    {\n      \"column\": \"\\u0e17\\u0e48\\u0e32\\u0e19\\u0e43\\u0e0a\\u0e49\\u0e2a\\u0e21\\u0e32\\u0e23\\u0e4c\\u0e17\\u0e42\\u0e1f\\u0e19\\u0e43\\u0e19\\u0e01\\u0e32\\u0e23\\u0e17\\u0e33\\u0e2d\\u0e30\\u0e44\\u0e23\\u0e21\\u0e32\\u0e01\\u0e17\\u0e35\\u0e48\\u0e2a\\u0e38\\u0e14 [\\u0e16\\u0e48\\u0e32\\u0e22\\u0e23\\u0e39\\u0e1b \\u0e16\\u0e48\\u0e32\\u0e22\\u0e27\\u0e34\\u0e14\\u0e35\\u0e42\\u0e2d]\",\n      \"properties\": {\n        \"dtype\": \"category\",\n        \"num_unique_values\": 5,\n        \"samples\": [\n          \"\\u0e1b\\u0e32\\u0e19\\u0e01\\u0e25\\u0e32\\u0e07\",\n          \"\\u0e1a\\u0e48\\u0e2d\\u0e22\\u0e17\\u0e35\\u0e48\\u0e2a\\u0e38\\u0e14\",\n          \"\\u0e19\\u0e49\\u0e2d\\u0e22\\u0e17\\u0e35\\u0e48\\u0e2a\\u0e38\\u0e14\"\n        ],\n        \"semantic_type\": \"\",\n        \"description\": \"\"\n      }\n    },\n    {\n      \"column\": \"\\u0e2b\\u0e32\\u0e01\\u0e17\\u0e48\\u0e32\\u0e19\\u0e0b\\u0e37\\u0e49\\u0e2d\\u0e2a\\u0e21\\u0e32\\u0e23\\u0e4c\\u0e17\\u0e42\\u0e1f\\u0e19\\u0e40\\u0e04\\u0e23\\u0e37\\u0e48\\u0e2d\\u0e07\\u0e43\\u0e2b\\u0e21\\u0e48 \\u0e08\\u0e30\\u0e43\\u0e0a\\u0e49\\u0e40\\u0e25\\u0e37\\u0e2d\\u0e01\\u0e0b\\u0e37\\u0e49\\u0e2d\\u0e2a\\u0e21\\u0e32\\u0e23\\u0e4c\\u0e17\\u0e42\\u0e1f\\u0e19\\u0e41\\u0e1a\\u0e23\\u0e19\\u0e14\\u0e4c\\u0e43\\u0e14\",\n      \"properties\": {\n        \"dtype\": \"category\",\n        \"num_unique_values\": 7,\n        \"samples\": [\n          \"Iphone\",\n          \"Samsung\",\n          \"\\u0e22\\u0e31\\u0e07\\u0e44\\u0e21\\u0e48\\u0e23\\u0e39\\u0e49\"\n        ],\n        \"semantic_type\": \"\",\n        \"description\": \"\"\n      }\n    },\n    {\n      \"column\": \"\\u0e08\\u0e32\\u0e01\\u0e02\\u0e49\\u0e2d\\u0e17\\u0e35\\u0e48\\u0e41\\u0e25\\u0e49\\u0e27 \\u0e40\\u0e19\\u0e37\\u0e48\\u0e2d\\u0e07\\u0e08\\u0e32\\u0e01\\u0e2a\\u0e32\\u0e40\\u0e2b\\u0e15\\u0e38\\u0e43\\u0e14\",\n      \"properties\": {\n        \"dtype\": \"string\",\n        \"num_unique_values\": 73,\n        \"samples\": [\n          \"\\u0e07\\u0e48\\u0e32\\u0e22\\u0e15\\u0e48\\u0e2d\\u0e01\\u0e32\\u0e23\\u0e43\\u0e0a\\u0e49\\u0e07\\u0e32\\u0e19\",\n          \"Stable Operating System\",\n          \"\\u0e15\\u0e49\\u0e2d\\u0e07\\u0e01\\u0e32\\u0e23\\u0e40\\u0e1b\\u0e25\\u0e35\\u0e48\\u0e22\\u0e19\\u0e22\\u0e35\\u0e48\\u0e2b\\u0e49\\u0e2d\"\n        ],\n        \"semantic_type\": \"\",\n        \"description\": \"\"\n      }\n    }\n  ]\n}"
            }
          },
          "metadata": {},
          "execution_count": 62
        }
      ]
    },
    {
      "cell_type": "markdown",
      "source": [
        "### 1.2 Clean data"
      ],
      "metadata": {
        "id": "UrXDjlRJNYbQ"
      }
    },
    {
      "cell_type": "markdown",
      "source": [
        "- เปลี่ยนชื่อ Features (คอลัมน์)"
      ],
      "metadata": {
        "id": "hclylQ6qLdQG"
      }
    },
    {
      "cell_type": "code",
      "source": [
        "df.columns = ['time', 'gender', 'age', 'job', 'salary' ,'os', 'game', 'social_media', 'movies_song', 'photo_video', 'new_brand', 'by_reason']"
      ],
      "metadata": {
        "id": "s5gUT4ZS1GYR"
      },
      "execution_count": 63,
      "outputs": []
    },
    {
      "cell_type": "markdown",
      "source": [
        "- ลบ Features (คอลัมน์) ที่ไม่ใช้และ Row ที่มีค่าว่าง"
      ],
      "metadata": {
        "id": "qxvH8S0HLh4u"
      }
    },
    {
      "cell_type": "code",
      "source": [
        "df = df.drop(columns=['time', 'by_reason'])\n",
        "df = df.dropna()\n",
        "df = df[(df['gender'] != '-') & (df['job'] != '.') & ((df['os'] != 'IOS และ Andriod'))]\n",
        "df.info()"
      ],
      "metadata": {
        "id": "EeatUmU3KiLM",
        "colab": {
          "base_uri": "https://localhost:8080/"
        },
        "outputId": "7e013be8-1949-41e6-badb-3c7f19035310"
      },
      "execution_count": 64,
      "outputs": [
        {
          "output_type": "stream",
          "name": "stdout",
          "text": [
            "<class 'pandas.core.frame.DataFrame'>\n",
            "Index: 69 entries, 1 to 74\n",
            "Data columns (total 10 columns):\n",
            " #   Column        Non-Null Count  Dtype \n",
            "---  ------        --------------  ----- \n",
            " 0   gender        69 non-null     object\n",
            " 1   age           69 non-null     object\n",
            " 2   job           69 non-null     object\n",
            " 3   salary        69 non-null     object\n",
            " 4   os            69 non-null     object\n",
            " 5   game          69 non-null     object\n",
            " 6   social_media  69 non-null     object\n",
            " 7   movies_song   69 non-null     object\n",
            " 8   photo_video   69 non-null     object\n",
            " 9   new_brand     69 non-null     object\n",
            "dtypes: object(10)\n",
            "memory usage: 5.9+ KB\n"
          ]
        }
      ]
    },
    {
      "cell_type": "markdown",
      "source": [
        "### 1.3 Define target feature and transform datatype"
      ],
      "metadata": {
        "id": "iZQRNaLPNjho"
      }
    },
    {
      "cell_type": "markdown",
      "source": [
        "-  กำหนดให้ คอลัมน์ target ชื่อ 'os' (ปัจจุบันท่านใช้สมาร์ทโฟนระบบปฎิบัติการใด) และแปลง datatype เป็น numeric"
      ],
      "metadata": {
        "id": "y7BlaIHX2LRO"
      }
    },
    {
      "cell_type": "code",
      "source": [
        "# (1) เลือก target variable\n",
        "target = 'os'\n",
        "\n",
        "# (2) แปลง categorical variables เป็น numeric\n",
        "df_encoded = pd.get_dummies(df.drop(columns=[target]), drop_first=True)\n",
        "\n",
        "# (3) แปลง target variable เป็น numeric ด้วย LabelEncoder\n",
        "le = LabelEncoder()\n",
        "y = le.fit_transform(df[target])\n",
        "print(f\"Target variable (OS): \\n -> {y}\")\n",
        "\n",
        "# (4) เลือก features\n",
        "X = df_encoded.astype(int)\n",
        "print(\"\\nFeatures: \\n ->\")\n",
        "X"
      ],
      "metadata": {
        "id": "mhP144UZMrME",
        "colab": {
          "base_uri": "https://localhost:8080/",
          "height": 565
        },
        "outputId": "6103d717-ffa5-4939-bd18-96c99437cba8"
      },
      "execution_count": 65,
      "outputs": [
        {
          "output_type": "stream",
          "name": "stdout",
          "text": [
            "Target variable (OS): \n",
            " -> [1 1 1 1 1 1 1 1 0 1 1 1 1 1 1 1 1 1 1 1 1 0 1 0 0 0 1 1 1 0 1 1 1 1 1 0 1\n",
            " 1 1 0 1 1 1 0 1 1 1 1 0 1 0 1 1 1 1 1 1 1 1 1 1 1 1 1 0 1 0 1 0]\n",
            "\n",
            "Features: \n",
            " ->\n"
          ]
        },
        {
          "output_type": "execute_result",
          "data": {
            "text/plain": [
              "    gender_หญิง  age_26-30 ปี  age_31-35 ปี  age_36-40 ปี  job_ข้าราชการ  \\\n",
              "1             1             0             0             0              0   \n",
              "2             0             1             0             0              0   \n",
              "3             0             0             1             0              0   \n",
              "4             0             0             0             0              0   \n",
              "5             0             0             0             0              0   \n",
              "..          ...           ...           ...           ...            ...   \n",
              "70            1             1             0             0              0   \n",
              "71            0             0             1             0              0   \n",
              "72            1             0             0             0              0   \n",
              "73            0             1             0             0              0   \n",
              "74            0             0             1             0              1   \n",
              "\n",
              "    job_นักศึกษา  job_รัฐวิสาหกิจ  job_ว่างงาน  job_เอกชน  \\\n",
              "1              0                0            0          1   \n",
              "2              0                0            0          1   \n",
              "3              0                0            0          1   \n",
              "4              0                0            0          1   \n",
              "5              0                0            1          0   \n",
              "..           ...              ...          ...        ...   \n",
              "70             0                0            0          1   \n",
              "71             0                0            0          1   \n",
              "72             1                0            0          0   \n",
              "73             0                0            0          1   \n",
              "74             0                0            0          0   \n",
              "\n",
              "    salary_30,001-40,000 บาท  ...  photo_video_น้อยที่สุด  \\\n",
              "1                          0  ...                       0   \n",
              "2                          1  ...                       0   \n",
              "3                          0  ...                       1   \n",
              "4                          1  ...                       1   \n",
              "5                          0  ...                       0   \n",
              "..                       ...  ...                     ...   \n",
              "70                         1  ...                       0   \n",
              "71                         0  ...                       0   \n",
              "72                         0  ...                       0   \n",
              "73                         0  ...                       0   \n",
              "74                         0  ...                       0   \n",
              "\n",
              "    photo_video_บ่อยครั้ง  photo_video_บ่อยที่สุด  photo_video_ปานกลาง  \\\n",
              "1                       0                       0                    0   \n",
              "2                       0                       0                    1   \n",
              "3                       0                       0                    0   \n",
              "4                       0                       0                    0   \n",
              "5                       0                       0                    0   \n",
              "..                    ...                     ...                  ...   \n",
              "70                      1                       0                    0   \n",
              "71                      0                       0                    1   \n",
              "72                      0                       0                    1   \n",
              "73                      0                       1                    0   \n",
              "74                      0                       0                    0   \n",
              "\n",
              "    new_brand_Iphone  new_brand_Nokia  new_brand_Oneplus  new_brand_Oppo  \\\n",
              "1                  1                0                  0               0   \n",
              "2                  1                0                  0               0   \n",
              "3                  1                0                  0               0   \n",
              "4                  1                0                  0               0   \n",
              "5                  1                0                  0               0   \n",
              "..               ...              ...                ...             ...   \n",
              "70                 0                0                  0               0   \n",
              "71                 1                0                  0               0   \n",
              "72                 0                0                  0               0   \n",
              "73                 1                0                  0               0   \n",
              "74                 0                0                  0               0   \n",
              "\n",
              "    new_brand_Samsung  new_brand_ยังไม่รู้  \n",
              "1                   0                    0  \n",
              "2                   0                    0  \n",
              "3                   0                    0  \n",
              "4                   0                    0  \n",
              "5                   0                    0  \n",
              "..                ...                  ...  \n",
              "70                  0                    0  \n",
              "71                  0                    0  \n",
              "72                  1                    0  \n",
              "73                  0                    0  \n",
              "74                  1                    0  \n",
              "\n",
              "[69 rows x 36 columns]"
            ],
            "text/html": [
              "\n",
              "  <div id=\"df-0d956855-49eb-4d3b-887b-0220384a2e2e\" class=\"colab-df-container\">\n",
              "    <div>\n",
              "<style scoped>\n",
              "    .dataframe tbody tr th:only-of-type {\n",
              "        vertical-align: middle;\n",
              "    }\n",
              "\n",
              "    .dataframe tbody tr th {\n",
              "        vertical-align: top;\n",
              "    }\n",
              "\n",
              "    .dataframe thead th {\n",
              "        text-align: right;\n",
              "    }\n",
              "</style>\n",
              "<table border=\"1\" class=\"dataframe\">\n",
              "  <thead>\n",
              "    <tr style=\"text-align: right;\">\n",
              "      <th></th>\n",
              "      <th>gender_หญิง</th>\n",
              "      <th>age_26-30 ปี</th>\n",
              "      <th>age_31-35 ปี</th>\n",
              "      <th>age_36-40 ปี</th>\n",
              "      <th>job_ข้าราชการ</th>\n",
              "      <th>job_นักศึกษา</th>\n",
              "      <th>job_รัฐวิสาหกิจ</th>\n",
              "      <th>job_ว่างงาน</th>\n",
              "      <th>job_เอกชน</th>\n",
              "      <th>salary_30,001-40,000 บาท</th>\n",
              "      <th>...</th>\n",
              "      <th>photo_video_น้อยที่สุด</th>\n",
              "      <th>photo_video_บ่อยครั้ง</th>\n",
              "      <th>photo_video_บ่อยที่สุด</th>\n",
              "      <th>photo_video_ปานกลาง</th>\n",
              "      <th>new_brand_Iphone</th>\n",
              "      <th>new_brand_Nokia</th>\n",
              "      <th>new_brand_Oneplus</th>\n",
              "      <th>new_brand_Oppo</th>\n",
              "      <th>new_brand_Samsung</th>\n",
              "      <th>new_brand_ยังไม่รู้</th>\n",
              "    </tr>\n",
              "  </thead>\n",
              "  <tbody>\n",
              "    <tr>\n",
              "      <th>1</th>\n",
              "      <td>1</td>\n",
              "      <td>0</td>\n",
              "      <td>0</td>\n",
              "      <td>0</td>\n",
              "      <td>0</td>\n",
              "      <td>0</td>\n",
              "      <td>0</td>\n",
              "      <td>0</td>\n",
              "      <td>1</td>\n",
              "      <td>0</td>\n",
              "      <td>...</td>\n",
              "      <td>0</td>\n",
              "      <td>0</td>\n",
              "      <td>0</td>\n",
              "      <td>0</td>\n",
              "      <td>1</td>\n",
              "      <td>0</td>\n",
              "      <td>0</td>\n",
              "      <td>0</td>\n",
              "      <td>0</td>\n",
              "      <td>0</td>\n",
              "    </tr>\n",
              "    <tr>\n",
              "      <th>2</th>\n",
              "      <td>0</td>\n",
              "      <td>1</td>\n",
              "      <td>0</td>\n",
              "      <td>0</td>\n",
              "      <td>0</td>\n",
              "      <td>0</td>\n",
              "      <td>0</td>\n",
              "      <td>0</td>\n",
              "      <td>1</td>\n",
              "      <td>1</td>\n",
              "      <td>...</td>\n",
              "      <td>0</td>\n",
              "      <td>0</td>\n",
              "      <td>0</td>\n",
              "      <td>1</td>\n",
              "      <td>1</td>\n",
              "      <td>0</td>\n",
              "      <td>0</td>\n",
              "      <td>0</td>\n",
              "      <td>0</td>\n",
              "      <td>0</td>\n",
              "    </tr>\n",
              "    <tr>\n",
              "      <th>3</th>\n",
              "      <td>0</td>\n",
              "      <td>0</td>\n",
              "      <td>1</td>\n",
              "      <td>0</td>\n",
              "      <td>0</td>\n",
              "      <td>0</td>\n",
              "      <td>0</td>\n",
              "      <td>0</td>\n",
              "      <td>1</td>\n",
              "      <td>0</td>\n",
              "      <td>...</td>\n",
              "      <td>1</td>\n",
              "      <td>0</td>\n",
              "      <td>0</td>\n",
              "      <td>0</td>\n",
              "      <td>1</td>\n",
              "      <td>0</td>\n",
              "      <td>0</td>\n",
              "      <td>0</td>\n",
              "      <td>0</td>\n",
              "      <td>0</td>\n",
              "    </tr>\n",
              "    <tr>\n",
              "      <th>4</th>\n",
              "      <td>0</td>\n",
              "      <td>0</td>\n",
              "      <td>0</td>\n",
              "      <td>0</td>\n",
              "      <td>0</td>\n",
              "      <td>0</td>\n",
              "      <td>0</td>\n",
              "      <td>0</td>\n",
              "      <td>1</td>\n",
              "      <td>1</td>\n",
              "      <td>...</td>\n",
              "      <td>1</td>\n",
              "      <td>0</td>\n",
              "      <td>0</td>\n",
              "      <td>0</td>\n",
              "      <td>1</td>\n",
              "      <td>0</td>\n",
              "      <td>0</td>\n",
              "      <td>0</td>\n",
              "      <td>0</td>\n",
              "      <td>0</td>\n",
              "    </tr>\n",
              "    <tr>\n",
              "      <th>5</th>\n",
              "      <td>0</td>\n",
              "      <td>0</td>\n",
              "      <td>0</td>\n",
              "      <td>0</td>\n",
              "      <td>0</td>\n",
              "      <td>0</td>\n",
              "      <td>0</td>\n",
              "      <td>1</td>\n",
              "      <td>0</td>\n",
              "      <td>0</td>\n",
              "      <td>...</td>\n",
              "      <td>0</td>\n",
              "      <td>0</td>\n",
              "      <td>0</td>\n",
              "      <td>0</td>\n",
              "      <td>1</td>\n",
              "      <td>0</td>\n",
              "      <td>0</td>\n",
              "      <td>0</td>\n",
              "      <td>0</td>\n",
              "      <td>0</td>\n",
              "    </tr>\n",
              "    <tr>\n",
              "      <th>...</th>\n",
              "      <td>...</td>\n",
              "      <td>...</td>\n",
              "      <td>...</td>\n",
              "      <td>...</td>\n",
              "      <td>...</td>\n",
              "      <td>...</td>\n",
              "      <td>...</td>\n",
              "      <td>...</td>\n",
              "      <td>...</td>\n",
              "      <td>...</td>\n",
              "      <td>...</td>\n",
              "      <td>...</td>\n",
              "      <td>...</td>\n",
              "      <td>...</td>\n",
              "      <td>...</td>\n",
              "      <td>...</td>\n",
              "      <td>...</td>\n",
              "      <td>...</td>\n",
              "      <td>...</td>\n",
              "      <td>...</td>\n",
              "      <td>...</td>\n",
              "    </tr>\n",
              "    <tr>\n",
              "      <th>70</th>\n",
              "      <td>1</td>\n",
              "      <td>1</td>\n",
              "      <td>0</td>\n",
              "      <td>0</td>\n",
              "      <td>0</td>\n",
              "      <td>0</td>\n",
              "      <td>0</td>\n",
              "      <td>0</td>\n",
              "      <td>1</td>\n",
              "      <td>1</td>\n",
              "      <td>...</td>\n",
              "      <td>0</td>\n",
              "      <td>1</td>\n",
              "      <td>0</td>\n",
              "      <td>0</td>\n",
              "      <td>0</td>\n",
              "      <td>0</td>\n",
              "      <td>0</td>\n",
              "      <td>0</td>\n",
              "      <td>0</td>\n",
              "      <td>0</td>\n",
              "    </tr>\n",
              "    <tr>\n",
              "      <th>71</th>\n",
              "      <td>0</td>\n",
              "      <td>0</td>\n",
              "      <td>1</td>\n",
              "      <td>0</td>\n",
              "      <td>0</td>\n",
              "      <td>0</td>\n",
              "      <td>0</td>\n",
              "      <td>0</td>\n",
              "      <td>1</td>\n",
              "      <td>0</td>\n",
              "      <td>...</td>\n",
              "      <td>0</td>\n",
              "      <td>0</td>\n",
              "      <td>0</td>\n",
              "      <td>1</td>\n",
              "      <td>1</td>\n",
              "      <td>0</td>\n",
              "      <td>0</td>\n",
              "      <td>0</td>\n",
              "      <td>0</td>\n",
              "      <td>0</td>\n",
              "    </tr>\n",
              "    <tr>\n",
              "      <th>72</th>\n",
              "      <td>1</td>\n",
              "      <td>0</td>\n",
              "      <td>0</td>\n",
              "      <td>0</td>\n",
              "      <td>0</td>\n",
              "      <td>1</td>\n",
              "      <td>0</td>\n",
              "      <td>0</td>\n",
              "      <td>0</td>\n",
              "      <td>0</td>\n",
              "      <td>...</td>\n",
              "      <td>0</td>\n",
              "      <td>0</td>\n",
              "      <td>0</td>\n",
              "      <td>1</td>\n",
              "      <td>0</td>\n",
              "      <td>0</td>\n",
              "      <td>0</td>\n",
              "      <td>0</td>\n",
              "      <td>1</td>\n",
              "      <td>0</td>\n",
              "    </tr>\n",
              "    <tr>\n",
              "      <th>73</th>\n",
              "      <td>0</td>\n",
              "      <td>1</td>\n",
              "      <td>0</td>\n",
              "      <td>0</td>\n",
              "      <td>0</td>\n",
              "      <td>0</td>\n",
              "      <td>0</td>\n",
              "      <td>0</td>\n",
              "      <td>1</td>\n",
              "      <td>0</td>\n",
              "      <td>...</td>\n",
              "      <td>0</td>\n",
              "      <td>0</td>\n",
              "      <td>1</td>\n",
              "      <td>0</td>\n",
              "      <td>1</td>\n",
              "      <td>0</td>\n",
              "      <td>0</td>\n",
              "      <td>0</td>\n",
              "      <td>0</td>\n",
              "      <td>0</td>\n",
              "    </tr>\n",
              "    <tr>\n",
              "      <th>74</th>\n",
              "      <td>0</td>\n",
              "      <td>0</td>\n",
              "      <td>1</td>\n",
              "      <td>0</td>\n",
              "      <td>1</td>\n",
              "      <td>0</td>\n",
              "      <td>0</td>\n",
              "      <td>0</td>\n",
              "      <td>0</td>\n",
              "      <td>0</td>\n",
              "      <td>...</td>\n",
              "      <td>0</td>\n",
              "      <td>0</td>\n",
              "      <td>0</td>\n",
              "      <td>0</td>\n",
              "      <td>0</td>\n",
              "      <td>0</td>\n",
              "      <td>0</td>\n",
              "      <td>0</td>\n",
              "      <td>1</td>\n",
              "      <td>0</td>\n",
              "    </tr>\n",
              "  </tbody>\n",
              "</table>\n",
              "<p>69 rows × 36 columns</p>\n",
              "</div>\n",
              "    <div class=\"colab-df-buttons\">\n",
              "\n",
              "  <div class=\"colab-df-container\">\n",
              "    <button class=\"colab-df-convert\" onclick=\"convertToInteractive('df-0d956855-49eb-4d3b-887b-0220384a2e2e')\"\n",
              "            title=\"Convert this dataframe to an interactive table.\"\n",
              "            style=\"display:none;\">\n",
              "\n",
              "  <svg xmlns=\"http://www.w3.org/2000/svg\" height=\"24px\" viewBox=\"0 -960 960 960\">\n",
              "    <path d=\"M120-120v-720h720v720H120Zm60-500h600v-160H180v160Zm220 220h160v-160H400v160Zm0 220h160v-160H400v160ZM180-400h160v-160H180v160Zm440 0h160v-160H620v160ZM180-180h160v-160H180v160Zm440 0h160v-160H620v160Z\"/>\n",
              "  </svg>\n",
              "    </button>\n",
              "\n",
              "  <style>\n",
              "    .colab-df-container {\n",
              "      display:flex;\n",
              "      gap: 12px;\n",
              "    }\n",
              "\n",
              "    .colab-df-convert {\n",
              "      background-color: #E8F0FE;\n",
              "      border: none;\n",
              "      border-radius: 50%;\n",
              "      cursor: pointer;\n",
              "      display: none;\n",
              "      fill: #1967D2;\n",
              "      height: 32px;\n",
              "      padding: 0 0 0 0;\n",
              "      width: 32px;\n",
              "    }\n",
              "\n",
              "    .colab-df-convert:hover {\n",
              "      background-color: #E2EBFA;\n",
              "      box-shadow: 0px 1px 2px rgba(60, 64, 67, 0.3), 0px 1px 3px 1px rgba(60, 64, 67, 0.15);\n",
              "      fill: #174EA6;\n",
              "    }\n",
              "\n",
              "    .colab-df-buttons div {\n",
              "      margin-bottom: 4px;\n",
              "    }\n",
              "\n",
              "    [theme=dark] .colab-df-convert {\n",
              "      background-color: #3B4455;\n",
              "      fill: #D2E3FC;\n",
              "    }\n",
              "\n",
              "    [theme=dark] .colab-df-convert:hover {\n",
              "      background-color: #434B5C;\n",
              "      box-shadow: 0px 1px 3px 1px rgba(0, 0, 0, 0.15);\n",
              "      filter: drop-shadow(0px 1px 2px rgba(0, 0, 0, 0.3));\n",
              "      fill: #FFFFFF;\n",
              "    }\n",
              "  </style>\n",
              "\n",
              "    <script>\n",
              "      const buttonEl =\n",
              "        document.querySelector('#df-0d956855-49eb-4d3b-887b-0220384a2e2e button.colab-df-convert');\n",
              "      buttonEl.style.display =\n",
              "        google.colab.kernel.accessAllowed ? 'block' : 'none';\n",
              "\n",
              "      async function convertToInteractive(key) {\n",
              "        const element = document.querySelector('#df-0d956855-49eb-4d3b-887b-0220384a2e2e');\n",
              "        const dataTable =\n",
              "          await google.colab.kernel.invokeFunction('convertToInteractive',\n",
              "                                                    [key], {});\n",
              "        if (!dataTable) return;\n",
              "\n",
              "        const docLinkHtml = 'Like what you see? Visit the ' +\n",
              "          '<a target=\"_blank\" href=https://colab.research.google.com/notebooks/data_table.ipynb>data table notebook</a>'\n",
              "          + ' to learn more about interactive tables.';\n",
              "        element.innerHTML = '';\n",
              "        dataTable['output_type'] = 'display_data';\n",
              "        await google.colab.output.renderOutput(dataTable, element);\n",
              "        const docLink = document.createElement('div');\n",
              "        docLink.innerHTML = docLinkHtml;\n",
              "        element.appendChild(docLink);\n",
              "      }\n",
              "    </script>\n",
              "  </div>\n",
              "\n",
              "\n",
              "<div id=\"df-ab3ed807-9f56-4d5a-a6c1-f0a232cc1b5e\">\n",
              "  <button class=\"colab-df-quickchart\" onclick=\"quickchart('df-ab3ed807-9f56-4d5a-a6c1-f0a232cc1b5e')\"\n",
              "            title=\"Suggest charts\"\n",
              "            style=\"display:none;\">\n",
              "\n",
              "<svg xmlns=\"http://www.w3.org/2000/svg\" height=\"24px\"viewBox=\"0 0 24 24\"\n",
              "     width=\"24px\">\n",
              "    <g>\n",
              "        <path d=\"M19 3H5c-1.1 0-2 .9-2 2v14c0 1.1.9 2 2 2h14c1.1 0 2-.9 2-2V5c0-1.1-.9-2-2-2zM9 17H7v-7h2v7zm4 0h-2V7h2v10zm4 0h-2v-4h2v4z\"/>\n",
              "    </g>\n",
              "</svg>\n",
              "  </button>\n",
              "\n",
              "<style>\n",
              "  .colab-df-quickchart {\n",
              "      --bg-color: #E8F0FE;\n",
              "      --fill-color: #1967D2;\n",
              "      --hover-bg-color: #E2EBFA;\n",
              "      --hover-fill-color: #174EA6;\n",
              "      --disabled-fill-color: #AAA;\n",
              "      --disabled-bg-color: #DDD;\n",
              "  }\n",
              "\n",
              "  [theme=dark] .colab-df-quickchart {\n",
              "      --bg-color: #3B4455;\n",
              "      --fill-color: #D2E3FC;\n",
              "      --hover-bg-color: #434B5C;\n",
              "      --hover-fill-color: #FFFFFF;\n",
              "      --disabled-bg-color: #3B4455;\n",
              "      --disabled-fill-color: #666;\n",
              "  }\n",
              "\n",
              "  .colab-df-quickchart {\n",
              "    background-color: var(--bg-color);\n",
              "    border: none;\n",
              "    border-radius: 50%;\n",
              "    cursor: pointer;\n",
              "    display: none;\n",
              "    fill: var(--fill-color);\n",
              "    height: 32px;\n",
              "    padding: 0;\n",
              "    width: 32px;\n",
              "  }\n",
              "\n",
              "  .colab-df-quickchart:hover {\n",
              "    background-color: var(--hover-bg-color);\n",
              "    box-shadow: 0 1px 2px rgba(60, 64, 67, 0.3), 0 1px 3px 1px rgba(60, 64, 67, 0.15);\n",
              "    fill: var(--button-hover-fill-color);\n",
              "  }\n",
              "\n",
              "  .colab-df-quickchart-complete:disabled,\n",
              "  .colab-df-quickchart-complete:disabled:hover {\n",
              "    background-color: var(--disabled-bg-color);\n",
              "    fill: var(--disabled-fill-color);\n",
              "    box-shadow: none;\n",
              "  }\n",
              "\n",
              "  .colab-df-spinner {\n",
              "    border: 2px solid var(--fill-color);\n",
              "    border-color: transparent;\n",
              "    border-bottom-color: var(--fill-color);\n",
              "    animation:\n",
              "      spin 1s steps(1) infinite;\n",
              "  }\n",
              "\n",
              "  @keyframes spin {\n",
              "    0% {\n",
              "      border-color: transparent;\n",
              "      border-bottom-color: var(--fill-color);\n",
              "      border-left-color: var(--fill-color);\n",
              "    }\n",
              "    20% {\n",
              "      border-color: transparent;\n",
              "      border-left-color: var(--fill-color);\n",
              "      border-top-color: var(--fill-color);\n",
              "    }\n",
              "    30% {\n",
              "      border-color: transparent;\n",
              "      border-left-color: var(--fill-color);\n",
              "      border-top-color: var(--fill-color);\n",
              "      border-right-color: var(--fill-color);\n",
              "    }\n",
              "    40% {\n",
              "      border-color: transparent;\n",
              "      border-right-color: var(--fill-color);\n",
              "      border-top-color: var(--fill-color);\n",
              "    }\n",
              "    60% {\n",
              "      border-color: transparent;\n",
              "      border-right-color: var(--fill-color);\n",
              "    }\n",
              "    80% {\n",
              "      border-color: transparent;\n",
              "      border-right-color: var(--fill-color);\n",
              "      border-bottom-color: var(--fill-color);\n",
              "    }\n",
              "    90% {\n",
              "      border-color: transparent;\n",
              "      border-bottom-color: var(--fill-color);\n",
              "    }\n",
              "  }\n",
              "</style>\n",
              "\n",
              "  <script>\n",
              "    async function quickchart(key) {\n",
              "      const quickchartButtonEl =\n",
              "        document.querySelector('#' + key + ' button');\n",
              "      quickchartButtonEl.disabled = true;  // To prevent multiple clicks.\n",
              "      quickchartButtonEl.classList.add('colab-df-spinner');\n",
              "      try {\n",
              "        const charts = await google.colab.kernel.invokeFunction(\n",
              "            'suggestCharts', [key], {});\n",
              "      } catch (error) {\n",
              "        console.error('Error during call to suggestCharts:', error);\n",
              "      }\n",
              "      quickchartButtonEl.classList.remove('colab-df-spinner');\n",
              "      quickchartButtonEl.classList.add('colab-df-quickchart-complete');\n",
              "    }\n",
              "    (() => {\n",
              "      let quickchartButtonEl =\n",
              "        document.querySelector('#df-ab3ed807-9f56-4d5a-a6c1-f0a232cc1b5e button');\n",
              "      quickchartButtonEl.style.display =\n",
              "        google.colab.kernel.accessAllowed ? 'block' : 'none';\n",
              "    })();\n",
              "  </script>\n",
              "</div>\n",
              "\n",
              "  <div id=\"id_be2d1ca5-71d1-4c07-8fce-fc3cfca252da\">\n",
              "    <style>\n",
              "      .colab-df-generate {\n",
              "        background-color: #E8F0FE;\n",
              "        border: none;\n",
              "        border-radius: 50%;\n",
              "        cursor: pointer;\n",
              "        display: none;\n",
              "        fill: #1967D2;\n",
              "        height: 32px;\n",
              "        padding: 0 0 0 0;\n",
              "        width: 32px;\n",
              "      }\n",
              "\n",
              "      .colab-df-generate:hover {\n",
              "        background-color: #E2EBFA;\n",
              "        box-shadow: 0px 1px 2px rgba(60, 64, 67, 0.3), 0px 1px 3px 1px rgba(60, 64, 67, 0.15);\n",
              "        fill: #174EA6;\n",
              "      }\n",
              "\n",
              "      [theme=dark] .colab-df-generate {\n",
              "        background-color: #3B4455;\n",
              "        fill: #D2E3FC;\n",
              "      }\n",
              "\n",
              "      [theme=dark] .colab-df-generate:hover {\n",
              "        background-color: #434B5C;\n",
              "        box-shadow: 0px 1px 3px 1px rgba(0, 0, 0, 0.15);\n",
              "        filter: drop-shadow(0px 1px 2px rgba(0, 0, 0, 0.3));\n",
              "        fill: #FFFFFF;\n",
              "      }\n",
              "    </style>\n",
              "    <button class=\"colab-df-generate\" onclick=\"generateWithVariable('X')\"\n",
              "            title=\"Generate code using this dataframe.\"\n",
              "            style=\"display:none;\">\n",
              "\n",
              "  <svg xmlns=\"http://www.w3.org/2000/svg\" height=\"24px\"viewBox=\"0 0 24 24\"\n",
              "       width=\"24px\">\n",
              "    <path d=\"M7,19H8.4L18.45,9,17,7.55,7,17.6ZM5,21V16.75L18.45,3.32a2,2,0,0,1,2.83,0l1.4,1.43a1.91,1.91,0,0,1,.58,1.4,1.91,1.91,0,0,1-.58,1.4L9.25,21ZM18.45,9,17,7.55Zm-12,3A5.31,5.31,0,0,0,4.9,8.1,5.31,5.31,0,0,0,1,6.5,5.31,5.31,0,0,0,4.9,4.9,5.31,5.31,0,0,0,6.5,1,5.31,5.31,0,0,0,8.1,4.9,5.31,5.31,0,0,0,12,6.5,5.46,5.46,0,0,0,6.5,12Z\"/>\n",
              "  </svg>\n",
              "    </button>\n",
              "    <script>\n",
              "      (() => {\n",
              "      const buttonEl =\n",
              "        document.querySelector('#id_be2d1ca5-71d1-4c07-8fce-fc3cfca252da button.colab-df-generate');\n",
              "      buttonEl.style.display =\n",
              "        google.colab.kernel.accessAllowed ? 'block' : 'none';\n",
              "\n",
              "      buttonEl.onclick = () => {\n",
              "        google.colab.notebook.generateWithVariable('X');\n",
              "      }\n",
              "      })();\n",
              "    </script>\n",
              "  </div>\n",
              "\n",
              "    </div>\n",
              "  </div>\n"
            ],
            "application/vnd.google.colaboratory.intrinsic+json": {
              "type": "dataframe",
              "variable_name": "X"
            }
          },
          "metadata": {},
          "execution_count": 65
        }
      ]
    },
    {
      "cell_type": "markdown",
      "source": [
        "## 2. Train and Test (70%: 30%)"
      ],
      "metadata": {
        "id": "W5hcDDV2PkS9"
      }
    },
    {
      "cell_type": "code",
      "source": [
        "# แบ่งข้อมูลเป็น train และ test sets, เลข random_state = 42 ดีที่สุด\n",
        "X_train, X_test, y_train, y_test = train_test_split(X, y, test_size=0.3, random_state=42)"
      ],
      "metadata": {
        "id": "bxUj0OczCGQM"
      },
      "execution_count": 66,
      "outputs": []
    },
    {
      "cell_type": "markdown",
      "source": [
        "## 3. Train Model"
      ],
      "metadata": {
        "id": "jkq3trm5aw0y"
      }
    },
    {
      "cell_type": "markdown",
      "source": [
        "### 3.1 Train โมเดล Multinomial Logistic Regression"
      ],
      "metadata": {
        "id": "04y6lytm8mTx"
      }
    },
    {
      "cell_type": "code",
      "source": [
        "model = LogisticRegression(multi_class='multinomial', solver='lbfgs', random_state=42)\n",
        "model.fit(X_train, y_train)"
      ],
      "metadata": {
        "id": "gbYVypzX1UIC",
        "outputId": "70078557-52b5-44f1-f763-f24e3e859b46",
        "colab": {
          "base_uri": "https://localhost:8080/",
          "height": 75
        }
      },
      "execution_count": 67,
      "outputs": [
        {
          "output_type": "execute_result",
          "data": {
            "text/plain": [
              "LogisticRegression(multi_class='multinomial', random_state=42)"
            ],
            "text/html": [
              "<style>#sk-container-id-5 {color: black;}#sk-container-id-5 pre{padding: 0;}#sk-container-id-5 div.sk-toggleable {background-color: white;}#sk-container-id-5 label.sk-toggleable__label {cursor: pointer;display: block;width: 100%;margin-bottom: 0;padding: 0.3em;box-sizing: border-box;text-align: center;}#sk-container-id-5 label.sk-toggleable__label-arrow:before {content: \"▸\";float: left;margin-right: 0.25em;color: #696969;}#sk-container-id-5 label.sk-toggleable__label-arrow:hover:before {color: black;}#sk-container-id-5 div.sk-estimator:hover label.sk-toggleable__label-arrow:before {color: black;}#sk-container-id-5 div.sk-toggleable__content {max-height: 0;max-width: 0;overflow: hidden;text-align: left;background-color: #f0f8ff;}#sk-container-id-5 div.sk-toggleable__content pre {margin: 0.2em;color: black;border-radius: 0.25em;background-color: #f0f8ff;}#sk-container-id-5 input.sk-toggleable__control:checked~div.sk-toggleable__content {max-height: 200px;max-width: 100%;overflow: auto;}#sk-container-id-5 input.sk-toggleable__control:checked~label.sk-toggleable__label-arrow:before {content: \"▾\";}#sk-container-id-5 div.sk-estimator input.sk-toggleable__control:checked~label.sk-toggleable__label {background-color: #d4ebff;}#sk-container-id-5 div.sk-label input.sk-toggleable__control:checked~label.sk-toggleable__label {background-color: #d4ebff;}#sk-container-id-5 input.sk-hidden--visually {border: 0;clip: rect(1px 1px 1px 1px);clip: rect(1px, 1px, 1px, 1px);height: 1px;margin: -1px;overflow: hidden;padding: 0;position: absolute;width: 1px;}#sk-container-id-5 div.sk-estimator {font-family: monospace;background-color: #f0f8ff;border: 1px dotted black;border-radius: 0.25em;box-sizing: border-box;margin-bottom: 0.5em;}#sk-container-id-5 div.sk-estimator:hover {background-color: #d4ebff;}#sk-container-id-5 div.sk-parallel-item::after {content: \"\";width: 100%;border-bottom: 1px solid gray;flex-grow: 1;}#sk-container-id-5 div.sk-label:hover label.sk-toggleable__label {background-color: #d4ebff;}#sk-container-id-5 div.sk-serial::before {content: \"\";position: absolute;border-left: 1px solid gray;box-sizing: border-box;top: 0;bottom: 0;left: 50%;z-index: 0;}#sk-container-id-5 div.sk-serial {display: flex;flex-direction: column;align-items: center;background-color: white;padding-right: 0.2em;padding-left: 0.2em;position: relative;}#sk-container-id-5 div.sk-item {position: relative;z-index: 1;}#sk-container-id-5 div.sk-parallel {display: flex;align-items: stretch;justify-content: center;background-color: white;position: relative;}#sk-container-id-5 div.sk-item::before, #sk-container-id-5 div.sk-parallel-item::before {content: \"\";position: absolute;border-left: 1px solid gray;box-sizing: border-box;top: 0;bottom: 0;left: 50%;z-index: -1;}#sk-container-id-5 div.sk-parallel-item {display: flex;flex-direction: column;z-index: 1;position: relative;background-color: white;}#sk-container-id-5 div.sk-parallel-item:first-child::after {align-self: flex-end;width: 50%;}#sk-container-id-5 div.sk-parallel-item:last-child::after {align-self: flex-start;width: 50%;}#sk-container-id-5 div.sk-parallel-item:only-child::after {width: 0;}#sk-container-id-5 div.sk-dashed-wrapped {border: 1px dashed gray;margin: 0 0.4em 0.5em 0.4em;box-sizing: border-box;padding-bottom: 0.4em;background-color: white;}#sk-container-id-5 div.sk-label label {font-family: monospace;font-weight: bold;display: inline-block;line-height: 1.2em;}#sk-container-id-5 div.sk-label-container {text-align: center;}#sk-container-id-5 div.sk-container {/* jupyter's `normalize.less` sets `[hidden] { display: none; }` but bootstrap.min.css set `[hidden] { display: none !important; }` so we also need the `!important` here to be able to override the default hidden behavior on the sphinx rendered scikit-learn.org. See: https://github.com/scikit-learn/scikit-learn/issues/21755 */display: inline-block !important;position: relative;}#sk-container-id-5 div.sk-text-repr-fallback {display: none;}</style><div id=\"sk-container-id-5\" class=\"sk-top-container\"><div class=\"sk-text-repr-fallback\"><pre>LogisticRegression(multi_class=&#x27;multinomial&#x27;, random_state=42)</pre><b>In a Jupyter environment, please rerun this cell to show the HTML representation or trust the notebook. <br />On GitHub, the HTML representation is unable to render, please try loading this page with nbviewer.org.</b></div><div class=\"sk-container\" hidden><div class=\"sk-item\"><div class=\"sk-estimator sk-toggleable\"><input class=\"sk-toggleable__control sk-hidden--visually\" id=\"sk-estimator-id-5\" type=\"checkbox\" checked><label for=\"sk-estimator-id-5\" class=\"sk-toggleable__label sk-toggleable__label-arrow\">LogisticRegression</label><div class=\"sk-toggleable__content\"><pre>LogisticRegression(multi_class=&#x27;multinomial&#x27;, random_state=42)</pre></div></div></div></div></div>"
            ]
          },
          "metadata": {},
          "execution_count": 67
        }
      ]
    },
    {
      "cell_type": "markdown",
      "source": [
        "### 3.2 ทำนายผลลัพธ์ และประเมินประสิทธิภาพของโมเดล"
      ],
      "metadata": {
        "id": "9jkt1lBo8vGR"
      }
    },
    {
      "cell_type": "markdown",
      "source": [
        "- ทำนายผลลัพธ์"
      ],
      "metadata": {
        "id": "DPBr-Yrf870r"
      }
    },
    {
      "cell_type": "code",
      "source": [
        "y_pred = model.predict(X_test)"
      ],
      "metadata": {
        "id": "G9bmXP3_9AMy"
      },
      "execution_count": 68,
      "outputs": []
    },
    {
      "cell_type": "markdown",
      "source": [
        "- ประเมินประสิทธิภาพของโมเดล และแสดง confusion matrix heatmap"
      ],
      "metadata": {
        "id": "YdVmc-C09DGb"
      }
    },
    {
      "cell_type": "code",
      "source": [
        "# (1) ประเมินประสิทธิภาพของโมเดล\n",
        "accuracy = accuracy_score(y_test, y_pred)\n",
        "print(f\"Accuracy: {accuracy:.2f}\")\n",
        "\n",
        "print(\"\\nClassification Report:\")\n",
        "report =  classification_report(y_test, y_pred, target_names=le.classes_, output_dict=True)\n",
        "df_report = pd.DataFrame(report).transpose()\n",
        "print(df_report)\n",
        "\n",
        "print(\"\\nConfusion Matrix:\")\n",
        "conf_matrix = confusion_matrix(y_test, y_pred)\n",
        "print(conf_matrix)\n",
        "\n",
        "# (2) สร้าง confusion matrix heatmap\n",
        "plt.figure(figsize=(10, 8))\n",
        "sns.heatmap(conf_matrix, annot=True, fmt='d', cmap='Blues',\n",
        "            xticklabels=le.classes_, yticklabels=le.classes_)\n",
        "plt.title('Confusion Matrix')\n",
        "plt.xlabel('Predicted')\n",
        "plt.ylabel('Actual')\n",
        "plt.show()"
      ],
      "metadata": {
        "colab": {
          "base_uri": "https://localhost:8080/",
          "height": 945
        },
        "id": "7bQhHFh7a3ro",
        "outputId": "6fb8514c-6206-4ada-f3f7-0f67b5e086ae"
      },
      "execution_count": 69,
      "outputs": [
        {
          "output_type": "stream",
          "name": "stdout",
          "text": [
            "Accuracy: 1.00\n",
            "\n",
            "Classification Report:\n",
            "              precision  recall  f1-score  support\n",
            "Android             1.0     1.0       1.0      2.0\n",
            "IOS                 1.0     1.0       1.0     19.0\n",
            "accuracy            1.0     1.0       1.0      1.0\n",
            "macro avg           1.0     1.0       1.0     21.0\n",
            "weighted avg        1.0     1.0       1.0     21.0\n",
            "\n",
            "Confusion Matrix:\n",
            "[[ 2  0]\n",
            " [ 0 19]]\n"
          ]
        },
        {
          "output_type": "display_data",
          "data": {
            "text/plain": [
              "<Figure size 1000x800 with 2 Axes>"
            ],
            "image/png": "[encoded data removed]"
          },
          "metadata": {}
        }
      ]
    },
    {
      "cell_type": "code",
      "source": [
        "warnings.filterwarnings('ignore') # ปรับไม่ให้แสดงข้อความ warning\n",
        "\n",
        "scaler = StandardScaler() # create the scaler object\n",
        "scaler.fit(X_train) # fit the scaler object to the training data\n",
        "\n",
        "# ทดสอบการทำนายด้วยข้อมูลใหม่\n",
        "new_data = X_test.iloc[0:1]  # ใช้ข้อมูลแถวแรกของ test set เป็นตัวอย่าง\n",
        "new_data_scaled = scaler.transform(new_data)\n",
        "prediction = model.predict(new_data_scaled)\n",
        "prediction_proba = model.predict_proba(new_data_scaled)\n",
        "\n",
        "print(\"\\nPrediction for new data:\")\n",
        "print(\"Predicted OS:\", le.inverse_transform(prediction)[0])\n",
        "print(\"Probabilities:\")\n",
        "for os, prob in zip(le.classes_, prediction_proba[0]):\n",
        "    print(f\"{os}: {prob:.4f}\")"
      ],
      "metadata": {
        "id": "kuwlclzlSvH2",
        "colab": {
          "base_uri": "https://localhost:8080/"
        },
        "outputId": "cac1b51d-bff4-437b-af94-abda505d6990"
      },
      "execution_count": 82,
      "outputs": [
        {
          "output_type": "stream",
          "name": "stdout",
          "text": [
            "\n",
            "Prediction for new data:\n",
            "Predicted OS: IOS\n",
            "Probabilities:\n",
            "Android: 0.3105\n",
            "IOS: 0.6895\n"
          ]
        }
      ]
    },
    {
      "cell_type": "markdown",
      "source": [
        "## 4. SHAP Explain"
      ],
      "metadata": {
        "id": "-Zj2VgPOEHR1"
      }
    },
    {
      "cell_type": "markdown",
      "source": [
        "### 4.1 Build on X Train"
      ],
      "metadata": {
        "id": "yyn3lGG7ESZb"
      }
    },
    {
      "cell_type": "code",
      "source": [
        "explainer = shap.Explainer(model, X_train)"
      ],
      "metadata": {
        "id": "cfXKFl_NEXti"
      },
      "execution_count": 73,
      "outputs": []
    },
    {
      "cell_type": "markdown",
      "source": [
        "### 4.2 Explained X Test"
      ],
      "metadata": {
        "id": "NwoQPua4EYM8"
      }
    },
    {
      "cell_type": "code",
      "source": [
        "shap_values = explainer.shap_values(X_test)"
      ],
      "metadata": {
        "id": "Svxfb9EKEd0V"
      },
      "execution_count": 74,
      "outputs": []
    },
    {
      "cell_type": "markdown",
      "source": [
        "## 5. Results"
      ],
      "metadata": {
        "id": "q4gPNWtkGICO"
      }
    },
    {
      "cell_type": "markdown",
      "source": [
        "### 5.1 Rank Feature Importance by using beeswarm"
      ],
      "metadata": {
        "id": "FfCLyLoJGOa_"
      }
    },
    {
      "cell_type": "code",
      "source": [
        "# วิเคราะห์ความสำคัญของ Features\n",
        "plt.title('The Ranking of Important Features')\n",
        "plt.xlabel('Importance')\n",
        "plt.ylabel('Feature')\n",
        "shap.summary_plot(shap_values, X_test, plot_type=\"bar\")"
      ],
      "metadata": {
        "id": "mSw4zvenGVk2",
        "outputId": "5707ec4b-e609-47d9-d77b-ee77c8ef8f23",
        "colab": {
          "base_uri": "https://localhost:8080/",
          "height": 957
        }
      },
      "execution_count": 80,
      "outputs": [
        {
          "output_type": "display_data",
          "data": {
            "text/plain": [
              "<Figure size 800x950 with 1 Axes>"
            ],
            "image/png": "[encoded data removed]"
          },
          "metadata": {}
        }
      ]
    },
    {
      "cell_type": "markdown",
      "source": [
        "### 5.2 Analyze one sample (Randomly) from test set"
      ],
      "metadata": {
        "id": "5nigwoATGbRc"
      }
    },
    {
      "cell_type": "code",
      "source": [],
      "metadata": {
        "id": "8Ph9Z1RhHZRd"
      },
      "execution_count": 77,
      "outputs": []
    }
  ]
}