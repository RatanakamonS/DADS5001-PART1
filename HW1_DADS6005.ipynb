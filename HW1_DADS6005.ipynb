{
  "cells": [
    {
      "cell_type": "markdown",
      "metadata": {
        "id": "view-in-github",
        "colab_type": "text"
      },
      "source": [
        "<a href=\"https://colab.research.google.com/github/RatanakamonS/DADS5001-PART1/blob/main/HW1_DADS6005.ipynb\" target=\"_parent\"><img src=\"https://colab.research.google.com/assets/colab-badge.svg\" alt=\"Open In Colab\"/></a>"
      ]
    },
    {
      "cell_type": "code",
      "execution_count": 1,
      "metadata": {
        "id": "_-B5rlVly2PG",
        "colab": {
          "base_uri": "https://localhost:8080/"
        },
        "outputId": "0a6220dc-6da1-4a89-943b-319e46dc9a97"
      },
      "outputs": [
        {
          "output_type": "stream",
          "name": "stdout",
          "text": [
            "Collecting pytchat\n",
            "  Downloading pytchat-0.5.5-py3-none-any.whl.metadata (4.7 kB)\n",
            "Requirement already satisfied: httpx[http2] in /usr/local/lib/python3.11/dist-packages (from pytchat) (0.28.1)\n",
            "Requirement already satisfied: anyio in /usr/local/lib/python3.11/dist-packages (from httpx[http2]->pytchat) (3.7.1)\n",
            "Requirement already satisfied: certifi in /usr/local/lib/python3.11/dist-packages (from httpx[http2]->pytchat) (2024.12.14)\n",
            "Requirement already satisfied: httpcore==1.* in /usr/local/lib/python3.11/dist-packages (from httpx[http2]->pytchat) (1.0.7)\n",
            "Requirement already satisfied: idna in /usr/local/lib/python3.11/dist-packages (from httpx[http2]->pytchat) (3.10)\n",
            "Collecting h2<5,>=3 (from httpx[http2]->pytchat)\n",
            "  Downloading h2-4.1.0-py3-none-any.whl.metadata (3.6 kB)\n",
            "Requirement already satisfied: h11<0.15,>=0.13 in /usr/local/lib/python3.11/dist-packages (from httpcore==1.*->httpx[http2]->pytchat) (0.14.0)\n",
            "Collecting hyperframe<7,>=6.0 (from h2<5,>=3->httpx[http2]->pytchat)\n",
            "  Downloading hyperframe-6.1.0-py3-none-any.whl.metadata (4.3 kB)\n",
            "Collecting hpack<5,>=4.0 (from h2<5,>=3->httpx[http2]->pytchat)\n",
            "  Downloading hpack-4.1.0-py3-none-any.whl.metadata (4.6 kB)\n",
            "Requirement already satisfied: sniffio>=1.1 in /usr/local/lib/python3.11/dist-packages (from anyio->httpx[http2]->pytchat) (1.3.1)\n",
            "Downloading pytchat-0.5.5-py3-none-any.whl (69 kB)\n",
            "\u001b[2K   \u001b[90m━━━━━━━━━━━━━━━━━━━━━━━━━━━━━━━━━━━━━━━━\u001b[0m \u001b[32m69.5/69.5 kB\u001b[0m \u001b[31m2.1 MB/s\u001b[0m eta \u001b[36m0:00:00\u001b[0m\n",
            "\u001b[?25hDownloading h2-4.1.0-py3-none-any.whl (57 kB)\n",
            "\u001b[2K   \u001b[90m━━━━━━━━━━━━━━━━━━━━━━━━━━━━━━━━━━━━━━━━\u001b[0m \u001b[32m57.5/57.5 kB\u001b[0m \u001b[31m5.0 MB/s\u001b[0m eta \u001b[36m0:00:00\u001b[0m\n",
            "\u001b[?25hDownloading hpack-4.1.0-py3-none-any.whl (34 kB)\n",
            "Downloading hyperframe-6.1.0-py3-none-any.whl (13 kB)\n",
            "Installing collected packages: hyperframe, hpack, h2, pytchat\n",
            "Successfully installed h2-4.1.0 hpack-4.1.0 hyperframe-6.1.0 pytchat-0.5.5\n",
            "Collecting emoji\n",
            "  Downloading emoji-2.14.1-py3-none-any.whl.metadata (5.7 kB)\n",
            "Downloading emoji-2.14.1-py3-none-any.whl (590 kB)\n",
            "\u001b[2K   \u001b[90m━━━━━━━━━━━━━━━━━━━━━━━━━━━━━━━━━━━━━━━━\u001b[0m \u001b[32m590.6/590.6 kB\u001b[0m \u001b[31m8.6 MB/s\u001b[0m eta \u001b[36m0:00:00\u001b[0m\n",
            "\u001b[?25hInstalling collected packages: emoji\n",
            "Successfully installed emoji-2.14.1\n"
          ]
        }
      ],
      "source": [
        "!pip install pytchat\n",
        "!pip install emoji\n",
        "!pip install -q transformers"
      ]
    },
    {
      "cell_type": "code",
      "execution_count": null,
      "metadata": {
        "id": "qZo9ELwQ0dy4",
        "outputId": "a05ca9cf-59e7-42d3-8620-9d861941304c",
        "colab": {
          "base_uri": "https://localhost:8080/"
        }
      },
      "outputs": [
        {
          "output_type": "stream",
          "name": "stdout",
          "text": [
            "2025-01-23 00:17:40 [ทรงวุฒิ อิสระโกศล]- ตายในน้ำแล้วถูกลากขึ้นบกเอาเข้า ตู้แช่เลยล่ะ\n",
            "2025-01-23 00:20:50 [Yai Arson]- หมอปลาอย่าบอกตายในนํ้าก่อนค่ะ\n",
            "2025-01-23 00:53:59 [ดนัย เพ็งชัย]- :christmas_tree:ปีใหม่อีกแล้ว ๒๕๖๘ ขอพีแตงโมหลับให้สบายนะครับ ไปสุ่ภพภู่มทีดีครับ เดียวผมให้พีกัญไปลงงาน:christmas_tree:\n",
            "2025-01-23 01:09:59 [Cbfh Xzcc]- ขนาดนั้นเลยเรอะหมอปลา\n",
            "2025-01-23 01:45:02 [โลกที่ไม่มี เธอ]- ตายในน้ำมันลิ้นจุปากได้หรอ\n",
            "2025-01-23 01:50:23 [Nantawat Panthong]- หมอเดา\n"
          ]
        }
      ],
      "source": [
        "import pytchat\n",
        "import emoji\n",
        "import pandas as pd\n",
        "\n",
        "def clean_message(msg):\n",
        "    # Handle YouTube custom emotes that appear like :emoji_name:\n",
        "    return msg.replace(\"::\", \": :\")\n",
        "\n",
        "chat_data = []\n",
        "\n",
        "chat = pytchat.create(video_id=\"8IlNjufJb3Y\")\n",
        "while chat.is_alive():\n",
        "    for c in chat.get().sync_items():\n",
        "      message = clean_message(emoji.emojize(c.message))\n",
        "      print(f\"{c.datetime} [{c.author.name}]- {c.message}\")\n",
        "\n",
        "      chat_data.append({\n",
        "          'datetime': c.datetime,\n",
        "          'author': c.author.name,\n",
        "          'message': c.message\n",
        "          })\n",
        "\n",
        "df = pd.DataFrame(chat_data)\n",
        "df.to_csv('Taengmo_live_chat.csv', index=False, encoding='utf-8-sig')\n",
        "\n",
        "from google.colab import files\n",
        "files.download(\"Taengmo_live_chat.csv\")\n",
        "\n",
        "print(\"\\nบันทึกไฟล์เรียบร้อยแล้ว: youtube_chat.csv\")"
      ]
    }
  ],
  "metadata": {
    "colab": {
      "provenance": [],
      "gpuType": "T4",
      "include_colab_link": true
    },
    "kernelspec": {
      "display_name": "Python 3",
      "name": "python3"
    },
    "language_info": {
      "name": "python"
    },
    "accelerator": "GPU"
  },
  "nbformat": 4,
  "nbformat_minor": 0
}